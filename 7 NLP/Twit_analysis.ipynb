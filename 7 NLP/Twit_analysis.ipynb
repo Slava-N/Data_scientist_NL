{
 "cells": [
  {
   "cell_type": "code",
   "execution_count": 219,
   "metadata": {
    "collapsed": true,
    "scrolled": true
   },
   "outputs": [],
   "source": [
    "import pandas as pd\n"
   ]
  },
  {
   "cell_type": "code",
   "execution_count": 220,
   "metadata": {
    "collapsed": true,
    "scrolled": true
   },
   "outputs": [],
   "source": [
    "negative_path = \"twit_data/negative.csv\"\n",
    "positive_path = \"twit_data/positive.csv\"\n",
    "col_names = ['twit_number','time_date','name','twit_text','positive_negative','replays','retwits','favorites','total_messages','followers','friends','lists']"
   ]
  },
  {
   "cell_type": "code",
   "execution_count": 221,
   "metadata": {
    "collapsed": true,
    "scrolled": true
   },
   "outputs": [],
   "source": [
    "#импорт данных\n",
    "\n",
    "negative_twits = pd.read_csv(negative_path,sep=';',names=col_names)\n",
    "positive_twits = pd.read_csv(positive_path,sep=';',names=col_names)"
   ]
  },
  {
   "cell_type": "code",
   "execution_count": 222,
   "metadata": {
    "scrolled": false
   },
   "outputs": [
    {
     "data": {
      "text/html": [
       "<div>\n",
       "<style>\n",
       "    .dataframe thead tr:only-child th {\n",
       "        text-align: right;\n",
       "    }\n",
       "\n",
       "    .dataframe thead th {\n",
       "        text-align: left;\n",
       "    }\n",
       "\n",
       "    .dataframe tbody tr th {\n",
       "        vertical-align: top;\n",
       "    }\n",
       "</style>\n",
       "<table border=\"1\" class=\"dataframe\">\n",
       "  <thead>\n",
       "    <tr style=\"text-align: right;\">\n",
       "      <th></th>\n",
       "      <th>twit_number</th>\n",
       "      <th>time_date</th>\n",
       "      <th>name</th>\n",
       "      <th>twit_text</th>\n",
       "      <th>positive_negative</th>\n",
       "      <th>replays</th>\n",
       "      <th>retwits</th>\n",
       "      <th>favorites</th>\n",
       "      <th>total_messages</th>\n",
       "      <th>followers</th>\n",
       "      <th>friends</th>\n",
       "      <th>lists</th>\n",
       "    </tr>\n",
       "  </thead>\n",
       "  <tbody>\n",
       "    <tr>\n",
       "      <th>0</th>\n",
       "      <td>408906762813579264</td>\n",
       "      <td>1386325944</td>\n",
       "      <td>dugarchikbellko</td>\n",
       "      <td>на работе был полный пиддес :| и так каждое за...</td>\n",
       "      <td>-1</td>\n",
       "      <td>0</td>\n",
       "      <td>0</td>\n",
       "      <td>0</td>\n",
       "      <td>8064</td>\n",
       "      <td>111</td>\n",
       "      <td>94</td>\n",
       "      <td>2</td>\n",
       "    </tr>\n",
       "    <tr>\n",
       "      <th>1</th>\n",
       "      <td>408906818262687744</td>\n",
       "      <td>1386325957</td>\n",
       "      <td>nugemycejela</td>\n",
       "      <td>Коллеги сидят рубятся в Urban terror, а я из-з...</td>\n",
       "      <td>-1</td>\n",
       "      <td>0</td>\n",
       "      <td>0</td>\n",
       "      <td>0</td>\n",
       "      <td>26</td>\n",
       "      <td>42</td>\n",
       "      <td>39</td>\n",
       "      <td>0</td>\n",
       "    </tr>\n",
       "    <tr>\n",
       "      <th>2</th>\n",
       "      <td>408906858515398656</td>\n",
       "      <td>1386325966</td>\n",
       "      <td>4post21</td>\n",
       "      <td>@elina_4post как говорят обещаного три года жд...</td>\n",
       "      <td>-1</td>\n",
       "      <td>0</td>\n",
       "      <td>0</td>\n",
       "      <td>0</td>\n",
       "      <td>718</td>\n",
       "      <td>49</td>\n",
       "      <td>249</td>\n",
       "      <td>0</td>\n",
       "    </tr>\n",
       "  </tbody>\n",
       "</table>\n",
       "</div>"
      ],
      "text/plain": [
       "          twit_number   time_date             name  \\\n",
       "0  408906762813579264  1386325944  dugarchikbellko   \n",
       "1  408906818262687744  1386325957     nugemycejela   \n",
       "2  408906858515398656  1386325966          4post21   \n",
       "\n",
       "                                           twit_text  positive_negative  \\\n",
       "0  на работе был полный пиддес :| и так каждое за...                 -1   \n",
       "1  Коллеги сидят рубятся в Urban terror, а я из-з...                 -1   \n",
       "2  @elina_4post как говорят обещаного три года жд...                 -1   \n",
       "\n",
       "   replays  retwits  favorites  total_messages  followers  friends  lists  \n",
       "0        0        0          0            8064        111       94      2  \n",
       "1        0        0          0              26         42       39      0  \n",
       "2        0        0          0             718         49      249      0  "
      ]
     },
     "execution_count": 222,
     "metadata": {},
     "output_type": "execute_result"
    }
   ],
   "source": [
    "negative_twits.head(3)"
   ]
  },
  {
   "cell_type": "code",
   "execution_count": 223,
   "metadata": {
    "scrolled": false
   },
   "outputs": [
    {
     "data": {
      "text/html": [
       "<div>\n",
       "<style>\n",
       "    .dataframe thead tr:only-child th {\n",
       "        text-align: right;\n",
       "    }\n",
       "\n",
       "    .dataframe thead th {\n",
       "        text-align: left;\n",
       "    }\n",
       "\n",
       "    .dataframe tbody tr th {\n",
       "        vertical-align: top;\n",
       "    }\n",
       "</style>\n",
       "<table border=\"1\" class=\"dataframe\">\n",
       "  <thead>\n",
       "    <tr style=\"text-align: right;\">\n",
       "      <th></th>\n",
       "      <th>twit_number</th>\n",
       "      <th>time_date</th>\n",
       "      <th>name</th>\n",
       "      <th>twit_text</th>\n",
       "      <th>positive_negative</th>\n",
       "      <th>replays</th>\n",
       "      <th>retwits</th>\n",
       "      <th>favorites</th>\n",
       "      <th>total_messages</th>\n",
       "      <th>followers</th>\n",
       "      <th>friends</th>\n",
       "      <th>lists</th>\n",
       "    </tr>\n",
       "  </thead>\n",
       "  <tbody>\n",
       "    <tr>\n",
       "      <th>0</th>\n",
       "      <td>408906692374446080</td>\n",
       "      <td>1386325927</td>\n",
       "      <td>pleease_shut_up</td>\n",
       "      <td>@first_timee хоть я и школота, но поверь, у на...</td>\n",
       "      <td>1</td>\n",
       "      <td>0</td>\n",
       "      <td>0</td>\n",
       "      <td>0</td>\n",
       "      <td>7569</td>\n",
       "      <td>62</td>\n",
       "      <td>61</td>\n",
       "      <td>0</td>\n",
       "    </tr>\n",
       "    <tr>\n",
       "      <th>1</th>\n",
       "      <td>408906692693221377</td>\n",
       "      <td>1386325927</td>\n",
       "      <td>alinakirpicheva</td>\n",
       "      <td>Да, все-таки он немного похож на него. Но мой ...</td>\n",
       "      <td>1</td>\n",
       "      <td>0</td>\n",
       "      <td>0</td>\n",
       "      <td>0</td>\n",
       "      <td>11825</td>\n",
       "      <td>59</td>\n",
       "      <td>31</td>\n",
       "      <td>2</td>\n",
       "    </tr>\n",
       "    <tr>\n",
       "      <th>2</th>\n",
       "      <td>408906695083954177</td>\n",
       "      <td>1386325927</td>\n",
       "      <td>EvgeshaRe</td>\n",
       "      <td>RT @KatiaCheh: Ну ты идиотка) я испугалась за ...</td>\n",
       "      <td>1</td>\n",
       "      <td>0</td>\n",
       "      <td>1</td>\n",
       "      <td>0</td>\n",
       "      <td>1273</td>\n",
       "      <td>26</td>\n",
       "      <td>27</td>\n",
       "      <td>0</td>\n",
       "    </tr>\n",
       "  </tbody>\n",
       "</table>\n",
       "</div>"
      ],
      "text/plain": [
       "          twit_number   time_date             name  \\\n",
       "0  408906692374446080  1386325927  pleease_shut_up   \n",
       "1  408906692693221377  1386325927  alinakirpicheva   \n",
       "2  408906695083954177  1386325927        EvgeshaRe   \n",
       "\n",
       "                                           twit_text  positive_negative  \\\n",
       "0  @first_timee хоть я и школота, но поверь, у на...                  1   \n",
       "1  Да, все-таки он немного похож на него. Но мой ...                  1   \n",
       "2  RT @KatiaCheh: Ну ты идиотка) я испугалась за ...                  1   \n",
       "\n",
       "   replays  retwits  favorites  total_messages  followers  friends  lists  \n",
       "0        0        0          0            7569         62       61      0  \n",
       "1        0        0          0           11825         59       31      2  \n",
       "2        0        1          0            1273         26       27      0  "
      ]
     },
     "execution_count": 223,
     "metadata": {},
     "output_type": "execute_result"
    }
   ],
   "source": [
    "positive_twits.head(3)"
   ]
  },
  {
   "cell_type": "code",
   "execution_count": 224,
   "metadata": {
    "scrolled": true
   },
   "outputs": [
    {
     "data": {
      "text/plain": [
       "111923"
      ]
     },
     "execution_count": 224,
     "metadata": {},
     "output_type": "execute_result"
    }
   ],
   "source": [
    "#формирование dataframe\n",
    "plus_twits = positive_twits[['twit_text','positive_negative']]\n",
    "minus_twits = negative_twits[['twit_text','positive_negative']]\n",
    "len(minus_twits)"
   ]
  },
  {
   "cell_type": "code",
   "execution_count": 225,
   "metadata": {
    "scrolled": true
   },
   "outputs": [
    {
     "data": {
      "text/html": [
       "<div>\n",
       "<style>\n",
       "    .dataframe thead tr:only-child th {\n",
       "        text-align: right;\n",
       "    }\n",
       "\n",
       "    .dataframe thead th {\n",
       "        text-align: left;\n",
       "    }\n",
       "\n",
       "    .dataframe tbody tr th {\n",
       "        vertical-align: top;\n",
       "    }\n",
       "</style>\n",
       "<table border=\"1\" class=\"dataframe\">\n",
       "  <thead>\n",
       "    <tr style=\"text-align: right;\">\n",
       "      <th></th>\n",
       "      <th>twit_text</th>\n",
       "      <th>positive_negative</th>\n",
       "    </tr>\n",
       "  </thead>\n",
       "  <tbody>\n",
       "    <tr>\n",
       "      <th>0</th>\n",
       "      <td>@first_timee хоть я и школота, но поверь, у на...</td>\n",
       "      <td>1</td>\n",
       "    </tr>\n",
       "    <tr>\n",
       "      <th>1</th>\n",
       "      <td>Да, все-таки он немного похож на него. Но мой ...</td>\n",
       "      <td>1</td>\n",
       "    </tr>\n",
       "    <tr>\n",
       "      <th>2</th>\n",
       "      <td>RT @KatiaCheh: Ну ты идиотка) я испугалась за ...</td>\n",
       "      <td>1</td>\n",
       "    </tr>\n",
       "    <tr>\n",
       "      <th>3</th>\n",
       "      <td>RT @digger2912: \"Кто то в углу сидит и погибае...</td>\n",
       "      <td>1</td>\n",
       "    </tr>\n",
       "    <tr>\n",
       "      <th>4</th>\n",
       "      <td>@irina_dyshkant Вот что значит страшилка :D\\nН...</td>\n",
       "      <td>1</td>\n",
       "    </tr>\n",
       "  </tbody>\n",
       "</table>\n",
       "</div>"
      ],
      "text/plain": [
       "                                           twit_text  positive_negative\n",
       "0  @first_timee хоть я и школота, но поверь, у на...                  1\n",
       "1  Да, все-таки он немного похож на него. Но мой ...                  1\n",
       "2  RT @KatiaCheh: Ну ты идиотка) я испугалась за ...                  1\n",
       "3  RT @digger2912: \"Кто то в углу сидит и погибае...                  1\n",
       "4  @irina_dyshkant Вот что значит страшилка :D\\nН...                  1"
      ]
     },
     "execution_count": 225,
     "metadata": {},
     "output_type": "execute_result"
    }
   ],
   "source": [
    "plus_twits.head()"
   ]
  },
  {
   "cell_type": "code",
   "execution_count": 226,
   "metadata": {
    "scrolled": true
   },
   "outputs": [
    {
     "data": {
      "text/html": [
       "<div>\n",
       "<style>\n",
       "    .dataframe thead tr:only-child th {\n",
       "        text-align: right;\n",
       "    }\n",
       "\n",
       "    .dataframe thead th {\n",
       "        text-align: left;\n",
       "    }\n",
       "\n",
       "    .dataframe tbody tr th {\n",
       "        vertical-align: top;\n",
       "    }\n",
       "</style>\n",
       "<table border=\"1\" class=\"dataframe\">\n",
       "  <thead>\n",
       "    <tr style=\"text-align: right;\">\n",
       "      <th></th>\n",
       "      <th>twit_text</th>\n",
       "      <th>positive_negative</th>\n",
       "    </tr>\n",
       "  </thead>\n",
       "  <tbody>\n",
       "    <tr>\n",
       "      <th>226814</th>\n",
       "      <td>Хочу на тренюю...Но на хоккей буду ходить толь...</td>\n",
       "      <td>-1</td>\n",
       "    </tr>\n",
       "    <tr>\n",
       "      <th>226815</th>\n",
       "      <td>Как я устала , каждый день вставать в 7 утра и...</td>\n",
       "      <td>-1</td>\n",
       "    </tr>\n",
       "    <tr>\n",
       "      <th>226816</th>\n",
       "      <td>http://t.co/1XBDaRHabI Длинная зеленая куртка ...</td>\n",
       "      <td>-1</td>\n",
       "    </tr>\n",
       "    <tr>\n",
       "      <th>226817</th>\n",
       "      <td>Вчера в электричке дяденька рисовал мой портре...</td>\n",
       "      <td>-1</td>\n",
       "    </tr>\n",
       "    <tr>\n",
       "      <th>226818</th>\n",
       "      <td>Бля, еще хренотень какая-то снилась всю ночь(</td>\n",
       "      <td>-1</td>\n",
       "    </tr>\n",
       "    <tr>\n",
       "      <th>226819</th>\n",
       "      <td>я хочу спааать, но надо ещё на биологию идти(</td>\n",
       "      <td>-1</td>\n",
       "    </tr>\n",
       "    <tr>\n",
       "      <th>226820</th>\n",
       "      <td>Мой мальчик заболел:( http://t.co/oMSLJ7Z2IX</td>\n",
       "      <td>-1</td>\n",
       "    </tr>\n",
       "    <tr>\n",
       "      <th>226821</th>\n",
       "      <td>@LidiyaVlasova это точно ( походу давление ((</td>\n",
       "      <td>-1</td>\n",
       "    </tr>\n",
       "    <tr>\n",
       "      <th>226822</th>\n",
       "      <td>RT @Russia_calls: Шлегель забанил за это((  ht...</td>\n",
       "      <td>-1</td>\n",
       "    </tr>\n",
       "    <tr>\n",
       "      <th>226823</th>\n",
       "      <td>@alginova96 @Betyasso в школу все таки я пошла...</td>\n",
       "      <td>-1</td>\n",
       "    </tr>\n",
       "    <tr>\n",
       "      <th>226824</th>\n",
       "      <td>@ivanenko14 и у меня также, только будильник е...</td>\n",
       "      <td>-1</td>\n",
       "    </tr>\n",
       "    <tr>\n",
       "      <th>226825</th>\n",
       "      <td>Когда же я вернусь к тебе(( http://t.co/36qnCO...</td>\n",
       "      <td>-1</td>\n",
       "    </tr>\n",
       "    <tr>\n",
       "      <th>226826</th>\n",
       "      <td>RT @qelasocadij: Скажите пожалуйста, как у чел...</td>\n",
       "      <td>-1</td>\n",
       "    </tr>\n",
       "    <tr>\n",
       "      <th>226827</th>\n",
       "      <td>У нас физ ра на улице\\nПака линт:(\\nЧерез 45 м...</td>\n",
       "      <td>-1</td>\n",
       "    </tr>\n",
       "    <tr>\n",
       "      <th>226828</th>\n",
       "      <td>Нас сегодня отказались принять в сад, типа мы ...</td>\n",
       "      <td>-1</td>\n",
       "    </tr>\n",
       "    <tr>\n",
       "      <th>226829</th>\n",
       "      <td>Но не каждый хочет что то исправлять:( http://...</td>\n",
       "      <td>-1</td>\n",
       "    </tr>\n",
       "    <tr>\n",
       "      <th>226830</th>\n",
       "      <td>скучаю так :-( только @taaannyaaa вправляет мо...</td>\n",
       "      <td>-1</td>\n",
       "    </tr>\n",
       "    <tr>\n",
       "      <th>226831</th>\n",
       "      <td>Вот и в школу, в говно это идти уже надо(</td>\n",
       "      <td>-1</td>\n",
       "    </tr>\n",
       "    <tr>\n",
       "      <th>226832</th>\n",
       "      <td>RT @_Them__: @LisaBeroud Тауриэль, не грусти :...</td>\n",
       "      <td>-1</td>\n",
       "    </tr>\n",
       "    <tr>\n",
       "      <th>226833</th>\n",
       "      <td>Такси везет меня на работу. Раздумываю приплат...</td>\n",
       "      <td>-1</td>\n",
       "    </tr>\n",
       "  </tbody>\n",
       "</table>\n",
       "</div>"
      ],
      "text/plain": [
       "                                                twit_text  positive_negative\n",
       "226814  Хочу на тренюю...Но на хоккей буду ходить толь...                 -1\n",
       "226815  Как я устала , каждый день вставать в 7 утра и...                 -1\n",
       "226816  http://t.co/1XBDaRHabI Длинная зеленая куртка ...                 -1\n",
       "226817  Вчера в электричке дяденька рисовал мой портре...                 -1\n",
       "226818      Бля, еще хренотень какая-то снилась всю ночь(                 -1\n",
       "226819      я хочу спааать, но надо ещё на биологию идти(                 -1\n",
       "226820       Мой мальчик заболел:( http://t.co/oMSLJ7Z2IX                 -1\n",
       "226821      @LidiyaVlasova это точно ( походу давление ((                 -1\n",
       "226822  RT @Russia_calls: Шлегель забанил за это((  ht...                 -1\n",
       "226823  @alginova96 @Betyasso в школу все таки я пошла...                 -1\n",
       "226824  @ivanenko14 и у меня также, только будильник е...                 -1\n",
       "226825  Когда же я вернусь к тебе(( http://t.co/36qnCO...                 -1\n",
       "226826  RT @qelasocadij: Скажите пожалуйста, как у чел...                 -1\n",
       "226827  У нас физ ра на улице\\nПака линт:(\\nЧерез 45 м...                 -1\n",
       "226828  Нас сегодня отказались принять в сад, типа мы ...                 -1\n",
       "226829  Но не каждый хочет что то исправлять:( http://...                 -1\n",
       "226830  скучаю так :-( только @taaannyaaa вправляет мо...                 -1\n",
       "226831          Вот и в школу, в говно это идти уже надо(                 -1\n",
       "226832  RT @_Them__: @LisaBeroud Тауриэль, не грусти :...                 -1\n",
       "226833  Такси везет меня на работу. Раздумываю приплат...                 -1"
      ]
     },
     "execution_count": 226,
     "metadata": {},
     "output_type": "execute_result"
    }
   ],
   "source": [
    "#объединение датафреймов\n",
    "frames = [plus_twits, minus_twits]\n",
    "twit_base = pd.concat(frames, ignore_index=True)\n",
    "\n",
    "twit_base.tail(20)"
   ]
  },
  {
   "cell_type": "code",
   "execution_count": 227,
   "metadata": {
    "scrolled": true
   },
   "outputs": [
    {
     "name": "stdout",
     "output_type": "stream",
     "text": [
      "скучаю #sad_smile так  #sad_smile только  #sad_smile\n"
     ]
    }
   ],
   "source": [
    "\n",
    "import re\n",
    "test_string = [\"скучаю(((( так :-( только :(\"]\n",
    "for each in test_string:\n",
    "    pattern = \"\\@\\w+\"\n",
    "    pattern_1='[0-9]+'\n",
    "    pattern_2 = \"(http://[^ ]+)\"\n",
    "    pattern_3 = \"\\(\\(+|:\\(+|:-\\(+\"\n",
    "    new_line = re.sub(pattern_3, \" #sad_smile\", ','.join(test_string))\n",
    "    print(new_line)\n",
    "\n"
   ]
  },
  {
   "cell_type": "code",
   "execution_count": 228,
   "metadata": {
    "collapsed": true,
    "scrolled": true
   },
   "outputs": [],
   "source": [
    "#замена имен, цифр, смайлов\n",
    "pattern = \"\\@\\w+\"\n",
    "twit_base['twit_text'].replace(to_replace=pattern, value=\" #name\", regex=True, inplace=True)\n",
    "pattern_1='[0-9]+'\n",
    "twit_base['twit_text'].replace(to_replace=pattern_1, value=\" #number\", regex=True, inplace=True)\n",
    "pattern_2 = \"(http://[^ ]+)\"\n",
    "twit_base['twit_text'].replace(to_replace=pattern_2, value=\" #hyperlink\", regex=True, inplace=True)\n",
    "pattern_3 = \"(http://[^ ]+)|(https://[^ ]+)\"\n",
    "twit_base['twit_text'].replace(to_replace=pattern_3, value=\" #hyperlink\", regex=True, inplace=True)\n",
    "pattern_4 = \"\\(\\(+|:\\(+|:-\\(+\"\n",
    "twit_base['twit_text'].replace(to_replace=pattern_4, value=\" #sad_smile\", regex=True, inplace=True)\n"
   ]
  },
  {
   "cell_type": "code",
   "execution_count": 229,
   "metadata": {
    "scrolled": true
   },
   "outputs": [
    {
     "data": {
      "text/html": [
       "<div>\n",
       "<style>\n",
       "    .dataframe thead tr:only-child th {\n",
       "        text-align: right;\n",
       "    }\n",
       "\n",
       "    .dataframe thead th {\n",
       "        text-align: left;\n",
       "    }\n",
       "\n",
       "    .dataframe tbody tr th {\n",
       "        vertical-align: top;\n",
       "    }\n",
       "</style>\n",
       "<table border=\"1\" class=\"dataframe\">\n",
       "  <thead>\n",
       "    <tr style=\"text-align: right;\">\n",
       "      <th></th>\n",
       "      <th>twit_text</th>\n",
       "      <th>positive_negative</th>\n",
       "    </tr>\n",
       "  </thead>\n",
       "  <tbody>\n",
       "    <tr>\n",
       "      <th>226814</th>\n",
       "      <td>Хочу на тренюю...Но на хоккей буду ходить толь...</td>\n",
       "      <td>-1</td>\n",
       "    </tr>\n",
       "    <tr>\n",
       "      <th>226815</th>\n",
       "      <td>Как я устала , каждый день вставать в  #number...</td>\n",
       "      <td>-1</td>\n",
       "    </tr>\n",
       "    <tr>\n",
       "      <th>226816</th>\n",
       "      <td>#hyperlink #numberXBDaRHabI Длинная зеленая к...</td>\n",
       "      <td>-1</td>\n",
       "    </tr>\n",
       "    <tr>\n",
       "      <th>226817</th>\n",
       "      <td>Вчера в электричке дяденька рисовал мой портре...</td>\n",
       "      <td>-1</td>\n",
       "    </tr>\n",
       "    <tr>\n",
       "      <th>226818</th>\n",
       "      <td>Бля, еще хренотень какая-то снилась всю ночь(</td>\n",
       "      <td>-1</td>\n",
       "    </tr>\n",
       "    <tr>\n",
       "      <th>226819</th>\n",
       "      <td>я хочу спааать, но надо ещё на биологию идти(</td>\n",
       "      <td>-1</td>\n",
       "    </tr>\n",
       "    <tr>\n",
       "      <th>226820</th>\n",
       "      <td>Мой мальчик заболел #sad_smile  #hyperlink #nu...</td>\n",
       "      <td>-1</td>\n",
       "    </tr>\n",
       "    <tr>\n",
       "      <th>226821</th>\n",
       "      <td>#name это точно ( походу давление  #sad_smile</td>\n",
       "      <td>-1</td>\n",
       "    </tr>\n",
       "    <tr>\n",
       "      <th>226822</th>\n",
       "      <td>RT  #name: Шлегель забанил за это #sad_smile  ...</td>\n",
       "      <td>-1</td>\n",
       "    </tr>\n",
       "    <tr>\n",
       "      <th>226823</th>\n",
       "      <td>#name  #name в школу все таки я пошла  #sad_s...</td>\n",
       "      <td>-1</td>\n",
       "    </tr>\n",
       "    <tr>\n",
       "      <th>226824</th>\n",
       "      <td>#name и у меня также, только будильник еще и ...</td>\n",
       "      <td>-1</td>\n",
       "    </tr>\n",
       "    <tr>\n",
       "      <th>226825</th>\n",
       "      <td>Когда же я вернусь к тебе #sad_smile  #hyperli...</td>\n",
       "      <td>-1</td>\n",
       "    </tr>\n",
       "    <tr>\n",
       "      <th>226826</th>\n",
       "      <td>RT  #name: Скажите пожалуйста, как у человека ...</td>\n",
       "      <td>-1</td>\n",
       "    </tr>\n",
       "    <tr>\n",
       "      <th>226827</th>\n",
       "      <td>У нас физ ра на улице\\nПака линт #sad_smile\\nЧ...</td>\n",
       "      <td>-1</td>\n",
       "    </tr>\n",
       "    <tr>\n",
       "      <th>226828</th>\n",
       "      <td>Нас сегодня отказались принять в сад, типа мы ...</td>\n",
       "      <td>-1</td>\n",
       "    </tr>\n",
       "    <tr>\n",
       "      <th>226829</th>\n",
       "      <td>Но не каждый хочет что то исправлять #sad_smil...</td>\n",
       "      <td>-1</td>\n",
       "    </tr>\n",
       "    <tr>\n",
       "      <th>226830</th>\n",
       "      <td>скучаю так  #sad_smile только  #name вправляет...</td>\n",
       "      <td>-1</td>\n",
       "    </tr>\n",
       "    <tr>\n",
       "      <th>226831</th>\n",
       "      <td>Вот и в школу, в говно это идти уже надо(</td>\n",
       "      <td>-1</td>\n",
       "    </tr>\n",
       "    <tr>\n",
       "      <th>226832</th>\n",
       "      <td>RT  #name:  #name Тауриэль, не грусти  #sad_sm...</td>\n",
       "      <td>-1</td>\n",
       "    </tr>\n",
       "    <tr>\n",
       "      <th>226833</th>\n",
       "      <td>Такси везет меня на работу. Раздумываю приплат...</td>\n",
       "      <td>-1</td>\n",
       "    </tr>\n",
       "  </tbody>\n",
       "</table>\n",
       "</div>"
      ],
      "text/plain": [
       "                                                twit_text  positive_negative\n",
       "226814  Хочу на тренюю...Но на хоккей буду ходить толь...                 -1\n",
       "226815  Как я устала , каждый день вставать в  #number...                 -1\n",
       "226816   #hyperlink #numberXBDaRHabI Длинная зеленая к...                 -1\n",
       "226817  Вчера в электричке дяденька рисовал мой портре...                 -1\n",
       "226818      Бля, еще хренотень какая-то снилась всю ночь(                 -1\n",
       "226819      я хочу спааать, но надо ещё на биологию идти(                 -1\n",
       "226820  Мой мальчик заболел #sad_smile  #hyperlink #nu...                 -1\n",
       "226821      #name это точно ( походу давление  #sad_smile                 -1\n",
       "226822  RT  #name: Шлегель забанил за это #sad_smile  ...                 -1\n",
       "226823   #name  #name в школу все таки я пошла  #sad_s...                 -1\n",
       "226824   #name и у меня также, только будильник еще и ...                 -1\n",
       "226825  Когда же я вернусь к тебе #sad_smile  #hyperli...                 -1\n",
       "226826  RT  #name: Скажите пожалуйста, как у человека ...                 -1\n",
       "226827  У нас физ ра на улице\\nПака линт #sad_smile\\nЧ...                 -1\n",
       "226828  Нас сегодня отказались принять в сад, типа мы ...                 -1\n",
       "226829  Но не каждый хочет что то исправлять #sad_smil...                 -1\n",
       "226830  скучаю так  #sad_smile только  #name вправляет...                 -1\n",
       "226831          Вот и в школу, в говно это идти уже надо(                 -1\n",
       "226832  RT  #name:  #name Тауриэль, не грусти  #sad_sm...                 -1\n",
       "226833  Такси везет меня на работу. Раздумываю приплат...                 -1"
      ]
     },
     "execution_count": 229,
     "metadata": {},
     "output_type": "execute_result"
    }
   ],
   "source": [
    "twit_base.tail(20)"
   ]
  },
  {
   "cell_type": "code",
   "execution_count": 230,
   "metadata": {
    "collapsed": true,
    "scrolled": true
   },
   "outputs": [],
   "source": [
    "#попытался сделать лемматизацию, но слишком долго работает. Оставил на светлое будущее.\n",
    "import pymystem3\n",
    "m = pymystem3.Mystem(disambiguation=True)"
   ]
  },
  {
   "cell_type": "code",
   "execution_count": 231,
   "metadata": {
    "scrolled": true
   },
   "outputs": [
    {
     "data": {
      "text/plain": [
       "'хотеть на трений...но на хоккей быть ходить толь...\\n'"
      ]
     },
     "execution_count": 231,
     "metadata": {},
     "output_type": "execute_result"
    }
   ],
   "source": [
    "\"\".join((m.lemmatize(\"Хочу на тренюю...Но на хоккей буду ходить толь...\")))"
   ]
  },
  {
   "cell_type": "code",
   "execution_count": 232,
   "metadata": {
    "collapsed": true,
    "scrolled": true
   },
   "outputs": [],
   "source": [
    "twit_base_lemmatized = twit_base[:20].copy()"
   ]
  },
  {
   "cell_type": "code",
   "execution_count": 233,
   "metadata": {},
   "outputs": [
    {
     "data": {
      "text/html": [
       "<div>\n",
       "<style>\n",
       "    .dataframe thead tr:only-child th {\n",
       "        text-align: right;\n",
       "    }\n",
       "\n",
       "    .dataframe thead th {\n",
       "        text-align: left;\n",
       "    }\n",
       "\n",
       "    .dataframe tbody tr th {\n",
       "        vertical-align: top;\n",
       "    }\n",
       "</style>\n",
       "<table border=\"1\" class=\"dataframe\">\n",
       "  <thead>\n",
       "    <tr style=\"text-align: right;\">\n",
       "      <th></th>\n",
       "      <th>twit_text</th>\n",
       "      <th>positive_negative</th>\n",
       "    </tr>\n",
       "  </thead>\n",
       "  <tbody>\n",
       "    <tr>\n",
       "      <th>0</th>\n",
       "      <td>#name хоть я и школота, но поверь, у нас то ж...</td>\n",
       "      <td>1</td>\n",
       "    </tr>\n",
       "    <tr>\n",
       "      <th>1</th>\n",
       "      <td>Да, все-таки он немного похож на него. Но мой ...</td>\n",
       "      <td>1</td>\n",
       "    </tr>\n",
       "    <tr>\n",
       "      <th>2</th>\n",
       "      <td>RT  #name: Ну ты идиотка) я испугалась за тебя!!!</td>\n",
       "      <td>1</td>\n",
       "    </tr>\n",
       "    <tr>\n",
       "      <th>3</th>\n",
       "      <td>RT  #name: \"Кто то в углу сидит и погибает от ...</td>\n",
       "      <td>1</td>\n",
       "    </tr>\n",
       "    <tr>\n",
       "      <th>4</th>\n",
       "      <td>#name Вот что значит страшилка :D\\nНо блин,по...</td>\n",
       "      <td>1</td>\n",
       "    </tr>\n",
       "  </tbody>\n",
       "</table>\n",
       "</div>"
      ],
      "text/plain": [
       "                                           twit_text  positive_negative\n",
       "0   #name хоть я и школота, но поверь, у нас то ж...                  1\n",
       "1  Да, все-таки он немного похож на него. Но мой ...                  1\n",
       "2  RT  #name: Ну ты идиотка) я испугалась за тебя!!!                  1\n",
       "3  RT  #name: \"Кто то в углу сидит и погибает от ...                  1\n",
       "4   #name Вот что значит страшилка :D\\nНо блин,по...                  1"
      ]
     },
     "execution_count": 233,
     "metadata": {},
     "output_type": "execute_result"
    }
   ],
   "source": [
    "twit_base_lemmatized.head()"
   ]
  },
  {
   "cell_type": "code",
   "execution_count": 234,
   "metadata": {
    "scrolled": true
   },
   "outputs": [
    {
     "name": "stderr",
     "output_type": "stream",
     "text": [
      "C:\\Users\\Slava-N\\Anaconda3\\lib\\site-packages\\ipykernel_launcher.py:2: SettingWithCopyWarning: \n",
      "A value is trying to be set on a copy of a slice from a DataFrame\n",
      "\n",
      "See the caveats in the documentation: http://pandas.pydata.org/pandas-docs/stable/indexing.html#indexing-view-versus-copy\n",
      "  \n"
     ]
    }
   ],
   "source": [
    "for i in twit_base_lemmatized.index:\n",
    "    twit_base_lemmatized.iloc[i]['twit_text'] =\"\".join((m.lemmatize(twit_base_lemmatized.iloc[i]['twit_text'])))"
   ]
  },
  {
   "cell_type": "code",
   "execution_count": 235,
   "metadata": {
    "collapsed": true,
    "scrolled": true
   },
   "outputs": [],
   "source": [
    "from sklearn.model_selection import train_test_split"
   ]
  },
  {
   "cell_type": "code",
   "execution_count": 236,
   "metadata": {
    "collapsed": true,
    "scrolled": true
   },
   "outputs": [],
   "source": [
    "X_tt, X_test, y_tt, y_test = train_test_split(twit_base.twit_text, twit_base.positive_negative, test_size = 0.2)\n",
    "#X_train, X_cross_val, y_train, y_cross_val = train_test_split(X_tt, y_tt, test_size = (0.2/0.9))"
   ]
  },
  {
   "cell_type": "code",
   "execution_count": 238,
   "metadata": {
    "collapsed": true,
    "scrolled": true
   },
   "outputs": [],
   "source": [
    "import sklearn.pipeline\n",
    "import sklearn.naive_bayes\n",
    "import sklearn.metrics\n",
    "import sklearn.svm\n",
    "import sklearn.feature_extraction\n",
    "import sklearn.metrics\n"
   ]
  },
  {
   "cell_type": "code",
   "execution_count": 250,
   "metadata": {},
   "outputs": [
    {
     "name": "stdout",
     "output_type": "stream",
     "text": [
      "showing info https://raw.githubusercontent.com/nltk/nltk_data/gh-pages/index.xml\n"
     ]
    },
    {
     "data": {
      "text/plain": [
       "True"
      ]
     },
     "execution_count": 250,
     "metadata": {},
     "output_type": "execute_result"
    }
   ],
   "source": [
    "import nltk\n",
    "nltk.download()"
   ]
  },
  {
   "cell_type": "code",
   "execution_count": 255,
   "metadata": {
    "collapsed": true,
    "scrolled": true
   },
   "outputs": [],
   "source": [
    "from nltk.corpus import stopwords\n",
    "#добавлял стоп слова, но результат получился хуже\n",
    "text_clf = sklearn.pipeline.Pipeline([('vect', sklearn.feature_extraction.text.CountVectorizer()),\n",
    "                     ('clf', sklearn.svm.LinearSVC())])\n"
   ]
  },
  {
   "cell_type": "code",
   "execution_count": 256,
   "metadata": {},
   "outputs": [
    {
     "name": "stdout",
     "output_type": "stream",
     "text": [
      "             precision    recall  f1-score   support\n",
      "\n",
      "         -1       0.85      0.82      0.83     22196\n",
      "          1       0.83      0.86      0.85     23171\n",
      "\n",
      "avg / total       0.84      0.84      0.84     45367\n",
      "\n"
     ]
    }
   ],
   "source": [
    "#классификация текстов\n",
    "text_clf.fit(X_tt, y_tt)\n",
    "\n",
    "predicted = text_clf.predict(X_test)\n",
    "\n",
    "print(sklearn.metrics.classification_report(y_test, predicted))\n",
    "#получились вроде даже неплохи результаты. На что посмотреть для улучшения значений?"
   ]
  },
  {
   "cell_type": "code",
   "execution_count": 257,
   "metadata": {},
   "outputs": [
    {
     "data": {
      "text/plain": [
       "array([[18232,  3964],\n",
       "       [ 3309, 19862]])"
      ]
     },
     "execution_count": 257,
     "metadata": {},
     "output_type": "execute_result"
    }
   ],
   "source": [
    "sklearn.metrics.confusion_matrix(y_test, predicted)"
   ]
  },
  {
   "cell_type": "code",
   "execution_count": 258,
   "metadata": {
    "collapsed": true
   },
   "outputs": [],
   "source": [
    "text_clf_1 = sklearn.pipeline.Pipeline([('vect', sklearn.feature_extraction.text.CountVectorizer()),\n",
    "                     ('clf', sklearn.naive_bayes.MultinomialNB())])\n"
   ]
  },
  {
   "cell_type": "code",
   "execution_count": 259,
   "metadata": {},
   "outputs": [
    {
     "name": "stdout",
     "output_type": "stream",
     "text": [
      "             precision    recall  f1-score   support\n",
      "\n",
      "         -1       0.81      0.87      0.84     22196\n",
      "          1       0.87      0.80      0.83     23171\n",
      "\n",
      "avg / total       0.84      0.84      0.84     45367\n",
      "\n"
     ]
    }
   ],
   "source": [
    "#результаты по байесу получились примерно такие же\n",
    "text_clf_1.fit(X_tt, y_tt)\n",
    "predicted_naive = text_clf_1.predict(X_test)\n",
    "print(sklearn.metrics.classification_report(y_test, predicted_naive))"
   ]
  },
  {
   "cell_type": "code",
   "execution_count": null,
   "metadata": {
    "collapsed": true
   },
   "outputs": [],
   "source": []
  }
 ],
 "metadata": {
  "kernelspec": {
   "display_name": "Python 3",
   "language": "python",
   "name": "python3"
  },
  "language_info": {
   "codemirror_mode": {
    "name": "ipython",
    "version": 3
   },
   "file_extension": ".py",
   "mimetype": "text/x-python",
   "name": "python",
   "nbconvert_exporter": "python",
   "pygments_lexer": "ipython3",
   "version": "3.6.1"
  }
 },
 "nbformat": 4,
 "nbformat_minor": 2
}
