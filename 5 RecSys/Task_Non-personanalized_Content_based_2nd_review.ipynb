{
 "cells": [
  {
   "cell_type": "markdown",
   "metadata": {},
   "source": [
    "# Описание задания"
   ]
  },
  {
   "cell_type": "markdown",
   "metadata": {},
   "source": [
    "В рамках данного задания, студент должен создать и оценить 4 типа рекомендательных систем:\n",
    "* Non-personalized RS\n",
    "* Content-based RS\n",
    "* Item-based collaborative filtering RS\n",
    "* Hybrid RS\n",
    "\n",
    "Каждая рекомендательная система - отдельное подзадание. Подзадание считается выполненным, если студент создал рекомендательную систему, которая **лучше (или хуже, но не более чем на 10%)** системы, созданной автором данного блокнота. Системы оцениваются с использованием метрики ``HR@N``, описанной ниже."
   ]
  },
  {
   "cell_type": "markdown",
   "metadata": {},
   "source": [
    "# Детальное описание"
   ]
  },
  {
   "cell_type": "markdown",
   "metadata": {},
   "source": [
    "#### Данные: \n",
    "Датасет представлен множеством отзывов к компьютерным играм (объектам) от пользователей Amazon. Каждый отзыв представлен в виде JSON-структуры со следующими полями:\n",
    "* идентификатор пользователя - reviewerID\n",
    "* идентификатор объекта - asin\n",
    "* текст отзыва - reviewText\n",
    "* рейтинг - overall\n",
    "* время публикации обзора - unixReviewTime\n",
    "* другие поля, не использованные автором этого блокнота (смотри полное описание JSON [тут](http://jmcauley.ucsd.edu/data/amazon/))\n",
    "\n",
    "У каждого объекта есть как минимум 5 отзывов, каждый пользователь написал как минимум 5 отзывов. \n",
    "#### Цель: \n",
    "Построить рекомендательную систему, предсказывающую объекты, которые пользователь приобретет в ближайшем будущем. Для упрощения мы считаем, что пользователь приобрел объект, если он написал про него отзыв.\n",
    "#### Подготовка данных:\n",
    "Данные разделены на тренировочную и тестовую выборки по времени публикации отзывов. Первые 80% данных (более старые) используются как тренировочная выборка, остальные - как тестовая. \n",
    "\n",
    "Построение рекомендательной системы (т.е., выбор и тренировка моделей, оптимизация параметров и т.д.) осуществляется **только** с использованием тренировочной выборки. Все параметры, использованные в моделях, **должны быть** получены или объяснены с помощью тренировочных данных. Студент вправе использовать тренировочную выборку как его душе угодно. \n",
    "\n",
    "Тестирующая выборка используется **только** для оценки рекомендательной системы.\n",
    "\n",
    "Для построения рекомендательных моделей также можно использовать JSON-поля из датасета, неиспользованные автором этого блокнота.\n",
    "#### Оценка качества рекомендательной системы\n",
    "Цель рекомендательной системы - посоветовать пользователю объекты, которые он захочет приобрести. Для оценки качества такой системы мы воспользуемся метрикой `hit-ratio (HR)`. \n",
    "\n",
    "$$\n",
    "HR = \\frac{1}{|U_T|}\\sum_{u \\in U_T} \\mathrm{I}(Rel_u \\cap Rec_u)\n",
    "$$\n",
    "\n",
    "* $U_T$ - множество пользователей из тестовой выборки\n",
    "* $Rec_u$ - множество объектов, рекомендованных пользователю $u$ \n",
    "* $Rel_u$ - множество объектов, оцененных пользователем $u$ в тестовой выборке\n",
    "* $\\mathrm{I}(Rel_u \\cap Rec_u)$ - бинарная функция-индикатор. Функция возвращает 1 если $Rel_u \\cap Rec_u \\ne \\emptyset$, иначе 0\n",
    "\n",
    "$HR=1$ если для каждого пользователя мы рекомендовали хотя бы один релевантный объект. Так как обычно пользователи просматривают только первые $N$ рекомендаций, мы будем считать метрику $HR@N$, где $N=10$ (т.е. множество $Rec_u$ будет содержать только 10 объектов). "
   ]
  },
  {
   "cell_type": "markdown",
   "metadata": {},
   "source": [
    "# Условные обозначения\n",
    "* `uid` - идентификатор пользователя\n",
    "* `iid` - идентификатор объекта"
   ]
  },
  {
   "cell_type": "markdown",
   "metadata": {},
   "source": [
    "# Games RSs"
   ]
  },
  {
   "cell_type": "code",
   "execution_count": 1,
   "metadata": {
    "collapsed": true
   },
   "outputs": [],
   "source": [
    "# импорты, которые точно понадобятся\n",
    "import pandas as pd\n",
    "import numpy as np\n",
    "\n",
    "from scipy.sparse import csr_matrix\n",
    "%matplotlib inline\n",
    "import matplotlib.pyplot as plt\n"
   ]
  },
  {
   "cell_type": "code",
   "execution_count": 2,
   "metadata": {
    "collapsed": true
   },
   "outputs": [],
   "source": [
    "# Данные взяты отсюда - http://jmcauley.ucsd.edu/data/amazon/\n",
    "# http://snap.stanford.edu/data/amazon/productGraph/categoryFiles/reviews_Video_Games_5.json.gz\n",
    "JSON_DATA_PATH = \"/Users/Slava-N/Progs/DataScience/Homework/5 RecSys/reviews_Video_Games_5.json\"\n",
    "N = 10"
   ]
  },
  {
   "cell_type": "code",
   "execution_count": 3,
   "metadata": {},
   "outputs": [
    {
     "name": "stdout",
     "output_type": "stream",
     "text": [
      "/Users/Slava-N/Progs/DataScience/Homework/5 RecSys\r\n"
     ]
    }
   ],
   "source": [
    "!pwd"
   ]
  },
  {
   "cell_type": "markdown",
   "metadata": {},
   "source": [
    "## Анализ данных"
   ]
  },
  {
   "cell_type": "code",
   "execution_count": 4,
   "metadata": {
    "collapsed": true
   },
   "outputs": [],
   "source": [
    "import json\n",
    "\n",
    "def iter_json_data(path):\n",
    "    with open(path) as f:\n",
    "        for line in f:\n",
    "            data = json.loads(line)\n",
    "            yield data\n",
    "            \n",
    "def get_data_frame():\n",
    "    uid_to_id = {}\n",
    "    iid_to_id = {}\n",
    "    \n",
    "    cols = [\"uid\", \"iid\", \"review\", \"rating\", \"dt\"]\n",
    "    rows = []\n",
    "    for d in iter_json_data(JSON_DATA_PATH):\n",
    "        uid = uid_to_id.setdefault(d[\"reviewerID\"], len(uid_to_id))\n",
    "        iid = iid_to_id.setdefault(d[\"asin\"], len(iid_to_id))\n",
    "        review = d[\"reviewText\"]\n",
    "        rating = float(d[\"overall\"])\n",
    "        dt = int(d[\"unixReviewTime\"])\n",
    "        rows.append((uid, iid, review, rating, dt))\n",
    "        \n",
    "    return pd.DataFrame(rows, columns=cols)"
   ]
  },
  {
   "cell_type": "code",
   "execution_count": 5,
   "metadata": {},
   "outputs": [
    {
     "data": {
      "text/html": [
       "<div>\n",
       "<style>\n",
       "    .dataframe thead tr:only-child th {\n",
       "        text-align: right;\n",
       "    }\n",
       "\n",
       "    .dataframe thead th {\n",
       "        text-align: left;\n",
       "    }\n",
       "\n",
       "    .dataframe tbody tr th {\n",
       "        vertical-align: top;\n",
       "    }\n",
       "</style>\n",
       "<table border=\"1\" class=\"dataframe\">\n",
       "  <thead>\n",
       "    <tr style=\"text-align: right;\">\n",
       "      <th></th>\n",
       "      <th>uid</th>\n",
       "      <th>iid</th>\n",
       "      <th>review</th>\n",
       "      <th>rating</th>\n",
       "      <th>dt</th>\n",
       "    </tr>\n",
       "  </thead>\n",
       "  <tbody>\n",
       "    <tr>\n",
       "      <th>0</th>\n",
       "      <td>0</td>\n",
       "      <td>0</td>\n",
       "      <td>Installing the game was a struggle (because of...</td>\n",
       "      <td>1.0</td>\n",
       "      <td>1341792000</td>\n",
       "    </tr>\n",
       "    <tr>\n",
       "      <th>1</th>\n",
       "      <td>1</td>\n",
       "      <td>0</td>\n",
       "      <td>If you like rally cars get this game you will ...</td>\n",
       "      <td>4.0</td>\n",
       "      <td>1372550400</td>\n",
       "    </tr>\n",
       "    <tr>\n",
       "      <th>2</th>\n",
       "      <td>2</td>\n",
       "      <td>0</td>\n",
       "      <td>1st shipment received a book instead of the ga...</td>\n",
       "      <td>1.0</td>\n",
       "      <td>1403913600</td>\n",
       "    </tr>\n",
       "    <tr>\n",
       "      <th>3</th>\n",
       "      <td>3</td>\n",
       "      <td>0</td>\n",
       "      <td>I got this version instead of the PS3 version,...</td>\n",
       "      <td>3.0</td>\n",
       "      <td>1315958400</td>\n",
       "    </tr>\n",
       "    <tr>\n",
       "      <th>4</th>\n",
       "      <td>4</td>\n",
       "      <td>0</td>\n",
       "      <td>I had Dirt 2 on Xbox 360 and it was an okay ga...</td>\n",
       "      <td>4.0</td>\n",
       "      <td>1308009600</td>\n",
       "    </tr>\n",
       "    <tr>\n",
       "      <th>5</th>\n",
       "      <td>5</td>\n",
       "      <td>0</td>\n",
       "      <td>Overall this is a well done racing game, with ...</td>\n",
       "      <td>4.0</td>\n",
       "      <td>1368230400</td>\n",
       "    </tr>\n",
       "    <tr>\n",
       "      <th>6</th>\n",
       "      <td>6</td>\n",
       "      <td>0</td>\n",
       "      <td>Loved playing Dirt 2 and I thought the graphic...</td>\n",
       "      <td>5.0</td>\n",
       "      <td>1313280000</td>\n",
       "    </tr>\n",
       "    <tr>\n",
       "      <th>7</th>\n",
       "      <td>7</td>\n",
       "      <td>0</td>\n",
       "      <td>I can't tell you what a piece of dog**** this ...</td>\n",
       "      <td>1.0</td>\n",
       "      <td>1353715200</td>\n",
       "    </tr>\n",
       "    <tr>\n",
       "      <th>8</th>\n",
       "      <td>8</td>\n",
       "      <td>0</td>\n",
       "      <td>I initially gave this one star because it was ...</td>\n",
       "      <td>4.0</td>\n",
       "      <td>1352851200</td>\n",
       "    </tr>\n",
       "    <tr>\n",
       "      <th>9</th>\n",
       "      <td>9</td>\n",
       "      <td>0</td>\n",
       "      <td>I still haven't figured this one out. Did ever...</td>\n",
       "      <td>2.0</td>\n",
       "      <td>1391817600</td>\n",
       "    </tr>\n",
       "    <tr>\n",
       "      <th>10</th>\n",
       "      <td>10</td>\n",
       "      <td>0</td>\n",
       "      <td>I'm not quite finished with the game's DiRT To...</td>\n",
       "      <td>5.0</td>\n",
       "      <td>1309219200</td>\n",
       "    </tr>\n",
       "    <tr>\n",
       "      <th>11</th>\n",
       "      <td>11</td>\n",
       "      <td>0</td>\n",
       "      <td>I have been playing car racing games since the...</td>\n",
       "      <td>5.0</td>\n",
       "      <td>1318982400</td>\n",
       "    </tr>\n",
       "    <tr>\n",
       "      <th>12</th>\n",
       "      <td>12</td>\n",
       "      <td>0</td>\n",
       "      <td>Dirt 3 on DVDi collect racing games so had to ...</td>\n",
       "      <td>5.0</td>\n",
       "      <td>1388275200</td>\n",
       "    </tr>\n",
       "    <tr>\n",
       "      <th>13</th>\n",
       "      <td>13</td>\n",
       "      <td>0</td>\n",
       "      <td>I bought this and the key didn't work.  It was...</td>\n",
       "      <td>1.0</td>\n",
       "      <td>1404086400</td>\n",
       "    </tr>\n",
       "    <tr>\n",
       "      <th>14</th>\n",
       "      <td>14</td>\n",
       "      <td>0</td>\n",
       "      <td>Crashed in Vista.  Codemasters told me they do...</td>\n",
       "      <td>1.0</td>\n",
       "      <td>1367280000</td>\n",
       "    </tr>\n",
       "  </tbody>\n",
       "</table>\n",
       "</div>"
      ],
      "text/plain": [
       "    uid  iid                                             review  rating  \\\n",
       "0     0    0  Installing the game was a struggle (because of...     1.0   \n",
       "1     1    0  If you like rally cars get this game you will ...     4.0   \n",
       "2     2    0  1st shipment received a book instead of the ga...     1.0   \n",
       "3     3    0  I got this version instead of the PS3 version,...     3.0   \n",
       "4     4    0  I had Dirt 2 on Xbox 360 and it was an okay ga...     4.0   \n",
       "5     5    0  Overall this is a well done racing game, with ...     4.0   \n",
       "6     6    0  Loved playing Dirt 2 and I thought the graphic...     5.0   \n",
       "7     7    0  I can't tell you what a piece of dog**** this ...     1.0   \n",
       "8     8    0  I initially gave this one star because it was ...     4.0   \n",
       "9     9    0  I still haven't figured this one out. Did ever...     2.0   \n",
       "10   10    0  I'm not quite finished with the game's DiRT To...     5.0   \n",
       "11   11    0  I have been playing car racing games since the...     5.0   \n",
       "12   12    0  Dirt 3 on DVDi collect racing games so had to ...     5.0   \n",
       "13   13    0  I bought this and the key didn't work.  It was...     1.0   \n",
       "14   14    0  Crashed in Vista.  Codemasters told me they do...     1.0   \n",
       "\n",
       "            dt  \n",
       "0   1341792000  \n",
       "1   1372550400  \n",
       "2   1403913600  \n",
       "3   1315958400  \n",
       "4   1308009600  \n",
       "5   1368230400  \n",
       "6   1313280000  \n",
       "7   1353715200  \n",
       "8   1352851200  \n",
       "9   1391817600  \n",
       "10  1309219200  \n",
       "11  1318982400  \n",
       "12  1388275200  \n",
       "13  1404086400  \n",
       "14  1367280000  "
      ]
     },
     "execution_count": 5,
     "metadata": {},
     "output_type": "execute_result"
    }
   ],
   "source": [
    "df = get_data_frame()\n",
    "df.head(15)"
   ]
  },
  {
   "cell_type": "code",
   "execution_count": 6,
   "metadata": {},
   "outputs": [
    {
     "name": "stdout",
     "output_type": "stream",
     "text": [
      "min-max количество объектов на пользователя: 5 773\n",
      "min-max количество пользователей на объект: 5 802\n"
     ]
    }
   ],
   "source": [
    "print(\"min-max количество объектов на пользователя:\", \n",
    "      df.groupby(\"uid\").iid.nunique().min(), df.groupby(\"uid\").iid.nunique().max())\n",
    "print(\"min-max количество пользователей на объект:\", \n",
    "      df.groupby(\"iid\").uid.nunique().min(), df.groupby(\"iid\").uid.nunique().max())"
   ]
  },
  {
   "cell_type": "code",
   "execution_count": 7,
   "metadata": {},
   "outputs": [
    {
     "data": {
      "text/plain": [
       "<matplotlib.axes._subplots.AxesSubplot at 0x116227860>"
      ]
     },
     "execution_count": 7,
     "metadata": {},
     "output_type": "execute_result"
    },
    {
     "data": {
      "image/png": "[encoded data removed]",
      "text/plain": [
       "<matplotlib.figure.Figure at 0x1162271d0>"
      ]
     },
     "metadata": {},
     "output_type": "display_data"
    }
   ],
   "source": [
    "plt.title(\"Распределение отзывов по времени\")\n",
    "df.dt.hist(bins=50)"
   ]
  },
  {
   "cell_type": "code",
   "execution_count": 8,
   "metadata": {
    "scrolled": true
   },
   "outputs": [
    {
     "data": {
      "text/plain": [
       "<matplotlib.axes._subplots.AxesSubplot at 0x11800e438>"
      ]
     },
     "execution_count": 8,
     "metadata": {},
     "output_type": "execute_result"
    },
    {
     "data": {
      "image/png": "[encoded data removed]",
      "text/plain": [
       "<matplotlib.figure.Figure at 0x11a697eb8>"
      ]
     },
     "metadata": {},
     "output_type": "display_data"
    }
   ],
   "source": [
    "plt.title(\"Распределение рейтингов по отзывам\")\n",
    "df.rating.hist()"
   ]
  },
  {
   "cell_type": "code",
   "execution_count": 9,
   "metadata": {},
   "outputs": [
    {
     "data": {
      "text/plain": [
       "array([1])"
      ]
     },
     "execution_count": 9,
     "metadata": {},
     "output_type": "execute_result"
    }
   ],
   "source": [
    "# проверяем, есть ли случаи, когда один и тот же пользователь оставляет отзывы на один и тот же объект\n",
    "df.groupby([\"uid\", \"iid\"]).review.count().unique()  # ура, таких случаев нет"
   ]
  },
  {
   "cell_type": "code",
   "execution_count": 10,
   "metadata": {},
   "outputs": [
    {
     "name": "stdout",
     "output_type": "stream",
     "text": [
      "Количество объектов: 10672\n",
      "Количество пользователей: 24303\n"
     ]
    }
   ],
   "source": [
    "print(\"Количество объектов:\", df.iid.unique().size)\n",
    "print(\"Количество пользователей:\", df.uid.unique().size)"
   ]
  },
  {
   "cell_type": "markdown",
   "metadata": {},
   "source": [
    "## Готовим выборки"
   ]
  },
  {
   "cell_type": "code",
   "execution_count": 11,
   "metadata": {
    "collapsed": true
   },
   "outputs": [],
   "source": [
    "def split_df_by_dt(df, p=0.8):\n",
    "    \"\"\"Функция разбивает df на тестовую и тренировочную выборки по времени \n",
    "    публикации отзывов (значение времени в поле dt)\n",
    "    \n",
    "    :param p: персентиль значений dt, которые образуют тренировочную выборку. Например p=0.8 означает, что в \n",
    "    тренировочной части будут отзывы, соответствующие первым 80% временного интервала \n",
    "    :return: два pd.DataFrame объекта\n",
    "    \"\"\"\n",
    "    border_dt = df.dt.quantile(p)\n",
    "    print(\"Min=%s, border=%s, max=%s\" % (df.dt.min(), border_dt, df.dt.max()))\n",
    "    training_df, test_df  = df[df.dt <= border_dt], df[df.dt > border_dt]\n",
    "    print(\"Размер до очистки:\", training_df.shape, test_df.shape)\n",
    "    # удаляем из тестовых данных строки, соответствующие пользователям или объектам, \n",
    "    # которых нет в тренировочных данных \n",
    "    # (пользователи - избегаем проблем для персональных систем, объекты - для всех)\n",
    "    test_df = test_df[test_df.uid.isin(training_df.uid) & test_df.iid.isin(training_df.iid)]\n",
    "    print(\"Размер после очистки:\", training_df.shape, test_df.shape)\n",
    "    return training_df, test_df"
   ]
  },
  {
   "cell_type": "code",
   "execution_count": 12,
   "metadata": {},
   "outputs": [
    {
     "name": "stdout",
     "output_type": "stream",
     "text": [
      "Min=939859200, border=1377129600.0, max=1405987200\n",
      "Размер до очистки: (185427, 5) (46353, 5)\n",
      "Размер после очистки: (185427, 5) (19174, 5)\n"
     ]
    }
   ],
   "source": [
    "training_df, test_df = split_df_by_dt(df)\n",
    "del df"
   ]
  },
  {
   "cell_type": "code",
   "execution_count": 13,
   "metadata": {
    "collapsed": true
   },
   "outputs": [],
   "source": [
    "'*'\n",
    "def clean_df(df, min_review_per_uid, min_review_per_iid):\n",
    "    \"\"\"Функция удаляет из df строки, соответствующие пользователям и объектам, \n",
    "    у которых меньше min_review_per_uid и min_review_per_iid отзывов соответственно\n",
    "    \"\"\"\n",
    "    _df = df.copy()\n",
    "    while True:\n",
    "        review_per_uid = _df.groupby(\"uid\").review.count()\n",
    "        bad_uids = review_per_uid[review_per_uid < min_review_per_uid].index\n",
    "    \n",
    "        review_per_iid = _df.groupby(\"iid\").review.count()\n",
    "        bad_iids = review_per_iid[review_per_iid < min_review_per_iid].index\n",
    "        \n",
    "        if bad_uids.shape[0] > 0 or bad_iids.shape[0] > 0:\n",
    "            _df = _df[(~_df.uid.isin(bad_uids)) & (~_df.iid.isin(bad_iids))]\n",
    "        else:\n",
    "            break\n",
    "    return _df"
   ]
  },
  {
   "cell_type": "markdown",
   "metadata": {},
   "source": [
    " ## Метрика"
   ]
  },
  {
   "cell_type": "markdown",
   "metadata": {},
   "source": [
    "Для упрощения тестирования предлагается использовать словарь следующего типа:\n",
    "\n",
    "```python\n",
    "recs = {\n",
    "    uid_1: {\n",
    "        iid_1: score_11,\n",
    "        iid_2: score_12,\n",
    "        ...\n",
    "    },\n",
    "    uid_2: {\n",
    "        iid_1: score_21,\n",
    "        iid_2: score_22,\n",
    "        ...\n",
    "    },\n",
    "    ...\n",
    "}\n",
    "```\n",
    "\n",
    "где `uid_i` - идентификатор тестового пользователя, `iid_j` - идентификатор рекомендованного объекта, а `score_ij` - предсказанный рейтинг/вес объекта `j` для пользователя `i`."
   ]
  },
  {
   "cell_type": "code",
   "execution_count": 14,
   "metadata": {
    "collapsed": true
   },
   "outputs": [],
   "source": [
    "def hit_ratio(recs_dict, test_dict):\n",
    "    \"\"\"Функция считает метрику hit-ration для двух словарей\n",
    "    :recs_dict: словарь рекомендаций типа {uid: {iid: score, ...}, ...}\n",
    "    :test_dict: тестовый словарь типа {uid: {iid: score, ...}, ...}\n",
    "    \"\"\"\n",
    "    hits = 0\n",
    "    for uid in test_dict:\n",
    "        if set(test_dict[uid].keys()).intersection(recs_dict.get(uid, {})):\n",
    "            hits += 1\n",
    "    return hits / len(test_dict)"
   ]
  },
  {
   "cell_type": "code",
   "execution_count": 15,
   "metadata": {
    "collapsed": true
   },
   "outputs": [],
   "source": [
    "def get_test_dict(test_df):\n",
    "    \"\"\"Функция, конвертирующая тестовый df в словарь\n",
    "    \"\"\"\n",
    "    test_dict = {}\n",
    "    for t in test_df.itertuples():\n",
    "        test_dict.setdefault(t.uid, {})\n",
    "        test_dict[t.uid][t.iid] = t.rating\n",
    "    return test_dict\n",
    "\n",
    "test_dict = get_test_dict(test_df)"
   ]
  },
  {
   "cell_type": "markdown",
   "metadata": {},
   "source": [
    "## Non-personalized RS"
   ]
  },
  {
   "cell_type": "markdown",
   "metadata": {},
   "source": [
    "В первом подзадании студент должен построить неперсонализированную рекомендательную систему. Т.е. рекомендации для одного пользователя строятся на основе отзывов, оставленных всеми пользователями.\n",
    "\n",
    "Ниже приведены базовые классы для рекомендателей, которые можно использовать при построении собственных моделей."
   ]
  },
  {
   "cell_type": "code",
   "execution_count": 16,
   "metadata": {
    "collapsed": true
   },
   "outputs": [],
   "source": [
    "class BasicRecommender(object):\n",
    "    def __init__(self):\n",
    "        pass\n",
    "    \n",
    "    def get_recs(self, uid, top):\n",
    "        \"\"\"Строит рекомендации для пользователя uid\n",
    "        :return: словарь типа {iid: score, ...}\n",
    "        \"\"\"\n",
    "        return {}\n",
    "    \n",
    "    def get_batch_recs(self, uids, top):\n",
    "        \"\"\"Строит рекомендации для нескольких пользователей uids\n",
    "        :return: словарь типа {uid: {iid: score, ...}, ...}\n",
    "        \"\"\"\n",
    "        return {uid: self.get_recs(uid, top) for uid in uids}\n",
    "    \n",
    "class NonPersRecommender(BasicRecommender):\n",
    "    def __init__(self, df):\n",
    "        super(NonPersRecommender, self).__init__()\n",
    "        self.recs = self._prepare_recs(df)\n",
    "        \n",
    "    def _prepare_recs(self, df):\n",
    "        return pd.Series([])\n",
    "    \n",
    "    def get_recs(self, uid, top):\n",
    "        return self.recs[:top].to_dict()\n",
    "    \n",
    "    def get_batch_recs(self, uids, top):\n",
    "        non_pers_recs = self.get_recs(None, top)\n",
    "        return {uid: non_pers_recs for uid in uids}"
   ]
  },
  {
   "cell_type": "markdown",
   "metadata": {},
   "source": [
    "Пример неперсональной рекомендательной системы - система, рекомендующая наиболее популярный контент."
   ]
  },
  {
   "cell_type": "code",
   "execution_count": 17,
   "metadata": {
    "collapsed": true
   },
   "outputs": [],
   "source": [
    "class MostReviewedRS(NonPersRecommender):\n",
    "    def _prepare_recs(self, df):\n",
    "        # считаем количество отзывов для каждого объекта (pandas сортирует их по убыванию)\n",
    "        return df.iid.value_counts()  \n",
    "    \n",
    "    def _create_recs_dict_for_users(self, df):\n",
    "        top_10 = self._prepare_recs(df)[:11][:-1]\n",
    "        top_10_score_dict = { iid: score for iid, score in top_10.iteritems()}\n",
    "        return { uid : top_10_score_dict for uid in df.uid.unique() }\n",
    "    \n"
   ]
  },
  {
   "cell_type": "code",
   "execution_count": 18,
   "metadata": {
    "collapsed": true
   },
   "outputs": [],
   "source": [
    "# ищем наиболее рецензируемые (читай - популярные игры) с наивысшим средним рейтингом.\n",
    "quantile_99_numb_reviews = training_df.iid.value_counts().quantile(0.99)\n",
    "training_df['number_of_reviews'] = training_df.groupby(['iid'])['rating'].transform('count')\n",
    "training_df['average_rating'] = training_df.groupby(['iid'])['rating'].transform('mean')\n",
    "active_reviews_high_rating = training_df[(training_df.number_of_reviews > quantile_99_numb_reviews)]\n"
   ]
  },
  {
   "cell_type": "code",
   "execution_count": 19,
   "metadata": {},
   "outputs": [
    {
     "data": {
      "text/html": [
       "<div>\n",
       "<style>\n",
       "    .dataframe thead tr:only-child th {\n",
       "        text-align: right;\n",
       "    }\n",
       "\n",
       "    .dataframe thead th {\n",
       "        text-align: left;\n",
       "    }\n",
       "\n",
       "    .dataframe tbody tr th {\n",
       "        vertical-align: top;\n",
       "    }\n",
       "</style>\n",
       "<table border=\"1\" class=\"dataframe\">\n",
       "  <thead>\n",
       "    <tr style=\"text-align: right;\">\n",
       "      <th></th>\n",
       "      <th>uid</th>\n",
       "      <th>iid</th>\n",
       "      <th>review</th>\n",
       "      <th>rating</th>\n",
       "      <th>dt</th>\n",
       "      <th>number_of_reviews</th>\n",
       "      <th>average_rating</th>\n",
       "    </tr>\n",
       "  </thead>\n",
       "  <tbody>\n",
       "    <tr>\n",
       "      <th>1918</th>\n",
       "      <td>1235</td>\n",
       "      <td>101</td>\n",
       "      <td>Oh, here they come! Can you hear it? The wimpy...</td>\n",
       "      <td>1.0</td>\n",
       "      <td>1365638400</td>\n",
       "      <td>225.0</td>\n",
       "      <td>4.648889</td>\n",
       "    </tr>\n",
       "    <tr>\n",
       "      <th>1919</th>\n",
       "      <td>1236</td>\n",
       "      <td>101</td>\n",
       "      <td>Since this was the first pure Rpg I had ever p...</td>\n",
       "      <td>3.0</td>\n",
       "      <td>1234396800</td>\n",
       "      <td>225.0</td>\n",
       "      <td>4.648889</td>\n",
       "    </tr>\n",
       "    <tr>\n",
       "      <th>1920</th>\n",
       "      <td>1237</td>\n",
       "      <td>101</td>\n",
       "      <td>I can't believe how many gamers are hailing th...</td>\n",
       "      <td>4.0</td>\n",
       "      <td>1173830400</td>\n",
       "      <td>225.0</td>\n",
       "      <td>4.648889</td>\n",
       "    </tr>\n",
       "    <tr>\n",
       "      <th>1922</th>\n",
       "      <td>1239</td>\n",
       "      <td>101</td>\n",
       "      <td>They really hit the mark on this one!... chara...</td>\n",
       "      <td>5.0</td>\n",
       "      <td>1074211200</td>\n",
       "      <td>225.0</td>\n",
       "      <td>4.648889</td>\n",
       "    </tr>\n",
       "    <tr>\n",
       "      <th>1923</th>\n",
       "      <td>391</td>\n",
       "      <td>101</td>\n",
       "      <td>Final Fantasy 7 is a classic. The game is grea...</td>\n",
       "      <td>5.0</td>\n",
       "      <td>1362182400</td>\n",
       "      <td>225.0</td>\n",
       "      <td>4.648889</td>\n",
       "    </tr>\n",
       "    <tr>\n",
       "      <th>1924</th>\n",
       "      <td>1240</td>\n",
       "      <td>101</td>\n",
       "      <td>Wow, the reviews here run the gamut; while I a...</td>\n",
       "      <td>5.0</td>\n",
       "      <td>1084147200</td>\n",
       "      <td>225.0</td>\n",
       "      <td>4.648889</td>\n",
       "    </tr>\n",
       "    <tr>\n",
       "      <th>1925</th>\n",
       "      <td>1241</td>\n",
       "      <td>101</td>\n",
       "      <td>I had heard about the FF series but never paid...</td>\n",
       "      <td>4.0</td>\n",
       "      <td>1107043200</td>\n",
       "      <td>225.0</td>\n",
       "      <td>4.648889</td>\n",
       "    </tr>\n",
       "    <tr>\n",
       "      <th>1926</th>\n",
       "      <td>1242</td>\n",
       "      <td>101</td>\n",
       "      <td>I love this game.  It's probably not the best ...</td>\n",
       "      <td>5.0</td>\n",
       "      <td>1296259200</td>\n",
       "      <td>225.0</td>\n",
       "      <td>4.648889</td>\n",
       "    </tr>\n",
       "    <tr>\n",
       "      <th>1927</th>\n",
       "      <td>534</td>\n",
       "      <td>101</td>\n",
       "      <td>Sephiroth, the main villian of the game, is pr...</td>\n",
       "      <td>5.0</td>\n",
       "      <td>1027900800</td>\n",
       "      <td>225.0</td>\n",
       "      <td>4.648889</td>\n",
       "    </tr>\n",
       "    <tr>\n",
       "      <th>1928</th>\n",
       "      <td>1243</td>\n",
       "      <td>101</td>\n",
       "      <td>Final Fantasy 7 is the first Final Fantasy on ...</td>\n",
       "      <td>5.0</td>\n",
       "      <td>995328000</td>\n",
       "      <td>225.0</td>\n",
       "      <td>4.648889</td>\n",
       "    </tr>\n",
       "  </tbody>\n",
       "</table>\n",
       "</div>"
      ],
      "text/plain": [
       "       uid  iid                                             review  rating  \\\n",
       "1918  1235  101  Oh, here they come! Can you hear it? The wimpy...     1.0   \n",
       "1919  1236  101  Since this was the first pure Rpg I had ever p...     3.0   \n",
       "1920  1237  101  I can't believe how many gamers are hailing th...     4.0   \n",
       "1922  1239  101  They really hit the mark on this one!... chara...     5.0   \n",
       "1923   391  101  Final Fantasy 7 is a classic. The game is grea...     5.0   \n",
       "1924  1240  101  Wow, the reviews here run the gamut; while I a...     5.0   \n",
       "1925  1241  101  I had heard about the FF series but never paid...     4.0   \n",
       "1926  1242  101  I love this game.  It's probably not the best ...     5.0   \n",
       "1927   534  101  Sephiroth, the main villian of the game, is pr...     5.0   \n",
       "1928  1243  101  Final Fantasy 7 is the first Final Fantasy on ...     5.0   \n",
       "\n",
       "              dt  number_of_reviews  average_rating  \n",
       "1918  1365638400              225.0        4.648889  \n",
       "1919  1234396800              225.0        4.648889  \n",
       "1920  1173830400              225.0        4.648889  \n",
       "1922  1074211200              225.0        4.648889  \n",
       "1923  1362182400              225.0        4.648889  \n",
       "1924  1084147200              225.0        4.648889  \n",
       "1925  1107043200              225.0        4.648889  \n",
       "1926  1296259200              225.0        4.648889  \n",
       "1927  1027900800              225.0        4.648889  \n",
       "1928   995328000              225.0        4.648889  "
      ]
     },
     "execution_count": 19,
     "metadata": {},
     "output_type": "execute_result"
    }
   ],
   "source": [
    "active_reviews_high_rating.head(10)"
   ]
  },
  {
   "cell_type": "code",
   "execution_count": 20,
   "metadata": {
    "collapsed": true
   },
   "outputs": [],
   "source": [
    "# группировка по iid и сортировка по рейтингам итогового списка\n",
    "active_reviews_high_rating_top = active_reviews_high_rating[['iid', 'average_rating']].\\\n",
    "            groupby(['iid'])['average_rating'].mean().sort_values(ascending=False)[:10]"
   ]
  },
  {
   "cell_type": "code",
   "execution_count": 21,
   "metadata": {},
   "outputs": [
    {
     "data": {
      "text/plain": [
       "iid\n",
       "8401    4.896774\n",
       "3536    4.836676\n",
       "6053    4.788396\n",
       "7163    4.782143\n",
       "1395    4.747706\n",
       "6492    4.718894\n",
       "3841    4.688679\n",
       "3854    4.666667\n",
       "6814    4.656627\n",
       "101     4.648889\n",
       "Name: average_rating, dtype: float64"
      ]
     },
     "execution_count": 21,
     "metadata": {},
     "output_type": "execute_result"
    }
   ],
   "source": [
    "active_reviews_high_rating_top"
   ]
  },
  {
   "cell_type": "code",
   "execution_count": 22,
   "metadata": {
    "collapsed": true
   },
   "outputs": [],
   "source": [
    "# формируем словарь рекомендаций\n",
    "active_reviews_high_rating_top_dict = { iid: score for iid, score in active_reviews_high_rating_top.iteritems()}\n",
    "active_high_recs = { uid : active_reviews_high_rating_top_dict for uid in training_df.uid.unique() }"
   ]
  },
  {
   "cell_type": "code",
   "execution_count": 23,
   "metadata": {},
   "outputs": [
    {
     "data": {
      "text/plain": [
       "0.047542186353631694"
      ]
     },
     "execution_count": 23,
     "metadata": {},
     "output_type": "execute_result"
    }
   ],
   "source": [
    "# оценка модели (наиболее рецензируемые игры с наивысшим рейтингом) на тестовой выборке - совсем не огонь\n",
    "hit_ratio(active_high_recs, test_dict)"
   ]
  },
  {
   "cell_type": "code",
   "execution_count": 24,
   "metadata": {},
   "outputs": [
    {
     "data": {
      "text/plain": [
       "(939859200, 1377129600)"
      ]
     },
     "execution_count": 24,
     "metadata": {},
     "output_type": "execute_result"
    }
   ],
   "source": [
    "training_df.dt.min(), training_df.dt.max()"
   ]
  },
  {
   "cell_type": "markdown",
   "metadata": {},
   "source": [
    "### Считаем игры в тренде с хорошим рейтингом и большим количеством ревью.\n",
    "###### Смотрим не на максимальное количество ревью, а выше определенного порога."
   ]
  },
  {
   "cell_type": "code",
   "execution_count": 25,
   "metadata": {},
   "outputs": [
    {
     "data": {
      "text/plain": [
       "(939859200, 1377129600)"
      ]
     },
     "execution_count": 25,
     "metadata": {},
     "output_type": "execute_result"
    }
   ],
   "source": [
    "#определяем границу трендовости игры по времени - 1 января 2012 года (тестовый диапазон с окт 1999 до августа 2013).\n",
    "timestampt_threshold = 1325376000\n",
    "\n",
    "training_df.dt.min(), training_df.dt.max()\n"
   ]
  },
  {
   "cell_type": "code",
   "execution_count": 26,
   "metadata": {
    "collapsed": true
   },
   "outputs": [],
   "source": [
    "#определяем ревью, которые выходили только после определнной даты\n",
    "trending_df = training_df[(training_df.dt.astype(int)) >= timestampt_threshold]\n",
    "del trending_df['number_of_reviews']\n",
    "del trending_df['average_rating']\n",
    "\n"
   ]
  },
  {
   "cell_type": "code",
   "execution_count": 27,
   "metadata": {},
   "outputs": [
    {
     "name": "stderr",
     "output_type": "stream",
     "text": [
      "/Users/Slava-N/anaconda/lib/python3.6/site-packages/ipykernel_launcher.py:4: SettingWithCopyWarning: \n",
      "A value is trying to be set on a copy of a slice from a DataFrame.\n",
      "Try using .loc[row_indexer,col_indexer] = value instead\n",
      "\n",
      "See the caveats in the documentation: http://pandas.pydata.org/pandas-docs/stable/indexing.html#indexing-view-versus-copy\n",
      "  after removing the cwd from sys.path.\n"
     ]
    }
   ],
   "source": [
    "#доставляем количество рейтингов в таблицу к ревью\n",
    "ratings_per_movie = trending_df.iid.value_counts()\n",
    "\n",
    "trending_df[\"nRatings\"] = trending_df.apply(lambda x: ratings_per_movie.get(x.iid, 0), axis=1)"
   ]
  },
  {
   "cell_type": "code",
   "execution_count": 28,
   "metadata": {},
   "outputs": [
    {
     "data": {
      "text/plain": [
       "(7911,)"
      ]
     },
     "execution_count": 28,
     "metadata": {},
     "output_type": "execute_result"
    }
   ],
   "source": [
    "ratings_per_movie.shape"
   ]
  },
  {
   "cell_type": "code",
   "execution_count": 29,
   "metadata": {},
   "outputs": [
    {
     "data": {
      "text/plain": [
       "(62126, 6)"
      ]
     },
     "execution_count": 29,
     "metadata": {},
     "output_type": "execute_result"
    }
   ],
   "source": [
    "trending_df.shape"
   ]
  },
  {
   "cell_type": "code",
   "execution_count": 30,
   "metadata": {},
   "outputs": [
    {
     "data": {
      "text/html": [
       "<div>\n",
       "<style>\n",
       "    .dataframe thead tr:only-child th {\n",
       "        text-align: right;\n",
       "    }\n",
       "\n",
       "    .dataframe thead th {\n",
       "        text-align: left;\n",
       "    }\n",
       "\n",
       "    .dataframe tbody tr th {\n",
       "        vertical-align: top;\n",
       "    }\n",
       "</style>\n",
       "<table border=\"1\" class=\"dataframe\">\n",
       "  <thead>\n",
       "    <tr style=\"text-align: right;\">\n",
       "      <th></th>\n",
       "      <th>uid</th>\n",
       "      <th>iid</th>\n",
       "      <th>review</th>\n",
       "      <th>rating</th>\n",
       "      <th>dt</th>\n",
       "      <th>nRatings</th>\n",
       "    </tr>\n",
       "  </thead>\n",
       "  <tbody>\n",
       "    <tr>\n",
       "      <th>186591</th>\n",
       "      <td>15968</td>\n",
       "      <td>8659</td>\n",
       "      <td>Of course it is a great thing to buy it was fo...</td>\n",
       "      <td>5.0</td>\n",
       "      <td>1356566400</td>\n",
       "      <td>361</td>\n",
       "    </tr>\n",
       "    <tr>\n",
       "      <th>186445</th>\n",
       "      <td>15693</td>\n",
       "      <td>8659</td>\n",
       "      <td>I bought Halo 4 so I would have a game to play...</td>\n",
       "      <td>3.0</td>\n",
       "      <td>1374364800</td>\n",
       "      <td>361</td>\n",
       "    </tr>\n",
       "    <tr>\n",
       "      <th>186447</th>\n",
       "      <td>14015</td>\n",
       "      <td>8659</td>\n",
       "      <td>what can i say? this game is a huge improvemen...</td>\n",
       "      <td>5.0</td>\n",
       "      <td>1356998400</td>\n",
       "      <td>361</td>\n",
       "    </tr>\n",
       "    <tr>\n",
       "      <th>186450</th>\n",
       "      <td>20852</td>\n",
       "      <td>8659</td>\n",
       "      <td>If you're looking for a change of pace from CO...</td>\n",
       "      <td>5.0</td>\n",
       "      <td>1352764800</td>\n",
       "      <td>361</td>\n",
       "    </tr>\n",
       "    <tr>\n",
       "      <th>186451</th>\n",
       "      <td>17469</td>\n",
       "      <td>8659</td>\n",
       "      <td>The story is NOT immersive.The tactical challe...</td>\n",
       "      <td>1.0</td>\n",
       "      <td>1352332800</td>\n",
       "      <td>361</td>\n",
       "    </tr>\n",
       "    <tr>\n",
       "      <th>186452</th>\n",
       "      <td>3069</td>\n",
       "      <td>8659</td>\n",
       "      <td>- GRAPHICS 5/5They are the best on the 360. Wh...</td>\n",
       "      <td>3.0</td>\n",
       "      <td>1352505600</td>\n",
       "      <td>361</td>\n",
       "    </tr>\n",
       "    <tr>\n",
       "      <th>186453</th>\n",
       "      <td>15788</td>\n",
       "      <td>8659</td>\n",
       "      <td>Even thou I like Halo 3 better, this one has b...</td>\n",
       "      <td>5.0</td>\n",
       "      <td>1363996800</td>\n",
       "      <td>361</td>\n",
       "    </tr>\n",
       "    <tr>\n",
       "      <th>186454</th>\n",
       "      <td>13766</td>\n",
       "      <td>8659</td>\n",
       "      <td>I want to love the whole package, I'm a big ha...</td>\n",
       "      <td>4.0</td>\n",
       "      <td>1352678400</td>\n",
       "      <td>361</td>\n",
       "    </tr>\n",
       "    <tr>\n",
       "      <th>186455</th>\n",
       "      <td>12098</td>\n",
       "      <td>8659</td>\n",
       "      <td>This is a great game, if you like shooter and ...</td>\n",
       "      <td>5.0</td>\n",
       "      <td>1367107200</td>\n",
       "      <td>361</td>\n",
       "    </tr>\n",
       "    <tr>\n",
       "      <th>186456</th>\n",
       "      <td>7651</td>\n",
       "      <td>8659</td>\n",
       "      <td>Pretty fun, however i'm more a GoW hardcore fa...</td>\n",
       "      <td>5.0</td>\n",
       "      <td>1363132800</td>\n",
       "      <td>361</td>\n",
       "    </tr>\n",
       "    <tr>\n",
       "      <th>186457</th>\n",
       "      <td>5599</td>\n",
       "      <td>8659</td>\n",
       "      <td>Having played every game in the halo series, I...</td>\n",
       "      <td>5.0</td>\n",
       "      <td>1352246400</td>\n",
       "      <td>361</td>\n",
       "    </tr>\n",
       "    <tr>\n",
       "      <th>186458</th>\n",
       "      <td>21473</td>\n",
       "      <td>8659</td>\n",
       "      <td>There is a reason why is only $25 dlls. some o...</td>\n",
       "      <td>2.0</td>\n",
       "      <td>1374624000</td>\n",
       "      <td>361</td>\n",
       "    </tr>\n",
       "    <tr>\n",
       "      <th>186460</th>\n",
       "      <td>18337</td>\n",
       "      <td>8659</td>\n",
       "      <td>Halo was my favorite franchise, now I feel fai...</td>\n",
       "      <td>3.0</td>\n",
       "      <td>1365292800</td>\n",
       "      <td>361</td>\n",
       "    </tr>\n",
       "    <tr>\n",
       "      <th>186462</th>\n",
       "      <td>22496</td>\n",
       "      <td>8659</td>\n",
       "      <td>This was an incredible bonus gift for us to fi...</td>\n",
       "      <td>5.0</td>\n",
       "      <td>1356048000</td>\n",
       "      <td>361</td>\n",
       "    </tr>\n",
       "    <tr>\n",
       "      <th>186463</th>\n",
       "      <td>11997</td>\n",
       "      <td>8659</td>\n",
       "      <td>Halo 4 is a great return to the Halo series an...</td>\n",
       "      <td>3.0</td>\n",
       "      <td>1362528000</td>\n",
       "      <td>361</td>\n",
       "    </tr>\n",
       "    <tr>\n",
       "      <th>186464</th>\n",
       "      <td>9265</td>\n",
       "      <td>8659</td>\n",
       "      <td>To start off, I've been a huge fan of the Halo...</td>\n",
       "      <td>5.0</td>\n",
       "      <td>1352332800</td>\n",
       "      <td>361</td>\n",
       "    </tr>\n",
       "    <tr>\n",
       "      <th>186465</th>\n",
       "      <td>9307</td>\n",
       "      <td>8659</td>\n",
       "      <td>Halo 4 is the best of all the Halo's out there...</td>\n",
       "      <td>5.0</td>\n",
       "      <td>1361145600</td>\n",
       "      <td>361</td>\n",
       "    </tr>\n",
       "    <tr>\n",
       "      <th>186466</th>\n",
       "      <td>12102</td>\n",
       "      <td>8659</td>\n",
       "      <td>I'm a huge halo fanboy so I was alittle concer...</td>\n",
       "      <td>5.0</td>\n",
       "      <td>1355011200</td>\n",
       "      <td>361</td>\n",
       "    </tr>\n",
       "    <tr>\n",
       "      <th>186467</th>\n",
       "      <td>23129</td>\n",
       "      <td>8659</td>\n",
       "      <td>What more could you say, its Halo, great multi...</td>\n",
       "      <td>5.0</td>\n",
       "      <td>1361750400</td>\n",
       "      <td>361</td>\n",
       "    </tr>\n",
       "    <tr>\n",
       "      <th>186468</th>\n",
       "      <td>13804</td>\n",
       "      <td>8659</td>\n",
       "      <td>Game is ok.... Better than reach but not even ...</td>\n",
       "      <td>3.0</td>\n",
       "      <td>1352505600</td>\n",
       "      <td>361</td>\n",
       "    </tr>\n",
       "  </tbody>\n",
       "</table>\n",
       "</div>"
      ],
      "text/plain": [
       "          uid   iid                                             review  \\\n",
       "186591  15968  8659  Of course it is a great thing to buy it was fo...   \n",
       "186445  15693  8659  I bought Halo 4 so I would have a game to play...   \n",
       "186447  14015  8659  what can i say? this game is a huge improvemen...   \n",
       "186450  20852  8659  If you're looking for a change of pace from CO...   \n",
       "186451  17469  8659  The story is NOT immersive.The tactical challe...   \n",
       "186452   3069  8659  - GRAPHICS 5/5They are the best on the 360. Wh...   \n",
       "186453  15788  8659  Even thou I like Halo 3 better, this one has b...   \n",
       "186454  13766  8659  I want to love the whole package, I'm a big ha...   \n",
       "186455  12098  8659  This is a great game, if you like shooter and ...   \n",
       "186456   7651  8659  Pretty fun, however i'm more a GoW hardcore fa...   \n",
       "186457   5599  8659  Having played every game in the halo series, I...   \n",
       "186458  21473  8659  There is a reason why is only $25 dlls. some o...   \n",
       "186460  18337  8659  Halo was my favorite franchise, now I feel fai...   \n",
       "186462  22496  8659  This was an incredible bonus gift for us to fi...   \n",
       "186463  11997  8659  Halo 4 is a great return to the Halo series an...   \n",
       "186464   9265  8659  To start off, I've been a huge fan of the Halo...   \n",
       "186465   9307  8659  Halo 4 is the best of all the Halo's out there...   \n",
       "186466  12102  8659  I'm a huge halo fanboy so I was alittle concer...   \n",
       "186467  23129  8659  What more could you say, its Halo, great multi...   \n",
       "186468  13804  8659  Game is ok.... Better than reach but not even ...   \n",
       "\n",
       "        rating          dt  nRatings  \n",
       "186591     5.0  1356566400       361  \n",
       "186445     3.0  1374364800       361  \n",
       "186447     5.0  1356998400       361  \n",
       "186450     5.0  1352764800       361  \n",
       "186451     1.0  1352332800       361  \n",
       "186452     3.0  1352505600       361  \n",
       "186453     5.0  1363996800       361  \n",
       "186454     4.0  1352678400       361  \n",
       "186455     5.0  1367107200       361  \n",
       "186456     5.0  1363132800       361  \n",
       "186457     5.0  1352246400       361  \n",
       "186458     2.0  1374624000       361  \n",
       "186460     3.0  1365292800       361  \n",
       "186462     5.0  1356048000       361  \n",
       "186463     3.0  1362528000       361  \n",
       "186464     5.0  1352332800       361  \n",
       "186465     5.0  1361145600       361  \n",
       "186466     5.0  1355011200       361  \n",
       "186467     5.0  1361750400       361  \n",
       "186468     3.0  1352505600       361  "
      ]
     },
     "execution_count": 30,
     "metadata": {},
     "output_type": "execute_result"
    }
   ],
   "source": [
    "trending_df.sort_values('nRatings', ascending=False).head(20)"
   ]
  },
  {
   "cell_type": "code",
   "execution_count": 31,
   "metadata": {},
   "outputs": [
    {
     "name": "stderr",
     "output_type": "stream",
     "text": [
      "/Users/Slava-N/anaconda/lib/python3.6/site-packages/ipykernel_launcher.py:2: SettingWithCopyWarning: \n",
      "A value is trying to be set on a copy of a slice from a DataFrame.\n",
      "Try using .loc[row_indexer,col_indexer] = value instead\n",
      "\n",
      "See the caveats in the documentation: http://pandas.pydata.org/pandas-docs/stable/indexing.html#indexing-view-versus-copy\n",
      "  \n"
     ]
    }
   ],
   "source": [
    "average_rating_trending = trending_df[[\"iid\", \"rating\"]].groupby(\"iid\").rating.mean().sort_values(ascending=False)\n",
    "trending_df['average_rating'] = trending_df.apply(lambda x: average_rating_trending.get(x.iid, 0), axis=1)\n"
   ]
  },
  {
   "cell_type": "code",
   "execution_count": 32,
   "metadata": {
    "collapsed": true
   },
   "outputs": [],
   "source": [
    "#выбираем только ревью по играм, у которых больше 100 отзывов\n",
    "trending_reviewed_high_rating = trending_df[trending_df.nRatings > 100]"
   ]
  },
  {
   "cell_type": "code",
   "execution_count": 33,
   "metadata": {
    "collapsed": true
   },
   "outputs": [],
   "source": [
    "trending_reviewed_high_rating.sort_values('average_rating', ascending=False)\n",
    "top_10_trending_reviewed_high_rating = trending_reviewed_high_rating[['iid','average_rating']].\\\n",
    "        groupby(\"iid\").mean().sort_values('average_rating', ascending=False)[:10]"
   ]
  },
  {
   "cell_type": "code",
   "execution_count": 34,
   "metadata": {
    "collapsed": true
   },
   "outputs": [],
   "source": [
    "top_10_trending_reviewed_high_rating=pd.Series(top_10_trending_reviewed_high_rating.loc[:,'average_rating'])"
   ]
  },
  {
   "cell_type": "code",
   "execution_count": 35,
   "metadata": {},
   "outputs": [
    {
     "data": {
      "text/plain": [
       "iid\n",
       "8401    4.888889\n",
       "3536    4.864151\n",
       "7163    4.760870\n",
       "6492    4.712230\n",
       "7913    4.696774\n",
       "9250    4.644231\n",
       "9267    4.633803\n",
       "5390    4.632000\n",
       "8160    4.590164\n",
       "8208    4.552147\n",
       "Name: average_rating, dtype: float64"
      ]
     },
     "execution_count": 35,
     "metadata": {},
     "output_type": "execute_result"
    }
   ],
   "source": [
    "top_10_trending_reviewed_high_rating"
   ]
  },
  {
   "cell_type": "code",
   "execution_count": 36,
   "metadata": {
    "collapsed": true
   },
   "outputs": [],
   "source": [
    "trending_active_reviwed_high_rating_top_dict = { iid: score for iid, score in top_10_trending_reviewed_high_rating.iteritems()}\n",
    "trending_active_rating_recs = { uid : trending_active_reviwed_high_rating_top_dict for uid in training_df.uid.unique() }"
   ]
  },
  {
   "cell_type": "code",
   "execution_count": 37,
   "metadata": {},
   "outputs": [
    {
     "data": {
      "text/plain": [
       "{3536: 4.8641509433962264,\n",
       " 5390: 4.6319999999999855,\n",
       " 6492: 4.7122302158273461,\n",
       " 7163: 4.760869565217388,\n",
       " 7913: 4.6967741935483973,\n",
       " 8160: 4.5901639344262355,\n",
       " 8208: 4.5521472392638218,\n",
       " 8401: 4.8888888888889026,\n",
       " 9250: 4.6442307692307727,\n",
       " 9267: 4.633802816901385}"
      ]
     },
     "execution_count": 37,
     "metadata": {},
     "output_type": "execute_result"
    }
   ],
   "source": [
    "trending_active_reviwed_high_rating_top_dict"
   ]
  },
  {
   "cell_type": "code",
   "execution_count": 38,
   "metadata": {},
   "outputs": [
    {
     "data": {
      "text/plain": [
       "0.10403521643433603"
      ]
     },
     "execution_count": 38,
     "metadata": {},
     "output_type": "execute_result"
    }
   ],
   "source": [
    "# удалось добиться неплохого результата только комбинацией простых инструментов\n",
    "hit_ratio(trending_active_rating_recs, test_dict)"
   ]
  },
  {
   "cell_type": "markdown",
   "metadata": {},
   "source": [
    "Не совсем понимаю, как сделать кросс-валидацию для подбора гиперпараметров (минимальное количество ревью по объекту для попадания в выборку, дата выпуска). Ведь, если будем бить случайно, то результат получится неправильный, ведь важна временная последовательность. Если будем постепенно увеличивать отрезок, начиная с небольшого, то гиперпараметр будет меняться (например, дата ревью). Как делают cv в таких случаях?"
   ]
  },
  {
   "cell_type": "markdown",
   "metadata": {},
   "source": [
    "#### `HR@10` для non-personalized модели, созданной автором блокнота: 0.055"
   ]
  },
  {
   "cell_type": "markdown",
   "metadata": {},
   "source": [
    "### Подсказки\n",
    "Подумайте, какие игры обычно приобретают люди. \n",
    "* Какие свойства, помимо, популярности могут помочь покупателю выбрать игру, если у него нет явных предпочтений? \n",
    "* Можно ли как-нибудь использовать рейтинги или время публикации отзывов?"
   ]
  },
  {
   "cell_type": "markdown",
   "metadata": {
    "collapsed": true
   },
   "source": [
    "## Content-based RS"
   ]
  },
  {
   "cell_type": "markdown",
   "metadata": {},
   "source": [
    "Простая content-based рекомендательная система описывает пользователей и объекты как вектора в некотором N-мерном пространстве фич. Вектор объекта показывает, насколько объект принадлежит к той или иной фиче. Вектор пользователя показывает, насколько пользователь предпочитает ту или иную фичу. Рекомендации строятся путем поиска объектов, чьи вектора похожи на вектор предпочтений пользователя. Предполагается, что чем более похожи вектора пользователя и объекта, тем интереснее этот объект пользователю."
   ]
  },
  {
   "cell_type": "markdown",
   "metadata": {},
   "source": [
    "#### `HR@10` для content-based, модели созданной автором блокнота: 0.065"
   ]
  },
  {
   "cell_type": "code",
   "execution_count": 39,
   "metadata": {},
   "outputs": [
    {
     "data": {
      "text/plain": [
       "['Installing the game was a struggle (because of games for windows live bugs).Some championship races and cars can only be \"unlocked\" by buying them as an addon to the game. I paid nearly 30 dollars when the game was new. I don\\'t like the idea that I have to keep paying to keep playing.I noticed no improvement in the physics or graphics compared to Dirt 2.I tossed it in the garbage and vowed never to buy another codemasters game. I\\'m really tired of arcade style rally/racing games anyway.I\\'ll continue to get my fix from Richard Burns Rally, and you should to. :)http://www.amazon.com/Richard-Burns-Rally-PC/dp/B000C97156/ref=sr_1_1?ie=UTF8&qid;=1341886844&sr;=8-1&keywords;=richard+burns+rallyThank you for reading my review! If you enjoyed it, be sure to rate it as helpful.']"
      ]
     },
     "execution_count": 39,
     "metadata": {},
     "output_type": "execute_result"
    }
   ],
   "source": [
    "list(training_df.review)[:1]"
   ]
  },
  {
   "cell_type": "code",
   "execution_count": 40,
   "metadata": {
    "collapsed": true
   },
   "outputs": [],
   "source": [
    "films_reviews = []\n",
    "for each in list(training_df.review):\n",
    "    review = [ x.lower() for x in each.split() if len(set(x)) > 0.3*len(x) ]\n",
    "    films_reviews.append(' '.join(review))\n"
   ]
  },
  {
   "cell_type": "code",
   "execution_count": 41,
   "metadata": {},
   "outputs": [
    {
     "data": {
      "text/plain": [
       "229247654"
      ]
     },
     "execution_count": 41,
     "metadata": {},
     "output_type": "execute_result"
    }
   ],
   "source": [
    "len(' '.join(list(training_df.review)))"
   ]
  },
  {
   "cell_type": "code",
   "execution_count": 42,
   "metadata": {},
   "outputs": [
    {
     "data": {
      "text/plain": [
       "228504991"
      ]
     },
     "execution_count": 42,
     "metadata": {},
     "output_type": "execute_result"
    }
   ],
   "source": [
    "len(','.join(films_reviews))\n"
   ]
  },
  {
   "cell_type": "markdown",
   "metadata": {},
   "source": [
    "фильтр, который предложила одногруппница - если буква заполняет более 70% слова - помог избавиться от 1.5 млн фичей."
   ]
  },
  {
   "cell_type": "code",
   "execution_count": 43,
   "metadata": {
    "collapsed": true
   },
   "outputs": [],
   "source": [
    "#импорт и расчет tfidf\n",
    "from sklearn.feature_extraction.text import TfidfVectorizer\n"
   ]
  },
  {
   "cell_type": "code",
   "execution_count": 44,
   "metadata": {
    "collapsed": true
   },
   "outputs": [],
   "source": [
    "tfidf = TfidfVectorizer(stop_words='english')"
   ]
  },
  {
   "cell_type": "code",
   "execution_count": 45,
   "metadata": {},
   "outputs": [
    {
     "data": {
      "text/plain": [
       "TfidfVectorizer(analyzer='word', binary=False, decode_error='strict',\n",
       "        dtype=<class 'numpy.int64'>, encoding='utf-8', input='content',\n",
       "        lowercase=True, max_df=1.0, max_features=None, min_df=1,\n",
       "        ngram_range=(1, 1), norm='l2', preprocessor=None, smooth_idf=True,\n",
       "        stop_words='english', strip_accents=None, sublinear_tf=False,\n",
       "        token_pattern='(?u)\\\\b\\\\w\\\\w+\\\\b', tokenizer=None, use_idf=True,\n",
       "        vocabulary=None)"
      ]
     },
     "execution_count": 45,
     "metadata": {},
     "output_type": "execute_result"
    }
   ],
   "source": [
    "tfidf.fit(films_reviews)"
   ]
  },
  {
   "cell_type": "code",
   "execution_count": 46,
   "metadata": {
    "collapsed": true
   },
   "outputs": [],
   "source": [
    "item_profile = tfidf.transform(films_reviews)"
   ]
  },
  {
   "cell_type": "code",
   "execution_count": 47,
   "metadata": {
    "collapsed": true
   },
   "outputs": [],
   "source": [
    "# далее использую функции из примера построения cbrm для формирования матрицы профилей объектов и пользователей\n",
    "review_ftr_m = item_profile.multiply(training_df.rating.values.reshape(-1, 1)).tocsr()"
   ]
  },
  {
   "cell_type": "code",
   "execution_count": 48,
   "metadata": {
    "collapsed": true
   },
   "outputs": [],
   "source": [
    "from sklearn.preprocessing import normalize\n",
    "from scipy.sparse import vstack\n",
    "\n",
    "def _prepare_iid_data(df, review_ftr_m): \n",
    "    iid_to_row = {}\n",
    "    rows = []\n",
    "    # не самый оптимальный group by       \n",
    "    for row_id, iid in enumerate(df.iid.unique()):\n",
    "        iid_to_row[iid] = row_id\n",
    "        iid_ftr_m = csr_matrix(\n",
    "            review_ftr_m[np.where(df.iid == iid)[0]].sum(axis=0)\n",
    "        )\n",
    "        rows.append(iid_ftr_m)\n",
    "    iid_ftr_m = normalize(vstack(rows, format='csr'))\n",
    "    return iid_to_row, iid_ftr_m\n",
    "\n",
    "iid_to_row, iid_ftr_m = _prepare_iid_data(training_df, review_ftr_m)"
   ]
  },
  {
   "cell_type": "code",
   "execution_count": 49,
   "metadata": {
    "collapsed": true
   },
   "outputs": [],
   "source": [
    "def _prepare_uid_data(df, iid_to_row, iid_ftr_m):  \n",
    "        uid_to_row = {}\n",
    "        rows = []\n",
    "        \n",
    "        # gr_df - кусок df с данными одного пользователя \n",
    "        for gr_id, gr_df in df.groupby(\"uid\"):\n",
    "            uid = gr_df.uid.values[0]\n",
    "            \n",
    "            # поиск объектов и пользовательских рейтингов для них\n",
    "            iid_rows = []\n",
    "            ratings = []\n",
    "            for iid, rating in zip(gr_df.iid.values, gr_df.rating.values):\n",
    "                if iid in iid_to_row:\n",
    "                    iid_rows.append(iid_to_row[iid])\n",
    "                    ratings.append(rating)\n",
    "                  \n",
    "            # создание профиля пользователя\n",
    "            if iid_rows:\n",
    "                ratings = np.array(ratings).reshape(-1, 1)\n",
    "                uid_ftr_m = csr_matrix(\n",
    "                    iid_ftr_m[iid_rows].multiply(ratings).sum(axis=0)\n",
    "                ) \n",
    "                uid_to_row[uid] = len(uid_to_row)\n",
    "                rows.append(uid_ftr_m)\n",
    "            \n",
    "        uid_ftr_m = normalize(vstack(rows, format='csr'))\n",
    "        return uid_to_row, uid_ftr_m\n",
    "    \n",
    "uid_to_row, uid_ftr_m = _prepare_uid_data(training_df, iid_to_row, iid_ftr_m)"
   ]
  },
  {
   "cell_type": "code",
   "execution_count": 50,
   "metadata": {
    "collapsed": true
   },
   "outputs": [],
   "source": [
    "ftr_iid_m = iid_ftr_m.T.tocsr()\n",
    "row_to_iid = {row_id: iid for iid, row_id in iid_to_row.items()}"
   ]
  },
  {
   "cell_type": "code",
   "execution_count": 51,
   "metadata": {
    "collapsed": true
   },
   "outputs": [],
   "source": [
    "def get_recs(uid, top=N):\n",
    "    recs = {}\n",
    "    if uid in uid_to_row:\n",
    "        u_row_id = uid_to_row[uid]\n",
    "        u_row = uid_ftr_m[u_row_id]\n",
    "\n",
    "        # самописный cosine similarity\n",
    "        u_recs = u_row.dot(ftr_iid_m)\n",
    "\n",
    "        for arg_id in np.argsort(u_recs.data)[-top:]:\n",
    "            row_id = u_recs.indices[arg_id]\n",
    "            score = u_recs.data[arg_id]\n",
    "            recs[row_to_iid[row_id]] = score\n",
    "    return recs"
   ]
  },
  {
   "cell_type": "code",
   "execution_count": null,
   "metadata": {
    "collapsed": true
   },
   "outputs": [],
   "source": []
  },
  {
   "cell_type": "code",
   "execution_count": 115,
   "metadata": {},
   "outputs": [
    {
     "data": {
      "text/plain": [
       "{0: {},\n",
       " 1: {},\n",
       " 3: {},\n",
       " 4: {},\n",
       " 5: {},\n",
       " 6: {},\n",
       " 7: {},\n",
       " 8: {},\n",
       " 10: {},\n",
       " 11: {},\n",
       " 14: {},\n",
       " 15: {},\n",
       " 16: {},\n",
       " 17: {},\n",
       " 18: {},\n",
       " 20: {},\n",
       " 21: {},\n",
       " 22: {},\n",
       " 23: {},\n",
       " 24: {},\n",
       " 25: {},\n",
       " 26: {},\n",
       " 28: {},\n",
       " 30: {},\n",
       " 31: {},\n",
       " 32: {},\n",
       " 33: {},\n",
       " 35: {},\n",
       " 36: {},\n",
       " 37: {},\n",
       " 38: {},\n",
       " 40: {},\n",
       " 41: {},\n",
       " 43: {},\n",
       " 44: {},\n",
       " 45: {},\n",
       " 46: {},\n",
       " 47: {},\n",
       " 48: {},\n",
       " 49: {},\n",
       " 50: {},\n",
       " 51: {},\n",
       " 52: {},\n",
       " 53: {},\n",
       " 54: {},\n",
       " 55: {},\n",
       " 56: {},\n",
       " 57: {},\n",
       " 58: {},\n",
       " 59: {},\n",
       " 60: {},\n",
       " 61: {},\n",
       " 63: {},\n",
       " 65: {},\n",
       " 66: {},\n",
       " 67: {},\n",
       " 68: {},\n",
       " 69: {},\n",
       " 70: {},\n",
       " 72: {},\n",
       " 73: {},\n",
       " 74: {},\n",
       " 75: {},\n",
       " 76: {},\n",
       " 79: {},\n",
       " 80: {},\n",
       " 81: {},\n",
       " 83: {},\n",
       " 86: {},\n",
       " 88: {},\n",
       " 89: {},\n",
       " 91: {},\n",
       " 92: {},\n",
       " 93: {},\n",
       " 97: {},\n",
       " 101: {},\n",
       " 103: {},\n",
       " 104: {},\n",
       " 105: {},\n",
       " 106: {},\n",
       " 107: {},\n",
       " 109: {},\n",
       " 110: {},\n",
       " 113: {},\n",
       " 114: {},\n",
       " 115: {},\n",
       " 116: {},\n",
       " 117: {},\n",
       " 118: {},\n",
       " 119: {},\n",
       " 120: {},\n",
       " 121: {},\n",
       " 122: {},\n",
       " 123: {},\n",
       " 124: {},\n",
       " 126: {},\n",
       " 128: {},\n",
       " 129: {},\n",
       " 130: {},\n",
       " 131: {},\n",
       " 132: {},\n",
       " 134: {},\n",
       " 135: {},\n",
       " 136: {},\n",
       " 137: {},\n",
       " 138: {},\n",
       " 139: {},\n",
       " 140: {},\n",
       " 141: {},\n",
       " 142: {},\n",
       " 143: {},\n",
       " 144: {},\n",
       " 145: {},\n",
       " 146: {},\n",
       " 149: {},\n",
       " 150: {},\n",
       " 151: {},\n",
       " 152: {},\n",
       " 154: {},\n",
       " 155: {},\n",
       " 156: {},\n",
       " 158: {},\n",
       " 159: {},\n",
       " 160: {},\n",
       " 161: {},\n",
       " 162: {},\n",
       " 163: {},\n",
       " 164: {},\n",
       " 165: {},\n",
       " 166: {},\n",
       " 167: {},\n",
       " 168: {},\n",
       " 169: {},\n",
       " 170: {},\n",
       " 171: {},\n",
       " 172: {},\n",
       " 173: {},\n",
       " 174: {},\n",
       " 175: {},\n",
       " 176: {},\n",
       " 177: {},\n",
       " 178: {},\n",
       " 179: {},\n",
       " 180: {},\n",
       " 181: {},\n",
       " 182: {},\n",
       " 183: {},\n",
       " 184: {},\n",
       " 185: {},\n",
       " 186: {},\n",
       " 187: {},\n",
       " 188: {},\n",
       " 189: {},\n",
       " 191: {},\n",
       " 192: {},\n",
       " 193: {},\n",
       " 195: {},\n",
       " 196: {},\n",
       " 197: {},\n",
       " 198: {},\n",
       " 199: {},\n",
       " 200: {},\n",
       " 201: {},\n",
       " 202: {},\n",
       " 203: {},\n",
       " 204: {},\n",
       " 205: {},\n",
       " 206: {},\n",
       " 207: {},\n",
       " 209: {},\n",
       " 211: {},\n",
       " 212: {},\n",
       " 214: {},\n",
       " 215: {},\n",
       " 216: {},\n",
       " 217: {},\n",
       " 218: {},\n",
       " 219: {},\n",
       " 220: {},\n",
       " 221: {},\n",
       " 222: {},\n",
       " 223: {},\n",
       " 225: {},\n",
       " 226: {},\n",
       " 227: {},\n",
       " 228: {},\n",
       " 229: {},\n",
       " 230: {},\n",
       " 231: {},\n",
       " 234: {},\n",
       " 235: {},\n",
       " 236: {},\n",
       " 237: {},\n",
       " 224: {},\n",
       " 239: {},\n",
       " 240: {},\n",
       " 243: {},\n",
       " 244: {},\n",
       " 245: {},\n",
       " 246: {},\n",
       " 248: {},\n",
       " 249: {},\n",
       " 250: {},\n",
       " 251: {},\n",
       " 252: {},\n",
       " 253: {},\n",
       " 254: {},\n",
       " 255: {},\n",
       " 256: {},\n",
       " 257: {},\n",
       " 258: {},\n",
       " 259: {},\n",
       " 260: {},\n",
       " 261: {},\n",
       " 262: {},\n",
       " 263: {},\n",
       " 264: {},\n",
       " 265: {},\n",
       " 266: {},\n",
       " 267: {},\n",
       " 268: {},\n",
       " 269: {},\n",
       " 270: {},\n",
       " 271: {},\n",
       " 272: {},\n",
       " 274: {},\n",
       " 275: {},\n",
       " 276: {},\n",
       " 277: {},\n",
       " 278: {},\n",
       " 279: {},\n",
       " 280: {},\n",
       " 281: {},\n",
       " 282: {},\n",
       " 283: {},\n",
       " 284: {},\n",
       " 285: {},\n",
       " 286: {},\n",
       " 287: {},\n",
       " 288: {},\n",
       " 289: {},\n",
       " 290: {},\n",
       " 291: {},\n",
       " 292: {},\n",
       " 293: {},\n",
       " 294: {},\n",
       " 295: {},\n",
       " 296: {},\n",
       " 297: {},\n",
       " 298: {},\n",
       " 299: {},\n",
       " 300: {},\n",
       " 301: {},\n",
       " 302: {},\n",
       " 303: {},\n",
       " 304: {},\n",
       " 305: {},\n",
       " 306: {},\n",
       " 307: {},\n",
       " 308: {},\n",
       " 309: {},\n",
       " 310: {},\n",
       " 311: {},\n",
       " 312: {},\n",
       " 313: {},\n",
       " 314: {},\n",
       " 315: {},\n",
       " 316: {},\n",
       " 317: {},\n",
       " 318: {},\n",
       " 319: {},\n",
       " 320: {},\n",
       " 321: {},\n",
       " 322: {},\n",
       " 323: {},\n",
       " 324: {},\n",
       " 325: {},\n",
       " 326: {},\n",
       " 327: {},\n",
       " 328: {},\n",
       " 329: {},\n",
       " 330: {},\n",
       " 331: {},\n",
       " 332: {},\n",
       " 333: {},\n",
       " 335: {},\n",
       " 336: {},\n",
       " 338: {},\n",
       " 339: {},\n",
       " 340: {},\n",
       " 342: {},\n",
       " 343: {},\n",
       " 344: {},\n",
       " 345: {},\n",
       " 346: {},\n",
       " 347: {},\n",
       " 349: {},\n",
       " 350: {},\n",
       " 351: {},\n",
       " 352: {},\n",
       " 353: {},\n",
       " 354: {},\n",
       " 356: {},\n",
       " 357: {},\n",
       " 358: {},\n",
       " 359: {},\n",
       " 360: {},\n",
       " 361: {},\n",
       " 363: {},\n",
       " 364: {},\n",
       " 365: {},\n",
       " 366: {},\n",
       " 367: {},\n",
       " 368: {},\n",
       " 369: {},\n",
       " 370: {},\n",
       " 371: {},\n",
       " 373: {},\n",
       " 374: {},\n",
       " 375: {},\n",
       " 376: {},\n",
       " 377: {},\n",
       " 378: {},\n",
       " 379: {},\n",
       " 380: {},\n",
       " 381: {},\n",
       " 382: {},\n",
       " 383: {},\n",
       " 384: {},\n",
       " 385: {},\n",
       " 386: {},\n",
       " 387: {},\n",
       " 389: {},\n",
       " 390: {},\n",
       " 391: {},\n",
       " 392: {},\n",
       " 393: {},\n",
       " 394: {},\n",
       " 395: {},\n",
       " 396: {},\n",
       " 397: {},\n",
       " 398: {},\n",
       " 399: {},\n",
       " 400: {},\n",
       " 401: {},\n",
       " 402: {},\n",
       " 403: {},\n",
       " 405: {},\n",
       " 406: {},\n",
       " 407: {},\n",
       " 408: {},\n",
       " 409: {},\n",
       " 410: {},\n",
       " 411: {},\n",
       " 412: {},\n",
       " 413: {},\n",
       " 414: {},\n",
       " 415: {},\n",
       " 416: {},\n",
       " 417: {},\n",
       " 418: {},\n",
       " 419: {},\n",
       " 420: {},\n",
       " 422: {},\n",
       " 423: {},\n",
       " 424: {},\n",
       " 425: {},\n",
       " 426: {},\n",
       " 427: {},\n",
       " 428: {},\n",
       " 429: {},\n",
       " 430: {},\n",
       " 431: {},\n",
       " 432: {},\n",
       " 433: {},\n",
       " 434: {},\n",
       " 435: {},\n",
       " 436: {},\n",
       " 437: {},\n",
       " 438: {},\n",
       " 439: {},\n",
       " 440: {},\n",
       " 441: {},\n",
       " 442: {},\n",
       " 443: {},\n",
       " 444: {},\n",
       " 445: {},\n",
       " 446: {},\n",
       " 448: {},\n",
       " 449: {},\n",
       " 451: {},\n",
       " 452: {},\n",
       " 453: {},\n",
       " 454: {},\n",
       " 455: {},\n",
       " 456: {},\n",
       " 457: {},\n",
       " 458: {},\n",
       " 459: {},\n",
       " 460: {},\n",
       " 461: {},\n",
       " 462: {},\n",
       " 464: {},\n",
       " 465: {},\n",
       " 466: {},\n",
       " 467: {},\n",
       " 468: {},\n",
       " 469: {},\n",
       " 472: {},\n",
       " 473: {},\n",
       " 474: {},\n",
       " 475: {},\n",
       " 476: {},\n",
       " 477: {},\n",
       " 478: {},\n",
       " 479: {},\n",
       " 481: {},\n",
       " 482: {},\n",
       " 483: {},\n",
       " 484: {},\n",
       " 372: {},\n",
       " 485: {},\n",
       " 486: {},\n",
       " 487: {},\n",
       " 488: {},\n",
       " 489: {},\n",
       " 490: {},\n",
       " 491: {},\n",
       " 492: {},\n",
       " 493: {},\n",
       " 494: {},\n",
       " 495: {},\n",
       " 496: {},\n",
       " 497: {},\n",
       " 498: {},\n",
       " 499: {},\n",
       " 500: {},\n",
       " 502: {},\n",
       " 503: {},\n",
       " 504: {},\n",
       " 505: {},\n",
       " 506: {},\n",
       " 507: {},\n",
       " 508: {},\n",
       " 509: {},\n",
       " 512: {},\n",
       " 513: {},\n",
       " 514: {},\n",
       " 515: {},\n",
       " 516: {},\n",
       " 517: {},\n",
       " 518: {},\n",
       " 519: {},\n",
       " 520: {},\n",
       " 521: {},\n",
       " 522: {},\n",
       " 524: {},\n",
       " 525: {},\n",
       " 526: {},\n",
       " 527: {},\n",
       " 528: {},\n",
       " 529: {},\n",
       " 530: {},\n",
       " 531: {},\n",
       " 532: {},\n",
       " 533: {},\n",
       " 534: {},\n",
       " 535: {},\n",
       " 536: {},\n",
       " 538: {},\n",
       " 540: {},\n",
       " 541: {},\n",
       " 542: {},\n",
       " 543: {},\n",
       " 544: {},\n",
       " 545: {},\n",
       " 546: {},\n",
       " 549: {},\n",
       " 550: {},\n",
       " 553: {},\n",
       " 554: {},\n",
       " 555: {},\n",
       " 556: {},\n",
       " 557: {},\n",
       " 558: {},\n",
       " 559: {},\n",
       " 560: {},\n",
       " 561: {},\n",
       " 562: {},\n",
       " 563: {},\n",
       " 564: {},\n",
       " 565: {},\n",
       " 566: {},\n",
       " 567: {},\n",
       " 568: {},\n",
       " 569: {},\n",
       " 570: {},\n",
       " 571: {},\n",
       " 572: {},\n",
       " 573: {},\n",
       " 574: {},\n",
       " 575: {},\n",
       " 576: {},\n",
       " 577: {},\n",
       " 578: {},\n",
       " 579: {},\n",
       " 580: {},\n",
       " 581: {},\n",
       " 582: {},\n",
       " 583: {},\n",
       " 584: {},\n",
       " 585: {},\n",
       " 586: {},\n",
       " 587: {},\n",
       " 588: {},\n",
       " 590: {},\n",
       " 591: {},\n",
       " 592: {},\n",
       " 593: {},\n",
       " 594: {},\n",
       " 595: {},\n",
       " 596: {},\n",
       " 597: {},\n",
       " 598: {},\n",
       " 599: {},\n",
       " 600: {},\n",
       " 601: {},\n",
       " 602: {},\n",
       " 604: {},\n",
       " 605: {},\n",
       " 606: {},\n",
       " 607: {},\n",
       " 608: {},\n",
       " 609: {},\n",
       " 610: {},\n",
       " 611: {},\n",
       " 612: {},\n",
       " 613: {},\n",
       " 614: {},\n",
       " 615: {},\n",
       " 616: {},\n",
       " 617: {},\n",
       " 618: {},\n",
       " 619: {},\n",
       " 620: {},\n",
       " 621: {},\n",
       " 622: {},\n",
       " 623: {},\n",
       " 624: {},\n",
       " 625: {},\n",
       " 626: {},\n",
       " 627: {},\n",
       " 628: {},\n",
       " 629: {},\n",
       " 630: {},\n",
       " 631: {},\n",
       " 632: {},\n",
       " 633: {},\n",
       " 634: {},\n",
       " 635: {},\n",
       " 636: {},\n",
       " 637: {},\n",
       " 638: {},\n",
       " 639: {},\n",
       " 640: {},\n",
       " 641: {},\n",
       " 642: {},\n",
       " 643: {},\n",
       " 644: {},\n",
       " 645: {},\n",
       " 646: {},\n",
       " 647: {},\n",
       " 648: {},\n",
       " 649: {},\n",
       " 650: {},\n",
       " 651: {},\n",
       " 653: {},\n",
       " 655: {},\n",
       " 656: {},\n",
       " 658: {},\n",
       " 659: {},\n",
       " 660: {},\n",
       " 661: {},\n",
       " 662: {},\n",
       " 663: {},\n",
       " 665: {},\n",
       " 666: {},\n",
       " 668: {},\n",
       " 669: {},\n",
       " 670: {},\n",
       " 671: {},\n",
       " 672: {},\n",
       " 673: {},\n",
       " 674: {},\n",
       " 675: {},\n",
       " 676: {},\n",
       " 677: {},\n",
       " 678: {},\n",
       " 679: {},\n",
       " 680: {},\n",
       " 681: {},\n",
       " 682: {},\n",
       " 683: {},\n",
       " 685: {},\n",
       " 686: {},\n",
       " 687: {},\n",
       " 689: {},\n",
       " 690: {},\n",
       " 691: {},\n",
       " 693: {},\n",
       " 696: {},\n",
       " 698: {},\n",
       " 699: {},\n",
       " 700: {},\n",
       " 701: {},\n",
       " 501: {},\n",
       " 702: {},\n",
       " 703: {},\n",
       " 704: {},\n",
       " 705: {},\n",
       " 706: {},\n",
       " 707: {},\n",
       " 708: {},\n",
       " 709: {},\n",
       " 710: {},\n",
       " 712: {},\n",
       " 713: {},\n",
       " 714: {},\n",
       " 715: {},\n",
       " 716: {},\n",
       " 717: {},\n",
       " 718: {},\n",
       " 719: {},\n",
       " 720: {},\n",
       " 721: {},\n",
       " 722: {},\n",
       " 723: {},\n",
       " 724: {},\n",
       " 725: {},\n",
       " 726: {},\n",
       " 727: {},\n",
       " 728: {},\n",
       " 729: {},\n",
       " 730: {},\n",
       " 731: {},\n",
       " 732: {},\n",
       " 733: {},\n",
       " 734: {},\n",
       " 735: {},\n",
       " 736: {},\n",
       " 737: {},\n",
       " 739: {},\n",
       " 740: {},\n",
       " 742: {},\n",
       " 743: {},\n",
       " 745: {},\n",
       " 746: {},\n",
       " 748: {},\n",
       " 749: {},\n",
       " 751: {},\n",
       " 752: {},\n",
       " 754: {},\n",
       " 755: {},\n",
       " 758: {},\n",
       " 759: {},\n",
       " 760: {},\n",
       " 761: {},\n",
       " 762: {},\n",
       " 763: {},\n",
       " 764: {},\n",
       " 765: {},\n",
       " 766: {},\n",
       " 767: {},\n",
       " 768: {},\n",
       " 769: {},\n",
       " 770: {},\n",
       " 771: {},\n",
       " 772: {},\n",
       " 773: {},\n",
       " 775: {},\n",
       " 777: {},\n",
       " 778: {},\n",
       " 779: {},\n",
       " 780: {},\n",
       " 781: {},\n",
       " 782: {},\n",
       " 784: {},\n",
       " 785: {},\n",
       " 786: {},\n",
       " 787: {},\n",
       " 788: {},\n",
       " 789: {},\n",
       " 790: {},\n",
       " 791: {},\n",
       " 792: {},\n",
       " 793: {},\n",
       " 794: {},\n",
       " 795: {},\n",
       " 797: {},\n",
       " 208: {},\n",
       " 798: {},\n",
       " 799: {},\n",
       " 801: {},\n",
       " 802: {},\n",
       " 803: {},\n",
       " 805: {},\n",
       " 807: {},\n",
       " 808: {},\n",
       " 809: {},\n",
       " 811: {},\n",
       " 812: {},\n",
       " 813: {},\n",
       " 815: {},\n",
       " 816: {},\n",
       " 817: {},\n",
       " 818: {},\n",
       " 819: {},\n",
       " 820: {},\n",
       " 821: {},\n",
       " 822: {},\n",
       " 823: {},\n",
       " 824: {},\n",
       " 825: {},\n",
       " 826: {},\n",
       " 828: {},\n",
       " 829: {},\n",
       " 830: {},\n",
       " 831: {},\n",
       " 833: {},\n",
       " 835: {},\n",
       " 836: {},\n",
       " 837: {},\n",
       " 838: {},\n",
       " 839: {},\n",
       " 840: {},\n",
       " 841: {},\n",
       " 842: {},\n",
       " 843: {},\n",
       " 844: {},\n",
       " 845: {},\n",
       " 846: {},\n",
       " 847: {},\n",
       " 848: {},\n",
       " 849: {},\n",
       " 850: {},\n",
       " 851: {},\n",
       " 854: {},\n",
       " 855: {},\n",
       " 856: {},\n",
       " 857: {},\n",
       " 858: {},\n",
       " 860: {},\n",
       " 861: {},\n",
       " 862: {},\n",
       " 863: {},\n",
       " 864: {},\n",
       " 865: {},\n",
       " 866: {},\n",
       " 867: {},\n",
       " 868: {},\n",
       " 870: {},\n",
       " 871: {},\n",
       " 872: {},\n",
       " 873: {},\n",
       " 877: {},\n",
       " 878: {},\n",
       " 879: {},\n",
       " 881: {},\n",
       " 882: {},\n",
       " 883: {},\n",
       " 884: {},\n",
       " 885: {},\n",
       " 886: {},\n",
       " 887: {},\n",
       " 888: {},\n",
       " 889: {},\n",
       " 890: {},\n",
       " 891: {},\n",
       " 892: {},\n",
       " 893: {},\n",
       " 894: {},\n",
       " 895: {},\n",
       " 896: {},\n",
       " 897: {},\n",
       " 899: {},\n",
       " 900: {},\n",
       " 901: {},\n",
       " 902: {},\n",
       " 903: {},\n",
       " 905: {},\n",
       " 906: {},\n",
       " 908: {},\n",
       " 909: {},\n",
       " 910: {},\n",
       " 911: {},\n",
       " 912: {},\n",
       " 913: {},\n",
       " 914: {},\n",
       " 915: {},\n",
       " 918: {},\n",
       " 920: {},\n",
       " 921: {},\n",
       " 923: {},\n",
       " 925: {},\n",
       " 926: {},\n",
       " 927: {},\n",
       " 928: {},\n",
       " 929: {},\n",
       " 931: {},\n",
       " 932: {},\n",
       " 933: {},\n",
       " 935: {},\n",
       " 936: {},\n",
       " 937: {},\n",
       " 938: {},\n",
       " 940: {},\n",
       " 941: {},\n",
       " 942: {},\n",
       " 943: {},\n",
       " 944: {},\n",
       " 945: {},\n",
       " 947: {},\n",
       " 949: {},\n",
       " 950: {},\n",
       " 952: {},\n",
       " 953: {},\n",
       " 954: {},\n",
       " 955: {},\n",
       " 956: {},\n",
       " 957: {},\n",
       " 958: {},\n",
       " 959: {},\n",
       " 960: {},\n",
       " 961: {},\n",
       " 962: {},\n",
       " 963: {},\n",
       " 965: {},\n",
       " 966: {},\n",
       " 967: {},\n",
       " 969: {},\n",
       " 970: {},\n",
       " 972: {},\n",
       " 973: {},\n",
       " 975: {},\n",
       " 976: {},\n",
       " 977: {},\n",
       " 978: {},\n",
       " 979: {},\n",
       " 980: {},\n",
       " 983: {},\n",
       " 984: {},\n",
       " 986: {},\n",
       " 987: {},\n",
       " 988: {},\n",
       " 989: {},\n",
       " 990: {},\n",
       " 991: {},\n",
       " 992: {},\n",
       " 993: {},\n",
       " 994: {},\n",
       " 995: {},\n",
       " 996: {},\n",
       " 997: {},\n",
       " 998: {},\n",
       " 999: {},\n",
       " 1000: {},\n",
       " 1001: {},\n",
       " 1002: {},\n",
       " 1003: {},\n",
       " 1004: {},\n",
       " 1005: {},\n",
       " 1006: {},\n",
       " 1007: {},\n",
       " 1008: {},\n",
       " 1009: {},\n",
       " 1010: {},\n",
       " 1011: {},\n",
       " 1013: {},\n",
       " 1015: {},\n",
       " 1018: {},\n",
       " 1019: {},\n",
       " 1020: {},\n",
       " 1022: {},\n",
       " 1023: {},\n",
       " 1024: {},\n",
       " 1025: {},\n",
       " 1027: {},\n",
       " 1029: {},\n",
       " 1030: {},\n",
       " 1031: {},\n",
       " 1032: {},\n",
       " 1035: {},\n",
       " 1036: {},\n",
       " 1037: {},\n",
       " 1038: {},\n",
       " 1040: {},\n",
       " 1041: {},\n",
       " 1042: {},\n",
       " 1043: {},\n",
       " 1044: {},\n",
       " 1046: {},\n",
       " 1047: {},\n",
       " 1048: {},\n",
       " 1049: {},\n",
       " 1050: {},\n",
       " 1051: {},\n",
       " 1052: {},\n",
       " 1053: {},\n",
       " 1054: {},\n",
       " 1055: {},\n",
       " 1056: {},\n",
       " 1057: {},\n",
       " 1058: {},\n",
       " 1059: {},\n",
       " 1061: {},\n",
       " 1062: {},\n",
       " 1063: {},\n",
       " 1064: {},\n",
       " 1065: {},\n",
       " 1066: {},\n",
       " 1067: {},\n",
       " 1068: {},\n",
       " 1069: {},\n",
       " 1070: {},\n",
       " 1071: {},\n",
       " 1072: {},\n",
       " 1074: {},\n",
       " 1075: {},\n",
       " 1076: {},\n",
       " 1077: {},\n",
       " 1078: {},\n",
       " 1079: {},\n",
       " 1080: {},\n",
       " 1081: {},\n",
       " 1082: {},\n",
       " 1083: {},\n",
       " 1084: {},\n",
       " 1085: {},\n",
       " 1086: {},\n",
       " 1087: {},\n",
       " 1088: {},\n",
       " 1089: {},\n",
       " 1090: {},\n",
       " 1091: {},\n",
       " 1092: {},\n",
       " 1093: {},\n",
       " 1094: {},\n",
       " 1095: {},\n",
       " 1096: {},\n",
       " 1097: {},\n",
       " 1098: {},\n",
       " 1099: {},\n",
       " 1102: {},\n",
       " 1103: {},\n",
       " 1104: {},\n",
       " 1105: {},\n",
       " 1106: {},\n",
       " 1107: {},\n",
       " 1108: {},\n",
       " 1109: {},\n",
       " 1110: {},\n",
       " 1112: {},\n",
       " 1113: {},\n",
       " 1114: {},\n",
       " 1115: {},\n",
       " 1117: {},\n",
       " 1118: {},\n",
       " 1119: {},\n",
       " 1012: {},\n",
       " 1120: {},\n",
       " 1121: {},\n",
       " 1122: {},\n",
       " 1124: {},\n",
       " 1125: {},\n",
       " 1126: {},\n",
       " 1127: {},\n",
       " 1128: {},\n",
       " 1129: {},\n",
       " 1130: {},\n",
       " 1131: {},\n",
       " 1132: {},\n",
       " 1133: {},\n",
       " 1134: {},\n",
       " 1135: {},\n",
       " 1137: {},\n",
       " 1138: {},\n",
       " 1123: {},\n",
       " 1139: {},\n",
       " 1140: {},\n",
       " 1141: {},\n",
       " 1142: {},\n",
       " 1143: {},\n",
       " 1144: {},\n",
       " 1145: {},\n",
       " 1146: {},\n",
       " 1147: {},\n",
       " 232: {},\n",
       " 1148: {},\n",
       " 1150: {},\n",
       " 1151: {},\n",
       " ...}"
      ]
     },
     "execution_count": 115,
     "metadata": {},
     "output_type": "execute_result"
    }
   ],
   "source": [
    "watched_films = {uid: {} for uid in training_df.uid.unique()}\n",
    "watched_films"
   ]
  },
  {
   "cell_type": "code",
   "execution_count": 160,
   "metadata": {},
   "outputs": [],
   "source": [
    "training_df_new = training_df[['iid','uid']]\n",
    "\n"
   ]
  },
  {
   "cell_type": "code",
   "execution_count": 163,
   "metadata": {},
   "outputs": [
    {
     "data": {
      "text/html": [
       "<div>\n",
       "<style>\n",
       "    .dataframe thead tr:only-child th {\n",
       "        text-align: right;\n",
       "    }\n",
       "\n",
       "    .dataframe thead th {\n",
       "        text-align: left;\n",
       "    }\n",
       "\n",
       "    .dataframe tbody tr th {\n",
       "        vertical-align: top;\n",
       "    }\n",
       "</style>\n",
       "<table border=\"1\" class=\"dataframe\">\n",
       "  <thead>\n",
       "    <tr style=\"text-align: right;\">\n",
       "      <th></th>\n",
       "      <th>iid</th>\n",
       "      <th>uid</th>\n",
       "    </tr>\n",
       "  </thead>\n",
       "  <tbody>\n",
       "    <tr>\n",
       "      <th>0</th>\n",
       "      <td>0</td>\n",
       "      <td>0</td>\n",
       "    </tr>\n",
       "    <tr>\n",
       "      <th>1</th>\n",
       "      <td>0</td>\n",
       "      <td>1</td>\n",
       "    </tr>\n",
       "    <tr>\n",
       "      <th>3</th>\n",
       "      <td>0</td>\n",
       "      <td>3</td>\n",
       "    </tr>\n",
       "    <tr>\n",
       "      <th>4</th>\n",
       "      <td>0</td>\n",
       "      <td>4</td>\n",
       "    </tr>\n",
       "    <tr>\n",
       "      <th>5</th>\n",
       "      <td>0</td>\n",
       "      <td>5</td>\n",
       "    </tr>\n",
       "    <tr>\n",
       "      <th>6</th>\n",
       "      <td>0</td>\n",
       "      <td>6</td>\n",
       "    </tr>\n",
       "    <tr>\n",
       "      <th>7</th>\n",
       "      <td>0</td>\n",
       "      <td>7</td>\n",
       "    </tr>\n",
       "    <tr>\n",
       "      <th>8</th>\n",
       "      <td>0</td>\n",
       "      <td>8</td>\n",
       "    </tr>\n",
       "    <tr>\n",
       "      <th>10</th>\n",
       "      <td>0</td>\n",
       "      <td>10</td>\n",
       "    </tr>\n",
       "    <tr>\n",
       "      <th>11</th>\n",
       "      <td>0</td>\n",
       "      <td>11</td>\n",
       "    </tr>\n",
       "  </tbody>\n",
       "</table>\n",
       "</div>"
      ],
      "text/plain": [
       "    iid  uid\n",
       "0     0    0\n",
       "1     0    1\n",
       "3     0    3\n",
       "4     0    4\n",
       "5     0    5\n",
       "6     0    6\n",
       "7     0    7\n",
       "8     0    8\n",
       "10    0   10\n",
       "11    0   11"
      ]
     },
     "execution_count": 163,
     "metadata": {},
     "output_type": "execute_result"
    }
   ],
   "source": [
    "training_df_new.head(10)"
   ]
  },
  {
   "cell_type": "code",
   "execution_count": 164,
   "metadata": {},
   "outputs": [],
   "source": [
    "for each in watched_films.keys():\n",
    "    add_film = set(training_df_new[training_df_new.uid == each].iid.unique())\n",
    "    watched_films[each] = (add_film)\n"
   ]
  },
  {
   "cell_type": "code",
   "execution_count": null,
   "metadata": {
    "collapsed": true
   },
   "outputs": [],
   "source": []
  },
  {
   "cell_type": "code",
   "execution_count": 216,
   "metadata": {},
   "outputs": [
    {
     "data": {
      "text/plain": [
       "{40, 1531, 1760, 1790, 1875, 2012, 2158}"
      ]
     },
     "execution_count": 216,
     "metadata": {},
     "output_type": "execute_result"
    }
   ],
   "source": [
    "watched_films[557]"
   ]
  },
  {
   "cell_type": "code",
   "execution_count": null,
   "metadata": {
    "collapsed": true
   },
   "outputs": [],
   "source": []
  },
  {
   "cell_type": "code",
   "execution_count": 221,
   "metadata": {},
   "outputs": [],
   "source": [
    "def get_recs_wo_watched(uid, top=N):\n",
    "    recs = {}\n",
    "    if uid in uid_to_row:\n",
    "        u_row_id = uid_to_row[uid]\n",
    "        u_row = uid_ftr_m[u_row_id]\n",
    "\n",
    "        # самописный cosine similarity\n",
    "        u_recs = u_row.dot(ftr_iid_m)\n",
    "\n",
    "        for arg_id in np.argsort(u_recs.data)[-top*2:]:\n",
    "            row_id = u_recs.indices[arg_id]\n",
    "            score = u_recs.data[arg_id]\n",
    "            recs[row_to_iid[row_id]] = score\n",
    "            \n",
    "    new_recs = dict()\n",
    "    \n",
    "    for each in recs.keys():\n",
    "        if each not in watched_films[uid]:\n",
    "            new_recs.update({each:recs[each]})\n",
    "#     print(new_recs)\n",
    "    \n",
    "    new_recs_top = dict(sorted(new_recs.items(), key = lambda x: x[1])[-N:])\n",
    "        \n",
    "    return new_recs_top"
   ]
  },
  {
   "cell_type": "code",
   "execution_count": 222,
   "metadata": {},
   "outputs": [
    {
     "data": {
      "text/plain": [
       "{387: 0.6579562582227928,\n",
       " 2006: 0.61947794451477634,\n",
       " 2346: 0.65868459422056835,\n",
       " 3858: 0.6413120296460203,\n",
       " 3862: 0.6339038973636606,\n",
       " 4542: 0.62243704828163848,\n",
       " 4819: 0.62207005245923053,\n",
       " 8626: 0.63320418111287358,\n",
       " 8656: 0.63384827750894768,\n",
       " 9267: 0.62346690239515212}"
      ]
     },
     "execution_count": 222,
     "metadata": {},
     "output_type": "execute_result"
    }
   ],
   "source": [
    "get_recs_wo_watched(557)"
   ]
  },
  {
   "cell_type": "code",
   "execution_count": 223,
   "metadata": {},
   "outputs": [
    {
     "data": {
      "text/plain": [
       "{40: 0.71872420269889536,\n",
       " 387: 0.6579562582227928,\n",
       " 1875: 0.67585387881843217,\n",
       " 2012: 0.69913349747772402,\n",
       " 2158: 0.6813514252602606,\n",
       " 2346: 0.65868459422056835,\n",
       " 3858: 0.6413120296460203,\n",
       " 3862: 0.6339038973636606,\n",
       " 8626: 0.63320418111287358,\n",
       " 8656: 0.63384827750894768}"
      ]
     },
     "execution_count": 223,
     "metadata": {},
     "output_type": "execute_result"
    }
   ],
   "source": [
    "get_recs(557)"
   ]
  },
  {
   "cell_type": "code",
   "execution_count": 224,
   "metadata": {},
   "outputs": [
    {
     "data": {
      "text/plain": [
       "{2230: 0.68158845152921799,\n",
       " 2346: 0.73018265509906655,\n",
       " 2499: 0.73130440682030051,\n",
       " 2603: 0.65906336041150926,\n",
       " 3293: 0.66488611398903208,\n",
       " 3862: 0.70681247147651349,\n",
       " 4104: 0.66142824206061723,\n",
       " 4573: 0.66297732000907073,\n",
       " 4819: 0.690069490182601,\n",
       " 4861: 0.66163307220479106}"
      ]
     },
     "execution_count": 224,
     "metadata": {},
     "output_type": "execute_result"
    }
   ],
   "source": [
    "get_recs(558)"
   ]
  },
  {
   "cell_type": "code",
   "execution_count": 54,
   "metadata": {
    "collapsed": true
   },
   "outputs": [],
   "source": [
    "cbrs = {uid: get_recs(uid) for uid in training_df.uid.unique()}"
   ]
  },
  {
   "cell_type": "code",
   "execution_count": 55,
   "metadata": {},
   "outputs": [
    {
     "data": {
      "text/plain": [
       "0.06515040352164343"
      ]
     },
     "execution_count": 55,
     "metadata": {},
     "output_type": "execute_result"
    }
   ],
   "source": [
    "hit_ratio(cbrs, test_dict)"
   ]
  },
  {
   "cell_type": "code",
   "execution_count": 225,
   "metadata": {},
   "outputs": [],
   "source": [
    "cbrs_1 = {uid: get_recs_wo_watched(uid) for uid in training_df.uid.unique()}"
   ]
  },
  {
   "cell_type": "code",
   "execution_count": 226,
   "metadata": {},
   "outputs": [
    {
     "data": {
      "text/plain": [
       "0.07747615553925165"
      ]
     },
     "execution_count": 226,
     "metadata": {},
     "output_type": "execute_result"
    }
   ],
   "source": [
    "hit_ratio_ratio(cbrs_1, test_dict)"
   ]
  },
  {
   "cell_type": "markdown",
   "metadata": {},
   "source": [
    "Базовая cbrm дала результат ниже, чем non-personalized recommendation model.\n",
    "Зато после того, как убрали дубли, результат вырос!"
   ]
  },
  {
   "cell_type": "markdown",
   "metadata": {},
   "source": [
    "## Item-based collaborative filtering RS"
   ]
  },
  {
   "cell_type": "markdown",
   "metadata": {},
   "source": [
    "Item-based CF основан на идее, что пользователь предпочтет объекты, похожие на те, что он приобретал ранее. Данные в CF модели представлены матрицей `user x item`, где ячейка матрицы соответствует рейтингу, который пользователь поставил объекту. Вместо рейтингов в матрице могут быть вероятности (т.е. вероятность, что пользователь воспользуется объектом). Для работы модели необходимо построить матрицу `item x item` схожести объектов. Обычно для построения матрицы схожести используется исходная матрица `user x item`. Чтобы уменьшить шумы в матрице схожести, для каждого объекта хранят только $K$ наиболее похожих объектов.\n",
    "\n",
    "В простейшем случае рекомендации строятся путем нахождения объектов с наибольшим значением предсказанного рейтинга:\n",
    "$$\\hat{r}_{ui} = \\frac{\\sum_{j \\in I_u} r_{uj} * sim(j, i)}{\\sum_{j \\in I_u} r_{uj}}$$\n",
    "\n",
    "* $I_u$ - множество объектов, оцененных пользователем\n",
    "* $sim(j, i)$ - схожесть между объектами $j$ и $i$\n",
    "\n",
    "Часто из финальных рекомендаций для пользователя $u$ исключаются объекты $I_u$."
   ]
  },
  {
   "cell_type": "code",
   "execution_count": null,
   "metadata": {
    "collapsed": true
   },
   "outputs": [],
   "source": [
    "# вспомогательные функции, которые могут пригодиться при построении Item-based CF\n",
    "def nullify_main_diagonal(m):\n",
    "    positions = range(m.shape[0])\n",
    "    eye = csr_matrix((np.ones(len(positions)), (positions, positions)), m.shape)\n",
    "    return m - m.multiply(eye)\n",
    "\n",
    "\n",
    "def get_topk(matrix, top, axis=1):\n",
    "    \"\"\"Converts source matrix to Top-K matrix\n",
    "    where each row or column contains only top K values\n",
    "\n",
    "    :param matrix: source matrix\n",
    "    :param top: number of top items to be stored\n",
    "    :param axis: 0 - top by column, 1 - top by row\n",
    "    :return:\n",
    "    \"\"\"\n",
    "    rows = []\n",
    "    cols = []\n",
    "    data = []\n",
    "\n",
    "    if axis == 0:\n",
    "        matrix = matrix.T.tocsr()\n",
    "\n",
    "    for row_id, row in enumerate(matrix):\n",
    "        if top is not None and row.nnz > top:\n",
    "            top_args = np.argsort(row.data)[-top:]\n",
    "\n",
    "            rows += [row_id] * top\n",
    "            cols += row.indices[top_args].tolist()\n",
    "            data += row.data[top_args].tolist()\n",
    "        elif row.nnz > 0:\n",
    "            rows += [row_id] * row.nnz\n",
    "            cols += row.indices.tolist()\n",
    "            data += row.data.tolist()\n",
    "\n",
    "    topk_m = csr_matrix((data, (rows, cols)), (matrix.shape[0], matrix.shape[1]))\n",
    "\n",
    "    if axis == 0:\n",
    "        topk_m = topk_m.T.tocsr()\n",
    "\n",
    "    return topk_m"
   ]
  },
  {
   "cell_type": "markdown",
   "metadata": {},
   "source": [
    "#### `HR@10` для item-based CF модели, созданной автором блокнота: 0.085"
   ]
  },
  {
   "cell_type": "markdown",
   "metadata": {},
   "source": [
    "### Подcказки\n",
    "* Определитесь с тем, что вы пытаетесь предсказать (рейтинги, вероятности, ...)\n",
    "* Оптимальный способ вычисления матрицы схожести выглядит так:\n",
    " * Привести строки в матрице `user x item` к единичной длине (выделяет основные предпочтения пользователя)\n",
    " * Построить матрицу схожести `item x item`\n",
    " * Для каждого объекта оставить только $K$ наиболее похожих объектов\n",
    " * Для каждого объекта привести к единичной длине вектор схожести этого объекта (выделяет наиболее схожие объекты)\n",
    "* Удалили ли вы из рекомендаций объекты, которые пользователь уже оценивал?\n",
    "* Статья \"Item-Based Top-N Recommendation Algorithms\", Mukund Deshpande и George Karypis"
   ]
  },
  {
   "cell_type": "code",
   "execution_count": null,
   "metadata": {
    "collapsed": true
   },
   "outputs": [],
   "source": []
  },
  {
   "cell_type": "code",
   "execution_count": null,
   "metadata": {
    "collapsed": true
   },
   "outputs": [],
   "source": []
  },
  {
   "cell_type": "code",
   "execution_count": null,
   "metadata": {
    "collapsed": true
   },
   "outputs": [],
   "source": []
  },
  {
   "cell_type": "code",
   "execution_count": null,
   "metadata": {
    "collapsed": true
   },
   "outputs": [],
   "source": []
  },
  {
   "cell_type": "code",
   "execution_count": null,
   "metadata": {
    "collapsed": true
   },
   "outputs": [],
   "source": []
  },
  {
   "cell_type": "code",
   "execution_count": null,
   "metadata": {
    "collapsed": true
   },
   "outputs": [],
   "source": []
  },
  {
   "cell_type": "code",
   "execution_count": null,
   "metadata": {
    "collapsed": true
   },
   "outputs": [],
   "source": []
  },
  {
   "cell_type": "markdown",
   "metadata": {},
   "source": [
    "## Hybrid RS"
   ]
  },
  {
   "cell_type": "markdown",
   "metadata": {},
   "source": [
    "Гибридная рекомендательная система - это объединение нескольких рекомендательных систем (мы не будем перечислять тут возможные способы гибридизации). Цель гибридизации - воспользоваться сильными сторонами нескольких моделей, чтобы улучшить качество рекомендаций.\n",
    "\n",
    "В данном задании студент должен создать гибридную систему, состояющую **как минимум** из двух подсистем."
   ]
  },
  {
   "cell_type": "markdown",
   "metadata": {},
   "source": [
    "#### `HR@10` для гибридной модели, созданной автором блокнота: 0.096"
   ]
  },
  {
   "cell_type": "markdown",
   "metadata": {},
   "source": [
    "### Подcказки\n",
    "* Определите сильные и слабые стороны различных моделей\n",
    "* Какие из них коррелируют? А какие могут дополнять друг друга?\n",
    "* Только конечный результат работы системы должен содержать $N$ рекомендаций (промежуточные могут содержать больше)"
   ]
  },
  {
   "cell_type": "markdown",
   "metadata": {},
   "source": [
    "## P.S.\n",
    "В коде возможны пасхальные яйца ]:->, если у вас возникли вопросы, не стесняйтесь их задавать."
   ]
  },
  {
   "cell_type": "markdown",
   "metadata": {},
   "source": [
    "### поскольку Rochio имеет проблему с холодным стартом, то назначим для пользователей, которые написали немного рейтингов неперсонализированные рекомендации\n"
   ]
  },
  {
   "cell_type": "code",
   "execution_count": null,
   "metadata": {
    "collapsed": true
   },
   "outputs": [],
   "source": []
  },
  {
   "cell_type": "code",
   "execution_count": null,
   "metadata": {
    "collapsed": true
   },
   "outputs": [],
   "source": []
  },
  {
   "cell_type": "code",
   "execution_count": null,
   "metadata": {
    "collapsed": true
   },
   "outputs": [],
   "source": []
  },
  {
   "cell_type": "code",
   "execution_count": null,
   "metadata": {
    "collapsed": true
   },
   "outputs": [],
   "source": []
  },
  {
   "cell_type": "code",
   "execution_count": null,
   "metadata": {
    "collapsed": true
   },
   "outputs": [],
   "source": []
  },
  {
   "cell_type": "code",
   "execution_count": null,
   "metadata": {
    "collapsed": true
   },
   "outputs": [],
   "source": []
  },
  {
   "cell_type": "code",
   "execution_count": null,
   "metadata": {
    "collapsed": true
   },
   "outputs": [],
   "source": []
  }
 ],
 "metadata": {
  "kernelspec": {
   "display_name": "Python 3",
   "language": "python",
   "name": "python3"
  },
  "language_info": {
   "codemirror_mode": {
    "name": "ipython",
    "version": 3
   },
   "file_extension": ".py",
   "mimetype": "text/x-python",
   "name": "python",
   "nbconvert_exporter": "python",
   "pygments_lexer": "ipython3",
   "version": "3.6.1"
  }
 },
 "nbformat": 4,
 "nbformat_minor": 2
}
