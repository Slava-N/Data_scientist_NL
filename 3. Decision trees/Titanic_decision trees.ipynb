{
 "cells": [
  {
   "cell_type": "code",
   "execution_count": 128,
   "metadata": {
    "collapsed": true
   },
   "outputs": [],
   "source": [
    "import numpy as np\n",
    "import pandas as pd\n",
    "import matplotlib.pyplot as plt\n",
    "%matplotlib inline"
   ]
  },
  {
   "cell_type": "code",
   "execution_count": 69,
   "metadata": {
    "collapsed": true
   },
   "outputs": [],
   "source": [
    "test = pd.read_csv( 'titanic/test.csv' )\n",
    "train = pd.read_csv( 'titanic/train.csv' )"
   ]
  },
  {
   "cell_type": "code",
   "execution_count": 70,
   "metadata": {},
   "outputs": [
    {
     "data": {
      "text/html": [
       "<div>\n",
       "<style>\n",
       "    .dataframe thead tr:only-child th {\n",
       "        text-align: right;\n",
       "    }\n",
       "\n",
       "    .dataframe thead th {\n",
       "        text-align: left;\n",
       "    }\n",
       "\n",
       "    .dataframe tbody tr th {\n",
       "        vertical-align: top;\n",
       "    }\n",
       "</style>\n",
       "<table border=\"1\" class=\"dataframe\">\n",
       "  <thead>\n",
       "    <tr style=\"text-align: right;\">\n",
       "      <th></th>\n",
       "      <th>PassengerId</th>\n",
       "      <th>Pclass</th>\n",
       "      <th>Name</th>\n",
       "      <th>Sex</th>\n",
       "      <th>Age</th>\n",
       "      <th>SibSp</th>\n",
       "      <th>Parch</th>\n",
       "      <th>Ticket</th>\n",
       "      <th>Fare</th>\n",
       "      <th>Cabin</th>\n",
       "      <th>Embarked</th>\n",
       "    </tr>\n",
       "  </thead>\n",
       "  <tbody>\n",
       "    <tr>\n",
       "      <th>0</th>\n",
       "      <td>892</td>\n",
       "      <td>3</td>\n",
       "      <td>Kelly, Mr. James</td>\n",
       "      <td>male</td>\n",
       "      <td>34.5</td>\n",
       "      <td>0</td>\n",
       "      <td>0</td>\n",
       "      <td>330911</td>\n",
       "      <td>7.8292</td>\n",
       "      <td>NaN</td>\n",
       "      <td>Q</td>\n",
       "    </tr>\n",
       "    <tr>\n",
       "      <th>1</th>\n",
       "      <td>893</td>\n",
       "      <td>3</td>\n",
       "      <td>Wilkes, Mrs. James (Ellen Needs)</td>\n",
       "      <td>female</td>\n",
       "      <td>47.0</td>\n",
       "      <td>1</td>\n",
       "      <td>0</td>\n",
       "      <td>363272</td>\n",
       "      <td>7.0000</td>\n",
       "      <td>NaN</td>\n",
       "      <td>S</td>\n",
       "    </tr>\n",
       "    <tr>\n",
       "      <th>2</th>\n",
       "      <td>894</td>\n",
       "      <td>2</td>\n",
       "      <td>Myles, Mr. Thomas Francis</td>\n",
       "      <td>male</td>\n",
       "      <td>62.0</td>\n",
       "      <td>0</td>\n",
       "      <td>0</td>\n",
       "      <td>240276</td>\n",
       "      <td>9.6875</td>\n",
       "      <td>NaN</td>\n",
       "      <td>Q</td>\n",
       "    </tr>\n",
       "    <tr>\n",
       "      <th>3</th>\n",
       "      <td>895</td>\n",
       "      <td>3</td>\n",
       "      <td>Wirz, Mr. Albert</td>\n",
       "      <td>male</td>\n",
       "      <td>27.0</td>\n",
       "      <td>0</td>\n",
       "      <td>0</td>\n",
       "      <td>315154</td>\n",
       "      <td>8.6625</td>\n",
       "      <td>NaN</td>\n",
       "      <td>S</td>\n",
       "    </tr>\n",
       "    <tr>\n",
       "      <th>4</th>\n",
       "      <td>896</td>\n",
       "      <td>3</td>\n",
       "      <td>Hirvonen, Mrs. Alexander (Helga E Lindqvist)</td>\n",
       "      <td>female</td>\n",
       "      <td>22.0</td>\n",
       "      <td>1</td>\n",
       "      <td>1</td>\n",
       "      <td>3101298</td>\n",
       "      <td>12.2875</td>\n",
       "      <td>NaN</td>\n",
       "      <td>S</td>\n",
       "    </tr>\n",
       "  </tbody>\n",
       "</table>\n",
       "</div>"
      ],
      "text/plain": [
       "   PassengerId  Pclass                                          Name     Sex  \\\n",
       "0          892       3                              Kelly, Mr. James    male   \n",
       "1          893       3              Wilkes, Mrs. James (Ellen Needs)  female   \n",
       "2          894       2                     Myles, Mr. Thomas Francis    male   \n",
       "3          895       3                              Wirz, Mr. Albert    male   \n",
       "4          896       3  Hirvonen, Mrs. Alexander (Helga E Lindqvist)  female   \n",
       "\n",
       "    Age  SibSp  Parch   Ticket     Fare Cabin Embarked  \n",
       "0  34.5      0      0   330911   7.8292   NaN        Q  \n",
       "1  47.0      1      0   363272   7.0000   NaN        S  \n",
       "2  62.0      0      0   240276   9.6875   NaN        Q  \n",
       "3  27.0      0      0   315154   8.6625   NaN        S  \n",
       "4  22.0      1      1  3101298  12.2875   NaN        S  "
      ]
     },
     "execution_count": 70,
     "metadata": {},
     "output_type": "execute_result"
    }
   ],
   "source": [
    "test.head()"
   ]
  },
  {
   "cell_type": "code",
   "execution_count": 71,
   "metadata": {},
   "outputs": [
    {
     "data": {
      "text/html": [
       "<div>\n",
       "<style>\n",
       "    .dataframe thead tr:only-child th {\n",
       "        text-align: right;\n",
       "    }\n",
       "\n",
       "    .dataframe thead th {\n",
       "        text-align: left;\n",
       "    }\n",
       "\n",
       "    .dataframe tbody tr th {\n",
       "        vertical-align: top;\n",
       "    }\n",
       "</style>\n",
       "<table border=\"1\" class=\"dataframe\">\n",
       "  <thead>\n",
       "    <tr style=\"text-align: right;\">\n",
       "      <th></th>\n",
       "      <th>PassengerId</th>\n",
       "      <th>Survived</th>\n",
       "      <th>Pclass</th>\n",
       "      <th>Name</th>\n",
       "      <th>Sex</th>\n",
       "      <th>Age</th>\n",
       "      <th>SibSp</th>\n",
       "      <th>Parch</th>\n",
       "      <th>Ticket</th>\n",
       "      <th>Fare</th>\n",
       "      <th>Cabin</th>\n",
       "      <th>Embarked</th>\n",
       "    </tr>\n",
       "  </thead>\n",
       "  <tbody>\n",
       "    <tr>\n",
       "      <th>0</th>\n",
       "      <td>1</td>\n",
       "      <td>0</td>\n",
       "      <td>3</td>\n",
       "      <td>Braund, Mr. Owen Harris</td>\n",
       "      <td>male</td>\n",
       "      <td>22.0</td>\n",
       "      <td>1</td>\n",
       "      <td>0</td>\n",
       "      <td>A/5 21171</td>\n",
       "      <td>7.2500</td>\n",
       "      <td>NaN</td>\n",
       "      <td>S</td>\n",
       "    </tr>\n",
       "    <tr>\n",
       "      <th>1</th>\n",
       "      <td>2</td>\n",
       "      <td>1</td>\n",
       "      <td>1</td>\n",
       "      <td>Cumings, Mrs. John Bradley (Florence Briggs Th...</td>\n",
       "      <td>female</td>\n",
       "      <td>38.0</td>\n",
       "      <td>1</td>\n",
       "      <td>0</td>\n",
       "      <td>PC 17599</td>\n",
       "      <td>71.2833</td>\n",
       "      <td>C85</td>\n",
       "      <td>C</td>\n",
       "    </tr>\n",
       "    <tr>\n",
       "      <th>2</th>\n",
       "      <td>3</td>\n",
       "      <td>1</td>\n",
       "      <td>3</td>\n",
       "      <td>Heikkinen, Miss. Laina</td>\n",
       "      <td>female</td>\n",
       "      <td>26.0</td>\n",
       "      <td>0</td>\n",
       "      <td>0</td>\n",
       "      <td>STON/O2. 3101282</td>\n",
       "      <td>7.9250</td>\n",
       "      <td>NaN</td>\n",
       "      <td>S</td>\n",
       "    </tr>\n",
       "    <tr>\n",
       "      <th>3</th>\n",
       "      <td>4</td>\n",
       "      <td>1</td>\n",
       "      <td>1</td>\n",
       "      <td>Futrelle, Mrs. Jacques Heath (Lily May Peel)</td>\n",
       "      <td>female</td>\n",
       "      <td>35.0</td>\n",
       "      <td>1</td>\n",
       "      <td>0</td>\n",
       "      <td>113803</td>\n",
       "      <td>53.1000</td>\n",
       "      <td>C123</td>\n",
       "      <td>S</td>\n",
       "    </tr>\n",
       "    <tr>\n",
       "      <th>4</th>\n",
       "      <td>5</td>\n",
       "      <td>0</td>\n",
       "      <td>3</td>\n",
       "      <td>Allen, Mr. William Henry</td>\n",
       "      <td>male</td>\n",
       "      <td>35.0</td>\n",
       "      <td>0</td>\n",
       "      <td>0</td>\n",
       "      <td>373450</td>\n",
       "      <td>8.0500</td>\n",
       "      <td>NaN</td>\n",
       "      <td>S</td>\n",
       "    </tr>\n",
       "    <tr>\n",
       "      <th>5</th>\n",
       "      <td>6</td>\n",
       "      <td>0</td>\n",
       "      <td>3</td>\n",
       "      <td>Moran, Mr. James</td>\n",
       "      <td>male</td>\n",
       "      <td>NaN</td>\n",
       "      <td>0</td>\n",
       "      <td>0</td>\n",
       "      <td>330877</td>\n",
       "      <td>8.4583</td>\n",
       "      <td>NaN</td>\n",
       "      <td>Q</td>\n",
       "    </tr>\n",
       "    <tr>\n",
       "      <th>6</th>\n",
       "      <td>7</td>\n",
       "      <td>0</td>\n",
       "      <td>1</td>\n",
       "      <td>McCarthy, Mr. Timothy J</td>\n",
       "      <td>male</td>\n",
       "      <td>54.0</td>\n",
       "      <td>0</td>\n",
       "      <td>0</td>\n",
       "      <td>17463</td>\n",
       "      <td>51.8625</td>\n",
       "      <td>E46</td>\n",
       "      <td>S</td>\n",
       "    </tr>\n",
       "    <tr>\n",
       "      <th>7</th>\n",
       "      <td>8</td>\n",
       "      <td>0</td>\n",
       "      <td>3</td>\n",
       "      <td>Palsson, Master. Gosta Leonard</td>\n",
       "      <td>male</td>\n",
       "      <td>2.0</td>\n",
       "      <td>3</td>\n",
       "      <td>1</td>\n",
       "      <td>349909</td>\n",
       "      <td>21.0750</td>\n",
       "      <td>NaN</td>\n",
       "      <td>S</td>\n",
       "    </tr>\n",
       "    <tr>\n",
       "      <th>8</th>\n",
       "      <td>9</td>\n",
       "      <td>1</td>\n",
       "      <td>3</td>\n",
       "      <td>Johnson, Mrs. Oscar W (Elisabeth Vilhelmina Berg)</td>\n",
       "      <td>female</td>\n",
       "      <td>27.0</td>\n",
       "      <td>0</td>\n",
       "      <td>2</td>\n",
       "      <td>347742</td>\n",
       "      <td>11.1333</td>\n",
       "      <td>NaN</td>\n",
       "      <td>S</td>\n",
       "    </tr>\n",
       "    <tr>\n",
       "      <th>9</th>\n",
       "      <td>10</td>\n",
       "      <td>1</td>\n",
       "      <td>2</td>\n",
       "      <td>Nasser, Mrs. Nicholas (Adele Achem)</td>\n",
       "      <td>female</td>\n",
       "      <td>14.0</td>\n",
       "      <td>1</td>\n",
       "      <td>0</td>\n",
       "      <td>237736</td>\n",
       "      <td>30.0708</td>\n",
       "      <td>NaN</td>\n",
       "      <td>C</td>\n",
       "    </tr>\n",
       "    <tr>\n",
       "      <th>10</th>\n",
       "      <td>11</td>\n",
       "      <td>1</td>\n",
       "      <td>3</td>\n",
       "      <td>Sandstrom, Miss. Marguerite Rut</td>\n",
       "      <td>female</td>\n",
       "      <td>4.0</td>\n",
       "      <td>1</td>\n",
       "      <td>1</td>\n",
       "      <td>PP 9549</td>\n",
       "      <td>16.7000</td>\n",
       "      <td>G6</td>\n",
       "      <td>S</td>\n",
       "    </tr>\n",
       "    <tr>\n",
       "      <th>11</th>\n",
       "      <td>12</td>\n",
       "      <td>1</td>\n",
       "      <td>1</td>\n",
       "      <td>Bonnell, Miss. Elizabeth</td>\n",
       "      <td>female</td>\n",
       "      <td>58.0</td>\n",
       "      <td>0</td>\n",
       "      <td>0</td>\n",
       "      <td>113783</td>\n",
       "      <td>26.5500</td>\n",
       "      <td>C103</td>\n",
       "      <td>S</td>\n",
       "    </tr>\n",
       "    <tr>\n",
       "      <th>12</th>\n",
       "      <td>13</td>\n",
       "      <td>0</td>\n",
       "      <td>3</td>\n",
       "      <td>Saundercock, Mr. William Henry</td>\n",
       "      <td>male</td>\n",
       "      <td>20.0</td>\n",
       "      <td>0</td>\n",
       "      <td>0</td>\n",
       "      <td>A/5. 2151</td>\n",
       "      <td>8.0500</td>\n",
       "      <td>NaN</td>\n",
       "      <td>S</td>\n",
       "    </tr>\n",
       "    <tr>\n",
       "      <th>13</th>\n",
       "      <td>14</td>\n",
       "      <td>0</td>\n",
       "      <td>3</td>\n",
       "      <td>Andersson, Mr. Anders Johan</td>\n",
       "      <td>male</td>\n",
       "      <td>39.0</td>\n",
       "      <td>1</td>\n",
       "      <td>5</td>\n",
       "      <td>347082</td>\n",
       "      <td>31.2750</td>\n",
       "      <td>NaN</td>\n",
       "      <td>S</td>\n",
       "    </tr>\n",
       "    <tr>\n",
       "      <th>14</th>\n",
       "      <td>15</td>\n",
       "      <td>0</td>\n",
       "      <td>3</td>\n",
       "      <td>Vestrom, Miss. Hulda Amanda Adolfina</td>\n",
       "      <td>female</td>\n",
       "      <td>14.0</td>\n",
       "      <td>0</td>\n",
       "      <td>0</td>\n",
       "      <td>350406</td>\n",
       "      <td>7.8542</td>\n",
       "      <td>NaN</td>\n",
       "      <td>S</td>\n",
       "    </tr>\n",
       "  </tbody>\n",
       "</table>\n",
       "</div>"
      ],
      "text/plain": [
       "    PassengerId  Survived  Pclass  \\\n",
       "0             1         0       3   \n",
       "1             2         1       1   \n",
       "2             3         1       3   \n",
       "3             4         1       1   \n",
       "4             5         0       3   \n",
       "5             6         0       3   \n",
       "6             7         0       1   \n",
       "7             8         0       3   \n",
       "8             9         1       3   \n",
       "9            10         1       2   \n",
       "10           11         1       3   \n",
       "11           12         1       1   \n",
       "12           13         0       3   \n",
       "13           14         0       3   \n",
       "14           15         0       3   \n",
       "\n",
       "                                                 Name     Sex   Age  SibSp  \\\n",
       "0                             Braund, Mr. Owen Harris    male  22.0      1   \n",
       "1   Cumings, Mrs. John Bradley (Florence Briggs Th...  female  38.0      1   \n",
       "2                              Heikkinen, Miss. Laina  female  26.0      0   \n",
       "3        Futrelle, Mrs. Jacques Heath (Lily May Peel)  female  35.0      1   \n",
       "4                            Allen, Mr. William Henry    male  35.0      0   \n",
       "5                                    Moran, Mr. James    male   NaN      0   \n",
       "6                             McCarthy, Mr. Timothy J    male  54.0      0   \n",
       "7                      Palsson, Master. Gosta Leonard    male   2.0      3   \n",
       "8   Johnson, Mrs. Oscar W (Elisabeth Vilhelmina Berg)  female  27.0      0   \n",
       "9                 Nasser, Mrs. Nicholas (Adele Achem)  female  14.0      1   \n",
       "10                    Sandstrom, Miss. Marguerite Rut  female   4.0      1   \n",
       "11                           Bonnell, Miss. Elizabeth  female  58.0      0   \n",
       "12                     Saundercock, Mr. William Henry    male  20.0      0   \n",
       "13                        Andersson, Mr. Anders Johan    male  39.0      1   \n",
       "14               Vestrom, Miss. Hulda Amanda Adolfina  female  14.0      0   \n",
       "\n",
       "    Parch            Ticket     Fare Cabin Embarked  \n",
       "0       0         A/5 21171   7.2500   NaN        S  \n",
       "1       0          PC 17599  71.2833   C85        C  \n",
       "2       0  STON/O2. 3101282   7.9250   NaN        S  \n",
       "3       0            113803  53.1000  C123        S  \n",
       "4       0            373450   8.0500   NaN        S  \n",
       "5       0            330877   8.4583   NaN        Q  \n",
       "6       0             17463  51.8625   E46        S  \n",
       "7       1            349909  21.0750   NaN        S  \n",
       "8       2            347742  11.1333   NaN        S  \n",
       "9       0            237736  30.0708   NaN        C  \n",
       "10      1           PP 9549  16.7000    G6        S  \n",
       "11      0            113783  26.5500  C103        S  \n",
       "12      0         A/5. 2151   8.0500   NaN        S  \n",
       "13      5            347082  31.2750   NaN        S  \n",
       "14      0            350406   7.8542   NaN        S  "
      ]
     },
     "execution_count": 71,
     "metadata": {},
     "output_type": "execute_result"
    }
   ],
   "source": [
    "train.head(15)"
   ]
  },
  {
   "cell_type": "code",
   "execution_count": 72,
   "metadata": {
    "collapsed": true
   },
   "outputs": [],
   "source": [
    "y = train['Survived'] "
   ]
  },
  {
   "cell_type": "code",
   "execution_count": 73,
   "metadata": {},
   "outputs": [
    {
     "data": {
      "text/plain": [
       "0    0\n",
       "1    1\n",
       "2    1\n",
       "3    1\n",
       "4    0\n",
       "Name: Survived, dtype: int64"
      ]
     },
     "execution_count": 73,
     "metadata": {},
     "output_type": "execute_result"
    }
   ],
   "source": [
    "y.head()"
   ]
  },
  {
   "cell_type": "code",
   "execution_count": 74,
   "metadata": {
    "collapsed": true
   },
   "outputs": [],
   "source": [
    "train_X = train.drop( ['Survived', 'Name', 'Ticket', 'Cabin', 'Embarked'], axis = 1 )\n",
    "\n"
   ]
  },
  {
   "cell_type": "code",
   "execution_count": 75,
   "metadata": {
    "collapsed": true
   },
   "outputs": [],
   "source": [
    "train_X['test'] = False"
   ]
  },
  {
   "cell_type": "code",
   "execution_count": 76,
   "metadata": {
    "collapsed": true
   },
   "outputs": [],
   "source": [
    "test_X = test.drop( [ 'Name','Ticket','Cabin','Embarked'], axis=1)"
   ]
  },
  {
   "cell_type": "code",
   "execution_count": 77,
   "metadata": {
    "collapsed": true
   },
   "outputs": [],
   "source": [
    "test_X['test'] = True"
   ]
  },
  {
   "cell_type": "code",
   "execution_count": 78,
   "metadata": {},
   "outputs": [
    {
     "data": {
      "text/html": [
       "<div>\n",
       "<style>\n",
       "    .dataframe thead tr:only-child th {\n",
       "        text-align: right;\n",
       "    }\n",
       "\n",
       "    .dataframe thead th {\n",
       "        text-align: left;\n",
       "    }\n",
       "\n",
       "    .dataframe tbody tr th {\n",
       "        vertical-align: top;\n",
       "    }\n",
       "</style>\n",
       "<table border=\"1\" class=\"dataframe\">\n",
       "  <thead>\n",
       "    <tr style=\"text-align: right;\">\n",
       "      <th></th>\n",
       "      <th>PassengerId</th>\n",
       "      <th>Pclass</th>\n",
       "      <th>Sex</th>\n",
       "      <th>Age</th>\n",
       "      <th>SibSp</th>\n",
       "      <th>Parch</th>\n",
       "      <th>Fare</th>\n",
       "      <th>test</th>\n",
       "    </tr>\n",
       "  </thead>\n",
       "  <tbody>\n",
       "    <tr>\n",
       "      <th>0</th>\n",
       "      <td>1</td>\n",
       "      <td>3</td>\n",
       "      <td>male</td>\n",
       "      <td>22.0</td>\n",
       "      <td>1</td>\n",
       "      <td>0</td>\n",
       "      <td>7.2500</td>\n",
       "      <td>False</td>\n",
       "    </tr>\n",
       "    <tr>\n",
       "      <th>1</th>\n",
       "      <td>2</td>\n",
       "      <td>1</td>\n",
       "      <td>female</td>\n",
       "      <td>38.0</td>\n",
       "      <td>1</td>\n",
       "      <td>0</td>\n",
       "      <td>71.2833</td>\n",
       "      <td>False</td>\n",
       "    </tr>\n",
       "    <tr>\n",
       "      <th>2</th>\n",
       "      <td>3</td>\n",
       "      <td>3</td>\n",
       "      <td>female</td>\n",
       "      <td>26.0</td>\n",
       "      <td>0</td>\n",
       "      <td>0</td>\n",
       "      <td>7.9250</td>\n",
       "      <td>False</td>\n",
       "    </tr>\n",
       "    <tr>\n",
       "      <th>3</th>\n",
       "      <td>4</td>\n",
       "      <td>1</td>\n",
       "      <td>female</td>\n",
       "      <td>35.0</td>\n",
       "      <td>1</td>\n",
       "      <td>0</td>\n",
       "      <td>53.1000</td>\n",
       "      <td>False</td>\n",
       "    </tr>\n",
       "    <tr>\n",
       "      <th>4</th>\n",
       "      <td>5</td>\n",
       "      <td>3</td>\n",
       "      <td>male</td>\n",
       "      <td>35.0</td>\n",
       "      <td>0</td>\n",
       "      <td>0</td>\n",
       "      <td>8.0500</td>\n",
       "      <td>False</td>\n",
       "    </tr>\n",
       "  </tbody>\n",
       "</table>\n",
       "</div>"
      ],
      "text/plain": [
       "   PassengerId  Pclass     Sex   Age  SibSp  Parch     Fare   test\n",
       "0            1       3    male  22.0      1      0   7.2500  False\n",
       "1            2       1  female  38.0      1      0  71.2833  False\n",
       "2            3       3  female  26.0      0      0   7.9250  False\n",
       "3            4       1  female  35.0      1      0  53.1000  False\n",
       "4            5       3    male  35.0      0      0   8.0500  False"
      ]
     },
     "execution_count": 78,
     "metadata": {},
     "output_type": "execute_result"
    }
   ],
   "source": [
    "train_X.head()\n"
   ]
  },
  {
   "cell_type": "code",
   "execution_count": 79,
   "metadata": {},
   "outputs": [
    {
     "data": {
      "text/html": [
       "<div>\n",
       "<style>\n",
       "    .dataframe thead tr:only-child th {\n",
       "        text-align: right;\n",
       "    }\n",
       "\n",
       "    .dataframe thead th {\n",
       "        text-align: left;\n",
       "    }\n",
       "\n",
       "    .dataframe tbody tr th {\n",
       "        vertical-align: top;\n",
       "    }\n",
       "</style>\n",
       "<table border=\"1\" class=\"dataframe\">\n",
       "  <thead>\n",
       "    <tr style=\"text-align: right;\">\n",
       "      <th></th>\n",
       "      <th>PassengerId</th>\n",
       "      <th>Pclass</th>\n",
       "      <th>Sex</th>\n",
       "      <th>Age</th>\n",
       "      <th>SibSp</th>\n",
       "      <th>Parch</th>\n",
       "      <th>Fare</th>\n",
       "      <th>test</th>\n",
       "    </tr>\n",
       "  </thead>\n",
       "  <tbody>\n",
       "    <tr>\n",
       "      <th>0</th>\n",
       "      <td>892</td>\n",
       "      <td>3</td>\n",
       "      <td>male</td>\n",
       "      <td>34.5</td>\n",
       "      <td>0</td>\n",
       "      <td>0</td>\n",
       "      <td>7.8292</td>\n",
       "      <td>True</td>\n",
       "    </tr>\n",
       "    <tr>\n",
       "      <th>1</th>\n",
       "      <td>893</td>\n",
       "      <td>3</td>\n",
       "      <td>female</td>\n",
       "      <td>47.0</td>\n",
       "      <td>1</td>\n",
       "      <td>0</td>\n",
       "      <td>7.0000</td>\n",
       "      <td>True</td>\n",
       "    </tr>\n",
       "    <tr>\n",
       "      <th>2</th>\n",
       "      <td>894</td>\n",
       "      <td>2</td>\n",
       "      <td>male</td>\n",
       "      <td>62.0</td>\n",
       "      <td>0</td>\n",
       "      <td>0</td>\n",
       "      <td>9.6875</td>\n",
       "      <td>True</td>\n",
       "    </tr>\n",
       "    <tr>\n",
       "      <th>3</th>\n",
       "      <td>895</td>\n",
       "      <td>3</td>\n",
       "      <td>male</td>\n",
       "      <td>27.0</td>\n",
       "      <td>0</td>\n",
       "      <td>0</td>\n",
       "      <td>8.6625</td>\n",
       "      <td>True</td>\n",
       "    </tr>\n",
       "    <tr>\n",
       "      <th>4</th>\n",
       "      <td>896</td>\n",
       "      <td>3</td>\n",
       "      <td>female</td>\n",
       "      <td>22.0</td>\n",
       "      <td>1</td>\n",
       "      <td>1</td>\n",
       "      <td>12.2875</td>\n",
       "      <td>True</td>\n",
       "    </tr>\n",
       "  </tbody>\n",
       "</table>\n",
       "</div>"
      ],
      "text/plain": [
       "   PassengerId  Pclass     Sex   Age  SibSp  Parch     Fare  test\n",
       "0          892       3    male  34.5      0      0   7.8292  True\n",
       "1          893       3  female  47.0      1      0   7.0000  True\n",
       "2          894       2    male  62.0      0      0   9.6875  True\n",
       "3          895       3    male  27.0      0      0   8.6625  True\n",
       "4          896       3  female  22.0      1      1  12.2875  True"
      ]
     },
     "execution_count": 79,
     "metadata": {},
     "output_type": "execute_result"
    }
   ],
   "source": [
    "test_X.head()\n"
   ]
  },
  {
   "cell_type": "code",
   "execution_count": 80,
   "metadata": {
    "collapsed": true
   },
   "outputs": [],
   "source": [
    "X = pd.concat([train_X, test_X])"
   ]
  },
  {
   "cell_type": "code",
   "execution_count": 81,
   "metadata": {},
   "outputs": [
    {
     "data": {
      "text/html": [
       "<div>\n",
       "<style>\n",
       "    .dataframe thead tr:only-child th {\n",
       "        text-align: right;\n",
       "    }\n",
       "\n",
       "    .dataframe thead th {\n",
       "        text-align: left;\n",
       "    }\n",
       "\n",
       "    .dataframe tbody tr th {\n",
       "        vertical-align: top;\n",
       "    }\n",
       "</style>\n",
       "<table border=\"1\" class=\"dataframe\">\n",
       "  <thead>\n",
       "    <tr style=\"text-align: right;\">\n",
       "      <th></th>\n",
       "      <th>PassengerId</th>\n",
       "      <th>Pclass</th>\n",
       "      <th>Sex</th>\n",
       "      <th>Age</th>\n",
       "      <th>SibSp</th>\n",
       "      <th>Parch</th>\n",
       "      <th>Fare</th>\n",
       "      <th>test</th>\n",
       "    </tr>\n",
       "  </thead>\n",
       "  <tbody>\n",
       "    <tr>\n",
       "      <th>413</th>\n",
       "      <td>1305</td>\n",
       "      <td>3</td>\n",
       "      <td>male</td>\n",
       "      <td>NaN</td>\n",
       "      <td>0</td>\n",
       "      <td>0</td>\n",
       "      <td>8.0500</td>\n",
       "      <td>True</td>\n",
       "    </tr>\n",
       "    <tr>\n",
       "      <th>414</th>\n",
       "      <td>1306</td>\n",
       "      <td>1</td>\n",
       "      <td>female</td>\n",
       "      <td>39.0</td>\n",
       "      <td>0</td>\n",
       "      <td>0</td>\n",
       "      <td>108.9000</td>\n",
       "      <td>True</td>\n",
       "    </tr>\n",
       "    <tr>\n",
       "      <th>415</th>\n",
       "      <td>1307</td>\n",
       "      <td>3</td>\n",
       "      <td>male</td>\n",
       "      <td>38.5</td>\n",
       "      <td>0</td>\n",
       "      <td>0</td>\n",
       "      <td>7.2500</td>\n",
       "      <td>True</td>\n",
       "    </tr>\n",
       "    <tr>\n",
       "      <th>416</th>\n",
       "      <td>1308</td>\n",
       "      <td>3</td>\n",
       "      <td>male</td>\n",
       "      <td>NaN</td>\n",
       "      <td>0</td>\n",
       "      <td>0</td>\n",
       "      <td>8.0500</td>\n",
       "      <td>True</td>\n",
       "    </tr>\n",
       "    <tr>\n",
       "      <th>417</th>\n",
       "      <td>1309</td>\n",
       "      <td>3</td>\n",
       "      <td>male</td>\n",
       "      <td>NaN</td>\n",
       "      <td>1</td>\n",
       "      <td>1</td>\n",
       "      <td>22.3583</td>\n",
       "      <td>True</td>\n",
       "    </tr>\n",
       "  </tbody>\n",
       "</table>\n",
       "</div>"
      ],
      "text/plain": [
       "     PassengerId  Pclass     Sex   Age  SibSp  Parch      Fare  test\n",
       "413         1305       3    male   NaN      0      0    8.0500  True\n",
       "414         1306       1  female  39.0      0      0  108.9000  True\n",
       "415         1307       3    male  38.5      0      0    7.2500  True\n",
       "416         1308       3    male   NaN      0      0    8.0500  True\n",
       "417         1309       3    male   NaN      1      1   22.3583  True"
      ]
     },
     "execution_count": 81,
     "metadata": {},
     "output_type": "execute_result"
    }
   ],
   "source": [
    "X.tail()"
   ]
  },
  {
   "cell_type": "code",
   "execution_count": 82,
   "metadata": {},
   "outputs": [
    {
     "data": {
      "text/plain": [
       "(1309, 8)"
      ]
     },
     "execution_count": 82,
     "metadata": {},
     "output_type": "execute_result"
    }
   ],
   "source": [
    "X.shape"
   ]
  },
  {
   "cell_type": "code",
   "execution_count": 83,
   "metadata": {},
   "outputs": [
    {
     "name": "stdout",
     "output_type": "stream",
     "text": [
      "<class 'pandas.core.frame.DataFrame'>\n",
      "Int64Index: 1309 entries, 0 to 417\n",
      "Data columns (total 8 columns):\n",
      "PassengerId    1309 non-null int64\n",
      "Pclass         1309 non-null int64\n",
      "Sex            1309 non-null object\n",
      "Age            1046 non-null float64\n",
      "SibSp          1309 non-null int64\n",
      "Parch          1309 non-null int64\n",
      "Fare           1308 non-null float64\n",
      "test           1309 non-null bool\n",
      "dtypes: bool(1), float64(2), int64(4), object(1)\n",
      "memory usage: 83.1+ KB\n"
     ]
    }
   ],
   "source": [
    "X.info()"
   ]
  },
  {
   "cell_type": "code",
   "execution_count": 84,
   "metadata": {
    "collapsed": true
   },
   "outputs": [],
   "source": [
    "X.Age.fillna( X['Age'].median(), inplace=True )\n",
    "X.Parch.fillna( 0, inplace=True )\n",
    "X.Fare.fillna( X.Fare.median(), inplace=True )"
   ]
  },
  {
   "cell_type": "code",
   "execution_count": 85,
   "metadata": {},
   "outputs": [
    {
     "name": "stdout",
     "output_type": "stream",
     "text": [
      "<class 'pandas.core.frame.DataFrame'>\n",
      "Int64Index: 1309 entries, 0 to 417\n",
      "Data columns (total 8 columns):\n",
      "PassengerId    1309 non-null int64\n",
      "Pclass         1309 non-null int64\n",
      "Sex            1309 non-null object\n",
      "Age            1309 non-null float64\n",
      "SibSp          1309 non-null int64\n",
      "Parch          1309 non-null int64\n",
      "Fare           1309 non-null float64\n",
      "test           1309 non-null bool\n",
      "dtypes: bool(1), float64(2), int64(4), object(1)\n",
      "memory usage: 83.1+ KB\n"
     ]
    }
   ],
   "source": [
    "X.info()"
   ]
  },
  {
   "cell_type": "code",
   "execution_count": 86,
   "metadata": {
    "collapsed": true
   },
   "outputs": [],
   "source": [
    "train['ageGroup'] = 0\n",
    "train['ageGroup'] = train['Age'].apply(lambda x: 'Child' if (x<15) else \"Adult\" )"
   ]
  },
  {
   "cell_type": "code",
   "execution_count": 87,
   "metadata": {
    "collapsed": true
   },
   "outputs": [],
   "source": [
    "from sklearn.preprocessing import LabelEncoder"
   ]
  },
  {
   "cell_type": "code",
   "execution_count": 88,
   "metadata": {
    "collapsed": true
   },
   "outputs": [],
   "source": [
    "X = pd.get_dummies(X)"
   ]
  },
  {
   "cell_type": "code",
   "execution_count": 89,
   "metadata": {},
   "outputs": [
    {
     "data": {
      "text/html": [
       "<div>\n",
       "<style>\n",
       "    .dataframe thead tr:only-child th {\n",
       "        text-align: right;\n",
       "    }\n",
       "\n",
       "    .dataframe thead th {\n",
       "        text-align: left;\n",
       "    }\n",
       "\n",
       "    .dataframe tbody tr th {\n",
       "        vertical-align: top;\n",
       "    }\n",
       "</style>\n",
       "<table border=\"1\" class=\"dataframe\">\n",
       "  <thead>\n",
       "    <tr style=\"text-align: right;\">\n",
       "      <th></th>\n",
       "      <th>PassengerId</th>\n",
       "      <th>Pclass</th>\n",
       "      <th>Age</th>\n",
       "      <th>SibSp</th>\n",
       "      <th>Parch</th>\n",
       "      <th>Fare</th>\n",
       "      <th>test</th>\n",
       "      <th>Sex_female</th>\n",
       "      <th>Sex_male</th>\n",
       "    </tr>\n",
       "  </thead>\n",
       "  <tbody>\n",
       "    <tr>\n",
       "      <th>0</th>\n",
       "      <td>1</td>\n",
       "      <td>3</td>\n",
       "      <td>22.0</td>\n",
       "      <td>1</td>\n",
       "      <td>0</td>\n",
       "      <td>7.2500</td>\n",
       "      <td>False</td>\n",
       "      <td>0</td>\n",
       "      <td>1</td>\n",
       "    </tr>\n",
       "    <tr>\n",
       "      <th>1</th>\n",
       "      <td>2</td>\n",
       "      <td>1</td>\n",
       "      <td>38.0</td>\n",
       "      <td>1</td>\n",
       "      <td>0</td>\n",
       "      <td>71.2833</td>\n",
       "      <td>False</td>\n",
       "      <td>1</td>\n",
       "      <td>0</td>\n",
       "    </tr>\n",
       "    <tr>\n",
       "      <th>2</th>\n",
       "      <td>3</td>\n",
       "      <td>3</td>\n",
       "      <td>26.0</td>\n",
       "      <td>0</td>\n",
       "      <td>0</td>\n",
       "      <td>7.9250</td>\n",
       "      <td>False</td>\n",
       "      <td>1</td>\n",
       "      <td>0</td>\n",
       "    </tr>\n",
       "    <tr>\n",
       "      <th>3</th>\n",
       "      <td>4</td>\n",
       "      <td>1</td>\n",
       "      <td>35.0</td>\n",
       "      <td>1</td>\n",
       "      <td>0</td>\n",
       "      <td>53.1000</td>\n",
       "      <td>False</td>\n",
       "      <td>1</td>\n",
       "      <td>0</td>\n",
       "    </tr>\n",
       "    <tr>\n",
       "      <th>4</th>\n",
       "      <td>5</td>\n",
       "      <td>3</td>\n",
       "      <td>35.0</td>\n",
       "      <td>0</td>\n",
       "      <td>0</td>\n",
       "      <td>8.0500</td>\n",
       "      <td>False</td>\n",
       "      <td>0</td>\n",
       "      <td>1</td>\n",
       "    </tr>\n",
       "    <tr>\n",
       "      <th>5</th>\n",
       "      <td>6</td>\n",
       "      <td>3</td>\n",
       "      <td>28.0</td>\n",
       "      <td>0</td>\n",
       "      <td>0</td>\n",
       "      <td>8.4583</td>\n",
       "      <td>False</td>\n",
       "      <td>0</td>\n",
       "      <td>1</td>\n",
       "    </tr>\n",
       "    <tr>\n",
       "      <th>6</th>\n",
       "      <td>7</td>\n",
       "      <td>1</td>\n",
       "      <td>54.0</td>\n",
       "      <td>0</td>\n",
       "      <td>0</td>\n",
       "      <td>51.8625</td>\n",
       "      <td>False</td>\n",
       "      <td>0</td>\n",
       "      <td>1</td>\n",
       "    </tr>\n",
       "    <tr>\n",
       "      <th>7</th>\n",
       "      <td>8</td>\n",
       "      <td>3</td>\n",
       "      <td>2.0</td>\n",
       "      <td>3</td>\n",
       "      <td>1</td>\n",
       "      <td>21.0750</td>\n",
       "      <td>False</td>\n",
       "      <td>0</td>\n",
       "      <td>1</td>\n",
       "    </tr>\n",
       "    <tr>\n",
       "      <th>8</th>\n",
       "      <td>9</td>\n",
       "      <td>3</td>\n",
       "      <td>27.0</td>\n",
       "      <td>0</td>\n",
       "      <td>2</td>\n",
       "      <td>11.1333</td>\n",
       "      <td>False</td>\n",
       "      <td>1</td>\n",
       "      <td>0</td>\n",
       "    </tr>\n",
       "    <tr>\n",
       "      <th>9</th>\n",
       "      <td>10</td>\n",
       "      <td>2</td>\n",
       "      <td>14.0</td>\n",
       "      <td>1</td>\n",
       "      <td>0</td>\n",
       "      <td>30.0708</td>\n",
       "      <td>False</td>\n",
       "      <td>1</td>\n",
       "      <td>0</td>\n",
       "    </tr>\n",
       "  </tbody>\n",
       "</table>\n",
       "</div>"
      ],
      "text/plain": [
       "   PassengerId  Pclass   Age  SibSp  Parch     Fare   test  Sex_female  \\\n",
       "0            1       3  22.0      1      0   7.2500  False           0   \n",
       "1            2       1  38.0      1      0  71.2833  False           1   \n",
       "2            3       3  26.0      0      0   7.9250  False           1   \n",
       "3            4       1  35.0      1      0  53.1000  False           1   \n",
       "4            5       3  35.0      0      0   8.0500  False           0   \n",
       "5            6       3  28.0      0      0   8.4583  False           0   \n",
       "6            7       1  54.0      0      0  51.8625  False           0   \n",
       "7            8       3   2.0      3      1  21.0750  False           0   \n",
       "8            9       3  27.0      0      2  11.1333  False           1   \n",
       "9           10       2  14.0      1      0  30.0708  False           1   \n",
       "\n",
       "   Sex_male  \n",
       "0         1  \n",
       "1         0  \n",
       "2         0  \n",
       "3         0  \n",
       "4         1  \n",
       "5         1  \n",
       "6         1  \n",
       "7         1  \n",
       "8         0  \n",
       "9         0  "
      ]
     },
     "execution_count": 89,
     "metadata": {},
     "output_type": "execute_result"
    }
   ],
   "source": [
    "X.head(10)"
   ]
  },
  {
   "cell_type": "code",
   "execution_count": 90,
   "metadata": {
    "collapsed": true
   },
   "outputs": [],
   "source": [
    "X['Relatives'] = (X.SibSp + X.Parch).astype(bool)"
   ]
  },
  {
   "cell_type": "code",
   "execution_count": 91,
   "metadata": {},
   "outputs": [
    {
     "name": "stdout",
     "output_type": "stream",
     "text": [
      "<class 'pandas.core.frame.DataFrame'>\n",
      "Int64Index: 1309 entries, 0 to 417\n",
      "Data columns (total 10 columns):\n",
      "PassengerId    1309 non-null int64\n",
      "Pclass         1309 non-null int64\n",
      "Age            1309 non-null float64\n",
      "SibSp          1309 non-null int64\n",
      "Parch          1309 non-null int64\n",
      "Fare           1309 non-null float64\n",
      "test           1309 non-null bool\n",
      "Sex_female     1309 non-null uint8\n",
      "Sex_male       1309 non-null uint8\n",
      "Relatives      1309 non-null bool\n",
      "dtypes: bool(2), float64(2), int64(4), uint8(2)\n",
      "memory usage: 76.7 KB\n"
     ]
    }
   ],
   "source": [
    "X.info()"
   ]
  },
  {
   "cell_type": "code",
   "execution_count": 92,
   "metadata": {
    "collapsed": true
   },
   "outputs": [],
   "source": [
    "X_train_prep = X[X.test == False].drop(['test'], axis=1)"
   ]
  },
  {
   "cell_type": "code",
   "execution_count": 93,
   "metadata": {
    "collapsed": true
   },
   "outputs": [],
   "source": [
    "X_test_prep = X[X.test == True].drop(['test'], axis=1)"
   ]
  },
  {
   "cell_type": "code",
   "execution_count": 94,
   "metadata": {
    "collapsed": true
   },
   "outputs": [],
   "source": [
    "from sklearn.model_selection import GridSearchCV\n",
    "from sklearn.tree import DecisionTreeClassifier"
   ]
  },
  {
   "cell_type": "code",
   "execution_count": 95,
   "metadata": {
    "collapsed": true
   },
   "outputs": [],
   "source": [
    "grid = {'max_depth':[1,3,5,10,15],\n",
    "       'min_samples_leaf':[1,5,10,30, 70, 50,100]}\n",
    "\n",
    "\n",
    "gridsearch = GridSearchCV(DecisionTreeClassifier(),\n",
    "                          grid,\n",
    "                          cv=5,\n",
    "                         scoring='neg_log_loss')"
   ]
  },
  {
   "cell_type": "code",
   "execution_count": 96,
   "metadata": {},
   "outputs": [
    {
     "data": {
      "text/plain": [
       "GridSearchCV(cv=5, error_score='raise',\n",
       "       estimator=DecisionTreeClassifier(class_weight=None, criterion='gini', max_depth=None,\n",
       "            max_features=None, max_leaf_nodes=None,\n",
       "            min_impurity_split=1e-07, min_samples_leaf=1,\n",
       "            min_samples_split=2, min_weight_fraction_leaf=0.0,\n",
       "            presort=False, random_state=None, splitter='best'),\n",
       "       fit_params={}, iid=True, n_jobs=1,\n",
       "       param_grid={'max_depth': [1, 3, 5, 10, 15], 'min_samples_leaf': [1, 5, 10, 30, 70, 50, 100]},\n",
       "       pre_dispatch='2*n_jobs', refit=True, return_train_score=True,\n",
       "       scoring='neg_log_loss', verbose=0)"
      ]
     },
     "execution_count": 96,
     "metadata": {},
     "output_type": "execute_result"
    }
   ],
   "source": [
    "gridsearch.fit(X_train_prep, y)"
   ]
  },
  {
   "cell_type": "code",
   "execution_count": 98,
   "metadata": {
    "scrolled": true
   },
   "outputs": [
    {
     "name": "stdout",
     "output_type": "stream",
     "text": [
      "{'mean_fit_time': array([ 0.01421065,  0.01501088,  0.0074007 ,  0.        ,  0.01486807,\n",
      "        0.01202221,  0.00625029,  0.00805187,  0.00937176,  0.00937505,\n",
      "        0.0093751 ,  0.00624995,  0.00937524,  0.00624976,  0.0093751 ,\n",
      "        0.00937157,  0.00937505,  0.0125    ,  0.00937438,  0.00937548,\n",
      "        0.00751305,  0.00978374,  0.01161408,  0.02081809,  0.01501102,\n",
      "        0.01200776,  0.0062499 ,  0.00624571,  0.01605244,  0.02061467,\n",
      "        0.0178153 ,  0.01524835,  0.01681304,  0.01280875,  0.01098785]),\n",
      " 'mean_score_time': array([ 0.00720487,  0.00700641,  0.00312428,  0.00937514,  0.00079827,\n",
      "        0.00060015,  0.00624475,  0.00373139,  0.0031249 ,  0.0031249 ,\n",
      "        0.0031251 ,  0.00625019,  0.003125  ,  0.0031251 ,  0.00625014,\n",
      "        0.00312529,  0.00625   ,  0.00312519,  0.00312519,  0.003125  ,\n",
      "        0.00392504,  0.00492606,  0.00472727,  0.00800457,  0.00720506,\n",
      "        0.00320358,  0.00313063,  0.00624981,  0.00612812,  0.00800538,\n",
      "        0.00620193,  0.00710793,  0.00809274,  0.00540385,  0.00170326]),\n",
      " 'mean_test_score': array([-0.51587881, -0.51587881, -0.51587881, -0.51587881, -0.51587881,\n",
      "       -0.51587881, -0.51587881, -1.5113581 , -0.52266498, -0.51628927,\n",
      "       -0.44593895, -0.45165792, -0.45496693, -0.45701495, -2.05483553,\n",
      "       -1.10664777, -1.0082977 , -0.70462661, -0.45195357, -0.45988033,\n",
      "       -0.45691479, -5.87819989, -2.90237872, -1.76058744, -0.73828993,\n",
      "       -0.45258199, -0.45988033, -0.45691479, -7.84294946, -3.2976134 ,\n",
      "       -1.8657651 , -0.73904051, -0.45227929, -0.45988033, -0.45691479]),\n",
      " 'mean_train_score': array([-0.51495265, -0.51495265, -0.51495265, -0.51495265, -0.51495265,\n",
      "       -0.51495265, -0.51495265, -0.39813611, -0.3983113 , -0.40087038,\n",
      "       -0.41834565, -0.44019704, -0.42466115, -0.44219769, -0.33265975,\n",
      "       -0.34443942, -0.35426514, -0.39932802, -0.43642783, -0.41665085,\n",
      "       -0.4418426 , -0.1364469 , -0.24857191, -0.31048867, -0.39157848,\n",
      "       -0.43642783, -0.41514889, -0.4418426 , -0.03362588, -0.21834298,\n",
      "       -0.29862961, -0.39157426, -0.43642783, -0.41514889, -0.4418426 ]),\n",
      " 'param_max_depth': masked_array(data = [1 1 1 1 1 1 1 3 3 3 3 3 3 3 5 5 5 5 5 5 5 10 10 10 10 10 10 10 15 15 15 15\n",
      " 15 15 15],\n",
      "             mask = [False False False False False False False False False False False False\n",
      " False False False False False False False False False False False False\n",
      " False False False False False False False False False False False],\n",
      "       fill_value = ?)\n",
      ",\n",
      " 'param_min_samples_leaf': masked_array(data = [1 5 10 30 70 50 100 1 5 10 30 70 50 100 1 5 10 30 70 50 100 1 5 10 30 70\n",
      " 50 100 1 5 10 30 70 50 100],\n",
      "             mask = [False False False False False False False False False False False False\n",
      " False False False False False False False False False False False False\n",
      " False False False False False False False False False False False],\n",
      "       fill_value = ?)\n",
      ",\n",
      " 'params': ({'max_depth': 1, 'min_samples_leaf': 1},\n",
      "            {'max_depth': 1, 'min_samples_leaf': 5},\n",
      "            {'max_depth': 1, 'min_samples_leaf': 10},\n",
      "            {'max_depth': 1, 'min_samples_leaf': 30},\n",
      "            {'max_depth': 1, 'min_samples_leaf': 70},\n",
      "            {'max_depth': 1, 'min_samples_leaf': 50},\n",
      "            {'max_depth': 1, 'min_samples_leaf': 100},\n",
      "            {'max_depth': 3, 'min_samples_leaf': 1},\n",
      "            {'max_depth': 3, 'min_samples_leaf': 5},\n",
      "            {'max_depth': 3, 'min_samples_leaf': 10},\n",
      "            {'max_depth': 3, 'min_samples_leaf': 30},\n",
      "            {'max_depth': 3, 'min_samples_leaf': 70},\n",
      "            {'max_depth': 3, 'min_samples_leaf': 50},\n",
      "            {'max_depth': 3, 'min_samples_leaf': 100},\n",
      "            {'max_depth': 5, 'min_samples_leaf': 1},\n",
      "            {'max_depth': 5, 'min_samples_leaf': 5},\n",
      "            {'max_depth': 5, 'min_samples_leaf': 10},\n",
      "            {'max_depth': 5, 'min_samples_leaf': 30},\n",
      "            {'max_depth': 5, 'min_samples_leaf': 70},\n",
      "            {'max_depth': 5, 'min_samples_leaf': 50},\n",
      "            {'max_depth': 5, 'min_samples_leaf': 100},\n",
      "            {'max_depth': 10, 'min_samples_leaf': 1},\n",
      "            {'max_depth': 10, 'min_samples_leaf': 5},\n",
      "            {'max_depth': 10, 'min_samples_leaf': 10},\n",
      "            {'max_depth': 10, 'min_samples_leaf': 30},\n",
      "            {'max_depth': 10, 'min_samples_leaf': 70},\n",
      "            {'max_depth': 10, 'min_samples_leaf': 50},\n",
      "            {'max_depth': 10, 'min_samples_leaf': 100},\n",
      "            {'max_depth': 15, 'min_samples_leaf': 1},\n",
      "            {'max_depth': 15, 'min_samples_leaf': 5},\n",
      "            {'max_depth': 15, 'min_samples_leaf': 10},\n",
      "            {'max_depth': 15, 'min_samples_leaf': 30},\n",
      "            {'max_depth': 15, 'min_samples_leaf': 70},\n",
      "            {'max_depth': 15, 'min_samples_leaf': 50},\n",
      "            {'max_depth': 15, 'min_samples_leaf': 100}),\n",
      " 'rank_test_score': array([14, 14, 14, 14, 14, 14, 14, 28, 22, 21,  1,  2,  6, 10, 31, 27, 26,\n",
      "       23,  3, 11,  7, 34, 32, 29, 24,  5, 11,  7, 35, 33, 30, 25,  4, 11,\n",
      "        7]),\n",
      " 'split0_test_score': array([ -0.49085031,  -0.49085031,  -0.49085031,  -0.49085031,\n",
      "        -0.49085031,  -0.49085031,  -0.49085031,  -5.45347018,\n",
      "        -0.70608203,  -0.66268079,  -0.45515602,  -0.49091686,\n",
      "        -0.45791908,  -0.49368751,  -6.18152293,  -0.88845898,\n",
      "        -0.65389878,  -0.48472821,  -0.48844845,  -0.46343454,\n",
      "        -0.49368751,  -9.89616744,  -2.22927389,  -1.41459109,\n",
      "        -0.48472821,  -0.49157649,  -0.46343454,  -0.49368751,\n",
      "       -14.08564624,  -3.150271  ,  -1.41459109,  -0.48846436,\n",
      "        -0.49157649,  -0.46343454,  -0.49368751]),\n",
      " 'split0_train_score': array([ -5.21234346e-01,  -5.21234346e-01,  -5.21234346e-01,\n",
      "        -5.21234346e-01,  -5.21234346e-01,  -5.21234346e-01,\n",
      "        -5.21234346e-01,  -3.79744229e-01,  -3.84286537e-01,\n",
      "        -3.85228189e-01,  -4.17603263e-01,  -4.30369077e-01,\n",
      "        -4.21288939e-01,  -4.33298727e-01,  -3.27776871e-01,\n",
      "        -3.39302066e-01,  -3.50197332e-01,  -3.98441403e-01,\n",
      "        -4.25099334e-01,  -4.13708043e-01,  -4.33298727e-01,\n",
      "        -8.95263035e-02,  -2.17843911e-01,  -2.99149953e-01,\n",
      "        -3.92389458e-01,  -4.25099334e-01,  -4.13708043e-01,\n",
      "        -4.33298727e-01,  -9.99200722e-16,  -2.05873871e-01,\n",
      "        -2.99149953e-01,  -3.92368351e-01,  -4.25099334e-01,\n",
      "        -4.13708043e-01,  -4.33298727e-01]),\n",
      " 'split1_test_score': array([-0.4919124 , -0.4919124 , -0.4919124 , -0.4919124 , -0.4919124 ,\n",
      "       -0.4919124 , -0.4919124 , -0.66932393, -0.66932393, -0.67288391,\n",
      "       -0.49349693, -0.48214171, -0.49586237, -0.48164671, -1.04128215,\n",
      "       -1.07810254, -1.38483315, -0.67481315, -0.48391791, -0.49370398,\n",
      "       -0.48164671, -5.32220489, -5.12383043, -2.43940639, -0.67661058,\n",
      "       -0.48391791, -0.49370398, -0.48164671, -6.75339203, -5.31105677,\n",
      "       -2.80222749, -0.67661058, -0.48391791, -0.49370398, -0.48164671]),\n",
      " 'split1_train_score': array([-0.52094253, -0.52094253, -0.52094253, -0.52094253, -0.52094253,\n",
      "       -0.52094253, -0.52094253, -0.38380406, -0.38380406, -0.38393288,\n",
      "       -0.40892403, -0.43540292, -0.41549224, -0.4360998 , -0.31895276,\n",
      "       -0.33667369, -0.33740303, -0.38821935, -0.4306655 , -0.40766141,\n",
      "       -0.4360998 , -0.11466594, -0.23162089, -0.29579894, -0.38170176,\n",
      "       -0.4306655 , -0.40766141, -0.4360998 , -0.00978581, -0.20941041,\n",
      "       -0.27706523, -0.38170176, -0.4306655 , -0.40766141, -0.4360998 ]),\n",
      " 'split2_test_score': array([-0.51424204, -0.51424204, -0.51424204, -0.51424204, -0.51424204,\n",
      "       -0.51424204, -0.51424204, -0.58775349, -0.40851959, -0.41667033,\n",
      "       -0.417296  , -0.42076956, -0.45442979, -0.42363364, -1.50590466,\n",
      "       -1.1187114 , -1.11909089, -0.45492105, -0.42464109, -0.47886899,\n",
      "       -0.423342  , -3.13187818, -1.113643  , -1.1418061 , -0.4551115 ,\n",
      "       -0.42464109, -0.47886899, -0.423342  , -6.2369946 , -1.99878412,\n",
      "       -1.82470608, -0.4551115 , -0.42464109, -0.47886899, -0.423342  ]),\n",
      " 'split2_train_score': array([-0.51524903, -0.51524903, -0.51524903, -0.51524903, -0.51524903,\n",
      "       -0.51524903, -0.51524903, -0.41040456, -0.40814178, -0.41725167,\n",
      "       -0.42136259, -0.44906918, -0.4228369 , -0.44975964, -0.34362742,\n",
      "       -0.35344989, -0.36455755, -0.39507135, -0.44395391, -0.41242564,\n",
      "       -0.4485343 , -0.17162854, -0.26430248, -0.32480821, -0.39051912,\n",
      "       -0.44395391, -0.41242564, -0.4485343 , -0.04148245, -0.22889597,\n",
      "       -0.31519828, -0.39051912, -0.44395391, -0.41242564, -0.4485343 ]),\n",
      " 'split3_test_score': array([-0.56415504, -0.56415504, -0.56415504, -0.56415504, -0.56415504,\n",
      "       -0.56415504, -0.56415504, -0.431205  , -0.42938994, -0.42938994,\n",
      "       -0.43879491, -0.43832593, -0.43580425, -0.45010894, -0.97759301,\n",
      "       -0.97963931, -0.97413152, -1.12932512, -0.43874637, -0.43005084,\n",
      "       -0.45010894, -5.92151291, -3.5195781 , -2.0078919 , -1.30349319,\n",
      "       -0.43874637, -0.43005084, -0.45010894, -7.02071286, -3.50250481,\n",
      "       -2.36187925, -1.30349319, -0.43723114, -0.43005084, -0.45010894]),\n",
      " 'split3_train_score': array([-0.50314512, -0.50314512, -0.50314512, -0.50314512, -0.50314512,\n",
      "       -0.50314512, -0.50314512, -0.39706623, -0.39606468, -0.39867974,\n",
      "       -0.41873144, -0.44007377, -0.42926915, -0.44558422, -0.33566739,\n",
      "       -0.34973879, -0.35864479, -0.40053293, -0.43977235, -0.41966322,\n",
      "       -0.44558422, -0.14788877, -0.26316733, -0.30355585, -0.38596861,\n",
      "       -0.43977235, -0.41803781, -0.44558422, -0.0667563 , -0.22303088,\n",
      "       -0.2944793 , -0.38596861, -0.43977235, -0.41803781, -0.44558422]),\n",
      " 'split4_test_score': array([-0.51852437, -0.51852437, -0.51852437, -0.51852437, -0.51852437,\n",
      "       -0.51852437, -0.51852437, -0.39132945, -0.3974516 , -0.3974516 ,\n",
      "       -0.42451155, -0.42559731, -0.430435  , -0.43553287, -0.54188564,\n",
      "       -1.47176396, -0.90885113, -0.78117846, -0.42346942, -0.43298222,\n",
      "       -0.43532193, -5.09538894, -2.51469157, -1.79757975, -0.77347484,\n",
      "       -0.42346942, -0.43298222, -0.43532193, -5.07349258, -2.51054485,\n",
      "       -0.91736716, -0.77347484, -0.42346942, -0.43298222, -0.43532193]),\n",
      " 'split4_train_score': array([-0.51419223, -0.51419223, -0.51419223, -0.51419223, -0.51419223,\n",
      "       -0.51419223, -0.51419223, -0.41966149, -0.41925942, -0.41925942,\n",
      "       -0.42510693, -0.44607028, -0.43441851, -0.44624607, -0.3372743 ,\n",
      "       -0.34303266, -0.360523  , -0.41437509, -0.44264807, -0.42979595,\n",
      "       -0.44569594, -0.15852493, -0.26592494, -0.32913038, -0.40731345,\n",
      "       -0.44264807, -0.42391157, -0.44569594, -0.05010483, -0.22450375,\n",
      "       -0.30725527, -0.40731345, -0.44264807, -0.42391157, -0.44569594]),\n",
      " 'std_fit_time': array([ 0.00312618,  0.00490343,  0.00685787,  0.        ,  0.00151446,\n",
      "        0.00451255,  0.00765501,  0.00700463,  0.00765201,  0.00765469,\n",
      "        0.00765473,  0.0076546 ,  0.00765485,  0.00765436,  0.00765473,\n",
      "        0.00765186,  0.00765469,  0.00625   ,  0.00765415,  0.00765504,\n",
      "        0.00941566,  0.00590738,  0.00608357,  0.0073125 ,  0.00385005,\n",
      "        0.00384745,  0.00765454,  0.0076494 ,  0.01013873,  0.0030749 ,\n",
      "        0.00318747,  0.00270948,  0.00282422,  0.00204208,  0.00582822]),\n",
      " 'std_score_time': array([ 0.00074881,  0.00275879,  0.00624857,  0.00765477,  0.00159655,\n",
      "        0.00120029,  0.00764824,  0.00607364,  0.00624981,  0.00624981,\n",
      "        0.00625019,  0.00765489,  0.00625   ,  0.00625019,  0.00765483,\n",
      "        0.00625057,  0.00765466,  0.00625038,  0.00625038,  0.00625   ,\n",
      "        0.00605184,  0.0057246 ,  0.00573743,  0.00189565,  0.00240431,\n",
      "        0.00271667,  0.00626125,  0.00765442,  0.00602725,  0.00141307,\n",
      "        0.00213106,  0.00213321,  0.00244446,  0.00198618,  0.00213885]),\n",
      " 'std_test_score': array([ 0.02662259,  0.02662259,  0.02662259,  0.02662259,  0.02662259,\n",
      "        0.02662259,  0.02662259,  1.9791788 ,  0.1361441 ,  0.12461281,\n",
      "        0.02714321,  0.02928058,  0.02303713,  0.02675606,  2.0914895 ,\n",
      "        0.19864999,  0.24158985,  0.24402263,  0.02859865,  0.02501785,\n",
      "        0.02686248,  2.22132465,  1.35187923,  0.45343697,  0.30621217,\n",
      "        0.02941635,  0.02501785,  0.02686248,  3.20026362,  1.13457163,\n",
      "        0.66727944,  0.30559367,  0.02956459,  0.02501785,  0.02686248]),\n",
      " 'std_train_score': array([ 0.00656388,  0.00656388,  0.00656388,  0.00656388,  0.00656388,\n",
      "        0.00656388,  0.00656388,  0.01522281,  0.01376709,  0.0151186 ,\n",
      "        0.00537185,  0.00682345,  0.00656061,  0.00634692,  0.00851298,\n",
      "        0.00629206,  0.00964524,  0.00860435,  0.007322  ,  0.00760514,\n",
      "        0.0059934 ,  0.03010666,  0.01996573,  0.01374759,  0.0086993 ,\n",
      "        0.007322  ,  0.00548972,  0.0059934 ,  0.02501981,  0.00901739,\n",
      "        0.01289528,  0.00869891,  0.007322  ,  0.00548972,  0.0059934 ])}\n"
     ]
    }
   ],
   "source": [
    "from pprint import pprint\n",
    "\n",
    "pprint(gridsearch.cv_results_)"
   ]
  },
  {
   "cell_type": "code",
   "execution_count": 99,
   "metadata": {},
   "outputs": [
    {
     "name": "stderr",
     "output_type": "stream",
     "text": [
      "C:\\Users\\Slava-N\\Anaconda3\\lib\\site-packages\\sklearn\\model_selection\\_search.py:667: DeprecationWarning: The grid_scores_ attribute was deprecated in version 0.18 in favor of the more elaborate cv_results_ attribute. The grid_scores_ attribute will not be available from 0.20\n",
      "  DeprecationWarning)\n"
     ]
    },
    {
     "data": {
      "text/plain": [
       "[mean: -0.44594, std: 0.02712, params: {'max_depth': 3, 'min_samples_leaf': 30},\n",
       " mean: -0.45166, std: 0.02926, params: {'max_depth': 3, 'min_samples_leaf': 70},\n",
       " mean: -0.45195, std: 0.02858, params: {'max_depth': 5, 'min_samples_leaf': 70},\n",
       " mean: -0.45228, std: 0.02955, params: {'max_depth': 15, 'min_samples_leaf': 70},\n",
       " mean: -0.45258, std: 0.02940, params: {'max_depth': 10, 'min_samples_leaf': 70},\n",
       " mean: -0.45497, std: 0.02302, params: {'max_depth': 3, 'min_samples_leaf': 50},\n",
       " mean: -0.45691, std: 0.02685, params: {'max_depth': 5, 'min_samples_leaf': 100},\n",
       " mean: -0.45691, std: 0.02685, params: {'max_depth': 10, 'min_samples_leaf': 100},\n",
       " mean: -0.45691, std: 0.02685, params: {'max_depth': 15, 'min_samples_leaf': 100},\n",
       " mean: -0.45701, std: 0.02674, params: {'max_depth': 3, 'min_samples_leaf': 100},\n",
       " mean: -0.45988, std: 0.02502, params: {'max_depth': 5, 'min_samples_leaf': 50},\n",
       " mean: -0.45988, std: 0.02502, params: {'max_depth': 10, 'min_samples_leaf': 50},\n",
       " mean: -0.45988, std: 0.02502, params: {'max_depth': 15, 'min_samples_leaf': 50},\n",
       " mean: -0.51588, std: 0.02661, params: {'max_depth': 1, 'min_samples_leaf': 1},\n",
       " mean: -0.51588, std: 0.02661, params: {'max_depth': 1, 'min_samples_leaf': 5},\n",
       " mean: -0.51588, std: 0.02661, params: {'max_depth': 1, 'min_samples_leaf': 10},\n",
       " mean: -0.51588, std: 0.02661, params: {'max_depth': 1, 'min_samples_leaf': 30},\n",
       " mean: -0.51588, std: 0.02661, params: {'max_depth': 1, 'min_samples_leaf': 70},\n",
       " mean: -0.51588, std: 0.02661, params: {'max_depth': 1, 'min_samples_leaf': 50},\n",
       " mean: -0.51588, std: 0.02661, params: {'max_depth': 1, 'min_samples_leaf': 100},\n",
       " mean: -0.51629, std: 0.12454, params: {'max_depth': 3, 'min_samples_leaf': 10},\n",
       " mean: -0.52266, std: 0.13606, params: {'max_depth': 3, 'min_samples_leaf': 5},\n",
       " mean: -0.70463, std: 0.24406, params: {'max_depth': 5, 'min_samples_leaf': 30},\n",
       " mean: -0.73829, std: 0.30626, params: {'max_depth': 10, 'min_samples_leaf': 30},\n",
       " mean: -0.73904, std: 0.30564, params: {'max_depth': 15, 'min_samples_leaf': 30},\n",
       " mean: -1.00830, std: 0.24113, params: {'max_depth': 5, 'min_samples_leaf': 10},\n",
       " mean: -1.10665, std: 0.19900, params: {'max_depth': 5, 'min_samples_leaf': 5},\n",
       " mean: -1.51136, std: 1.97603, params: {'max_depth': 3, 'min_samples_leaf': 1},\n",
       " mean: -1.76059, std: 0.45297, params: {'max_depth': 10, 'min_samples_leaf': 10},\n",
       " mean: -1.86577, std: 0.66750, params: {'max_depth': 15, 'min_samples_leaf': 10},\n",
       " mean: -2.05484, std: 2.08842, params: {'max_depth': 5, 'min_samples_leaf': 1},\n",
       " mean: -2.90238, std: 1.35046, params: {'max_depth': 10, 'min_samples_leaf': 5},\n",
       " mean: -3.29761, std: 1.13349, params: {'max_depth': 15, 'min_samples_leaf': 5},\n",
       " mean: -5.87820, std: 2.21856, params: {'max_depth': 10, 'min_samples_leaf': 1},\n",
       " mean: -7.84295, std: 3.19634, params: {'max_depth': 15, 'min_samples_leaf': 1}]"
      ]
     },
     "execution_count": 99,
     "metadata": {},
     "output_type": "execute_result"
    }
   ],
   "source": [
    "sorted(gridsearch.grid_scores_, key = lambda x: -x.mean_validation_score)"
   ]
  },
  {
   "cell_type": "code",
   "execution_count": 109,
   "metadata": {
    "collapsed": true
   },
   "outputs": [],
   "source": [
    "model = DecisionTreeClassifier( max_depth=3, min_samples_leaf=30 )"
   ]
  },
  {
   "cell_type": "code",
   "execution_count": 110,
   "metadata": {},
   "outputs": [
    {
     "data": {
      "text/plain": [
       "DecisionTreeClassifier(class_weight=None, criterion='gini', max_depth=3,\n",
       "            max_features=None, max_leaf_nodes=None,\n",
       "            min_impurity_split=1e-07, min_samples_leaf=30,\n",
       "            min_samples_split=2, min_weight_fraction_leaf=0.0,\n",
       "            presort=False, random_state=None, splitter='best')"
      ]
     },
     "execution_count": 110,
     "metadata": {},
     "output_type": "execute_result"
    }
   ],
   "source": [
    "model.fit(X_train_prep, y)"
   ]
  },
  {
   "cell_type": "code",
   "execution_count": 111,
   "metadata": {},
   "outputs": [
    {
     "name": "stdout",
     "output_type": "stream",
     "text": [
      "<class 'pandas.core.frame.DataFrame'>\n",
      "Int64Index: 418 entries, 0 to 417\n",
      "Data columns (total 9 columns):\n",
      "PassengerId    418 non-null int64\n",
      "Pclass         418 non-null int64\n",
      "Age            418 non-null float64\n",
      "SibSp          418 non-null int64\n",
      "Parch          418 non-null int64\n",
      "Fare           418 non-null float64\n",
      "Sex_female     418 non-null uint8\n",
      "Sex_male       418 non-null uint8\n",
      "Relatives      418 non-null bool\n",
      "dtypes: bool(1), float64(2), int64(4), uint8(2)\n",
      "memory usage: 24.1 KB\n"
     ]
    }
   ],
   "source": [
    "X_test_prep.info()"
   ]
  },
  {
   "cell_type": "code",
   "execution_count": 130,
   "metadata": {},
   "outputs": [
    {
     "data": {
      "text/plain": [
       "array([ 0.        ,  0.16715275,  0.06081122,  0.        ,  0.        ,\n",
       "        0.10463834,  0.6673977 ,  0.        ,  0.        ])"
      ]
     },
     "execution_count": 130,
     "metadata": {},
     "output_type": "execute_result"
    }
   ],
   "source": [
    "model.feature_importances_"
   ]
  },
  {
   "cell_type": "code",
   "execution_count": 129,
   "metadata": {},
   "outputs": [
    {
     "data": {
      "text/plain": [
       "([<matplotlib.axis.YTick at 0x2f60e7c4160>,\n",
       "  <matplotlib.axis.YTick at 0x2f60e7c46a0>,\n",
       "  <matplotlib.axis.YTick at 0x2f60e7bb4e0>,\n",
       "  <matplotlib.axis.YTick at 0x2f60e83a4a8>,\n",
       "  <matplotlib.axis.YTick at 0x2f60e83ae80>,\n",
       "  <matplotlib.axis.YTick at 0x2f60e83e898>,\n",
       "  <matplotlib.axis.YTick at 0x2f60e8452b0>,\n",
       "  <matplotlib.axis.YTick at 0x2f60e845c88>,\n",
       "  <matplotlib.axis.YTick at 0x2f60e84d6a0>],\n",
       " <a list of 9 Text yticklabel objects>)"
      ]
     },
     "execution_count": 129,
     "metadata": {},
     "output_type": "execute_result"
    },
    {
     "data": {
      "image/png": "[encoded data removed]",
      "text/plain": [
       "<matplotlib.figure.Figure at 0x2f60e320be0>"
      ]
     },
     "metadata": {},
     "output_type": "display_data"
    }
   ],
   "source": [
    "plt.barh(np.arange(len(model.feature_importances_)), model.feature_importances_)\n",
    "plt.yticks(np.arange(len(X_train_prep.columns)),X_train_prep.columns)"
   ]
  },
  {
   "cell_type": "code",
   "execution_count": 138,
   "metadata": {},
   "outputs": [],
   "source": [
    "from sklearn.tree import export_graphviz\n",
    "export_graphviz(model, out_file='tree.dot',filled=True, feature_names=X_train_prep.columns)                \n"
   ]
  },
  {
   "cell_type": "code",
   "execution_count": 112,
   "metadata": {},
   "outputs": [
    {
     "data": {
      "text/html": [
       "<div>\n",
       "<style>\n",
       "    .dataframe thead tr:only-child th {\n",
       "        text-align: right;\n",
       "    }\n",
       "\n",
       "    .dataframe thead th {\n",
       "        text-align: left;\n",
       "    }\n",
       "\n",
       "    .dataframe tbody tr th {\n",
       "        vertical-align: top;\n",
       "    }\n",
       "</style>\n",
       "<table border=\"1\" class=\"dataframe\">\n",
       "  <thead>\n",
       "    <tr style=\"text-align: right;\">\n",
       "      <th></th>\n",
       "      <th>PassengerId</th>\n",
       "      <th>Pclass</th>\n",
       "      <th>Age</th>\n",
       "      <th>SibSp</th>\n",
       "      <th>Parch</th>\n",
       "      <th>Fare</th>\n",
       "      <th>Sex_female</th>\n",
       "      <th>Sex_male</th>\n",
       "      <th>Relatives</th>\n",
       "    </tr>\n",
       "  </thead>\n",
       "  <tbody>\n",
       "    <tr>\n",
       "      <th>0</th>\n",
       "      <td>1</td>\n",
       "      <td>3</td>\n",
       "      <td>22.0</td>\n",
       "      <td>1</td>\n",
       "      <td>0</td>\n",
       "      <td>7.2500</td>\n",
       "      <td>0</td>\n",
       "      <td>1</td>\n",
       "      <td>True</td>\n",
       "    </tr>\n",
       "    <tr>\n",
       "      <th>1</th>\n",
       "      <td>2</td>\n",
       "      <td>1</td>\n",
       "      <td>38.0</td>\n",
       "      <td>1</td>\n",
       "      <td>0</td>\n",
       "      <td>71.2833</td>\n",
       "      <td>1</td>\n",
       "      <td>0</td>\n",
       "      <td>True</td>\n",
       "    </tr>\n",
       "    <tr>\n",
       "      <th>2</th>\n",
       "      <td>3</td>\n",
       "      <td>3</td>\n",
       "      <td>26.0</td>\n",
       "      <td>0</td>\n",
       "      <td>0</td>\n",
       "      <td>7.9250</td>\n",
       "      <td>1</td>\n",
       "      <td>0</td>\n",
       "      <td>False</td>\n",
       "    </tr>\n",
       "    <tr>\n",
       "      <th>3</th>\n",
       "      <td>4</td>\n",
       "      <td>1</td>\n",
       "      <td>35.0</td>\n",
       "      <td>1</td>\n",
       "      <td>0</td>\n",
       "      <td>53.1000</td>\n",
       "      <td>1</td>\n",
       "      <td>0</td>\n",
       "      <td>True</td>\n",
       "    </tr>\n",
       "    <tr>\n",
       "      <th>4</th>\n",
       "      <td>5</td>\n",
       "      <td>3</td>\n",
       "      <td>35.0</td>\n",
       "      <td>0</td>\n",
       "      <td>0</td>\n",
       "      <td>8.0500</td>\n",
       "      <td>0</td>\n",
       "      <td>1</td>\n",
       "      <td>False</td>\n",
       "    </tr>\n",
       "  </tbody>\n",
       "</table>\n",
       "</div>"
      ],
      "text/plain": [
       "   PassengerId  Pclass   Age  SibSp  Parch     Fare  Sex_female  Sex_male  \\\n",
       "0            1       3  22.0      1      0   7.2500           0         1   \n",
       "1            2       1  38.0      1      0  71.2833           1         0   \n",
       "2            3       3  26.0      0      0   7.9250           1         0   \n",
       "3            4       1  35.0      1      0  53.1000           1         0   \n",
       "4            5       3  35.0      0      0   8.0500           0         1   \n",
       "\n",
       "   Relatives  \n",
       "0       True  \n",
       "1       True  \n",
       "2      False  \n",
       "3       True  \n",
       "4      False  "
      ]
     },
     "execution_count": 112,
     "metadata": {},
     "output_type": "execute_result"
    }
   ],
   "source": [
    "X_train_prep.head()"
   ]
  },
  {
   "cell_type": "code",
   "execution_count": 113,
   "metadata": {
    "collapsed": true
   },
   "outputs": [],
   "source": [
    "y_predicted = model.predict(X_test_prep)"
   ]
  },
  {
   "cell_type": "code",
   "execution_count": 114,
   "metadata": {
    "collapsed": true
   },
   "outputs": [],
   "source": [
    "y_predicted_pd = pd.DataFrame(y_predicted,columns = ['Survived'])"
   ]
  },
  {
   "cell_type": "code",
   "execution_count": 115,
   "metadata": {},
   "outputs": [
    {
     "data": {
      "text/html": [
       "<div>\n",
       "<style>\n",
       "    .dataframe thead tr:only-child th {\n",
       "        text-align: right;\n",
       "    }\n",
       "\n",
       "    .dataframe thead th {\n",
       "        text-align: left;\n",
       "    }\n",
       "\n",
       "    .dataframe tbody tr th {\n",
       "        vertical-align: top;\n",
       "    }\n",
       "</style>\n",
       "<table border=\"1\" class=\"dataframe\">\n",
       "  <thead>\n",
       "    <tr style=\"text-align: right;\">\n",
       "      <th></th>\n",
       "      <th>Survived</th>\n",
       "    </tr>\n",
       "  </thead>\n",
       "  <tbody>\n",
       "    <tr>\n",
       "      <th>0</th>\n",
       "      <td>0</td>\n",
       "    </tr>\n",
       "    <tr>\n",
       "      <th>1</th>\n",
       "      <td>1</td>\n",
       "    </tr>\n",
       "    <tr>\n",
       "      <th>2</th>\n",
       "      <td>0</td>\n",
       "    </tr>\n",
       "    <tr>\n",
       "      <th>3</th>\n",
       "      <td>0</td>\n",
       "    </tr>\n",
       "    <tr>\n",
       "      <th>4</th>\n",
       "      <td>1</td>\n",
       "    </tr>\n",
       "    <tr>\n",
       "      <th>5</th>\n",
       "      <td>0</td>\n",
       "    </tr>\n",
       "    <tr>\n",
       "      <th>6</th>\n",
       "      <td>1</td>\n",
       "    </tr>\n",
       "    <tr>\n",
       "      <th>7</th>\n",
       "      <td>0</td>\n",
       "    </tr>\n",
       "    <tr>\n",
       "      <th>8</th>\n",
       "      <td>1</td>\n",
       "    </tr>\n",
       "    <tr>\n",
       "      <th>9</th>\n",
       "      <td>0</td>\n",
       "    </tr>\n",
       "  </tbody>\n",
       "</table>\n",
       "</div>"
      ],
      "text/plain": [
       "   Survived\n",
       "0         0\n",
       "1         1\n",
       "2         0\n",
       "3         0\n",
       "4         1\n",
       "5         0\n",
       "6         1\n",
       "7         0\n",
       "8         1\n",
       "9         0"
      ]
     },
     "execution_count": 115,
     "metadata": {},
     "output_type": "execute_result"
    }
   ],
   "source": [
    "y_predicted_pd.head(10)"
   ]
  },
  {
   "cell_type": "code",
   "execution_count": 116,
   "metadata": {
    "collapsed": true
   },
   "outputs": [],
   "source": [
    "from sklearn import metrics\n",
    "true_y = pd.read_csv('titanic/true_y.csv')\n"
   ]
  },
  {
   "cell_type": "code",
   "execution_count": 117,
   "metadata": {},
   "outputs": [
    {
     "data": {
      "text/plain": [
       "0    266\n",
       "1    152\n",
       "Name: Survived, dtype: int64"
      ]
     },
     "execution_count": 117,
     "metadata": {},
     "output_type": "execute_result"
    }
   ],
   "source": [
    "true_y_check = pd.Series(true_y.Survived)\n",
    "true_y_check.value_counts()"
   ]
  },
  {
   "cell_type": "code",
   "execution_count": 118,
   "metadata": {},
   "outputs": [
    {
     "data": {
      "text/html": [
       "<div>\n",
       "<style>\n",
       "    .dataframe thead tr:only-child th {\n",
       "        text-align: right;\n",
       "    }\n",
       "\n",
       "    .dataframe thead th {\n",
       "        text-align: left;\n",
       "    }\n",
       "\n",
       "    .dataframe tbody tr th {\n",
       "        vertical-align: top;\n",
       "    }\n",
       "</style>\n",
       "<table border=\"1\" class=\"dataframe\">\n",
       "  <thead>\n",
       "    <tr style=\"text-align: right;\">\n",
       "      <th></th>\n",
       "      <th>PassengerId</th>\n",
       "      <th>Survived</th>\n",
       "    </tr>\n",
       "  </thead>\n",
       "  <tbody>\n",
       "    <tr>\n",
       "      <th>0</th>\n",
       "      <td>892</td>\n",
       "      <td>0</td>\n",
       "    </tr>\n",
       "    <tr>\n",
       "      <th>1</th>\n",
       "      <td>893</td>\n",
       "      <td>1</td>\n",
       "    </tr>\n",
       "    <tr>\n",
       "      <th>2</th>\n",
       "      <td>894</td>\n",
       "      <td>0</td>\n",
       "    </tr>\n",
       "    <tr>\n",
       "      <th>3</th>\n",
       "      <td>895</td>\n",
       "      <td>0</td>\n",
       "    </tr>\n",
       "    <tr>\n",
       "      <th>4</th>\n",
       "      <td>896</td>\n",
       "      <td>1</td>\n",
       "    </tr>\n",
       "  </tbody>\n",
       "</table>\n",
       "</div>"
      ],
      "text/plain": [
       "   PassengerId  Survived\n",
       "0          892         0\n",
       "1          893         1\n",
       "2          894         0\n",
       "3          895         0\n",
       "4          896         1"
      ]
     },
     "execution_count": 118,
     "metadata": {},
     "output_type": "execute_result"
    }
   ],
   "source": [
    "true_y.head()"
   ]
  },
  {
   "cell_type": "code",
   "execution_count": 119,
   "metadata": {},
   "outputs": [
    {
     "data": {
      "text/plain": [
       "0.9425837320574163"
      ]
     },
     "execution_count": 119,
     "metadata": {},
     "output_type": "execute_result"
    }
   ],
   "source": [
    "metrics.accuracy_score(true_y_check, y_predicted_pd)"
   ]
  },
  {
   "cell_type": "code",
   "execution_count": 120,
   "metadata": {},
   "outputs": [
    {
     "data": {
      "text/html": [
       "<div>\n",
       "<style>\n",
       "    .dataframe thead tr:only-child th {\n",
       "        text-align: right;\n",
       "    }\n",
       "\n",
       "    .dataframe thead th {\n",
       "        text-align: left;\n",
       "    }\n",
       "\n",
       "    .dataframe tbody tr th {\n",
       "        vertical-align: top;\n",
       "    }\n",
       "</style>\n",
       "<table border=\"1\" class=\"dataframe\">\n",
       "  <thead>\n",
       "    <tr style=\"text-align: right;\">\n",
       "      <th></th>\n",
       "      <th>PassengerId</th>\n",
       "      <th>Pclass</th>\n",
       "      <th>Age</th>\n",
       "      <th>SibSp</th>\n",
       "      <th>Parch</th>\n",
       "      <th>Fare</th>\n",
       "      <th>Sex_female</th>\n",
       "      <th>Sex_male</th>\n",
       "      <th>Relatives</th>\n",
       "    </tr>\n",
       "  </thead>\n",
       "  <tbody>\n",
       "    <tr>\n",
       "      <th>0</th>\n",
       "      <td>892</td>\n",
       "      <td>3</td>\n",
       "      <td>34.5</td>\n",
       "      <td>0</td>\n",
       "      <td>0</td>\n",
       "      <td>7.8292</td>\n",
       "      <td>0</td>\n",
       "      <td>1</td>\n",
       "      <td>False</td>\n",
       "    </tr>\n",
       "    <tr>\n",
       "      <th>1</th>\n",
       "      <td>893</td>\n",
       "      <td>3</td>\n",
       "      <td>47.0</td>\n",
       "      <td>1</td>\n",
       "      <td>0</td>\n",
       "      <td>7.0000</td>\n",
       "      <td>1</td>\n",
       "      <td>0</td>\n",
       "      <td>True</td>\n",
       "    </tr>\n",
       "    <tr>\n",
       "      <th>2</th>\n",
       "      <td>894</td>\n",
       "      <td>2</td>\n",
       "      <td>62.0</td>\n",
       "      <td>0</td>\n",
       "      <td>0</td>\n",
       "      <td>9.6875</td>\n",
       "      <td>0</td>\n",
       "      <td>1</td>\n",
       "      <td>False</td>\n",
       "    </tr>\n",
       "    <tr>\n",
       "      <th>3</th>\n",
       "      <td>895</td>\n",
       "      <td>3</td>\n",
       "      <td>27.0</td>\n",
       "      <td>0</td>\n",
       "      <td>0</td>\n",
       "      <td>8.6625</td>\n",
       "      <td>0</td>\n",
       "      <td>1</td>\n",
       "      <td>False</td>\n",
       "    </tr>\n",
       "    <tr>\n",
       "      <th>4</th>\n",
       "      <td>896</td>\n",
       "      <td>3</td>\n",
       "      <td>22.0</td>\n",
       "      <td>1</td>\n",
       "      <td>1</td>\n",
       "      <td>12.2875</td>\n",
       "      <td>1</td>\n",
       "      <td>0</td>\n",
       "      <td>True</td>\n",
       "    </tr>\n",
       "  </tbody>\n",
       "</table>\n",
       "</div>"
      ],
      "text/plain": [
       "   PassengerId  Pclass   Age  SibSp  Parch     Fare  Sex_female  Sex_male  \\\n",
       "0          892       3  34.5      0      0   7.8292           0         1   \n",
       "1          893       3  47.0      1      0   7.0000           1         0   \n",
       "2          894       2  62.0      0      0   9.6875           0         1   \n",
       "3          895       3  27.0      0      0   8.6625           0         1   \n",
       "4          896       3  22.0      1      1  12.2875           1         0   \n",
       "\n",
       "   Relatives  \n",
       "0      False  \n",
       "1       True  \n",
       "2      False  \n",
       "3      False  \n",
       "4       True  "
      ]
     },
     "execution_count": 120,
     "metadata": {},
     "output_type": "execute_result"
    }
   ],
   "source": [
    "X_test_prep.head()"
   ]
  },
  {
   "cell_type": "code",
   "execution_count": 121,
   "metadata": {},
   "outputs": [
    {
     "data": {
      "text/plain": [
       "0    892\n",
       "1    893\n",
       "2    894\n",
       "3    895\n",
       "4    896\n",
       "5    897\n",
       "6    898\n",
       "7    899\n",
       "8    900\n",
       "9    901\n",
       "Name: PassengerId, dtype: int64"
      ]
     },
     "execution_count": 121,
     "metadata": {},
     "output_type": "execute_result"
    }
   ],
   "source": [
    " X_test_prep.PassengerId.head(10)"
   ]
  },
  {
   "cell_type": "code",
   "execution_count": 66,
   "metadata": {
    "collapsed": true
   },
   "outputs": [],
   "source": [
    "results = pd.DataFrame(list(zip(X_test_prep['PassengerId'], y_predicted_pd['Survived'])), columns=['PassengerId', 'Survived'])"
   ]
  },
  {
   "cell_type": "code",
   "execution_count": 122,
   "metadata": {
    "collapsed": true
   },
   "outputs": [],
   "source": [
    "results.to_csv('decision_tree_6_94.csv', index=False, sep=',')"
   ]
  },
  {
   "cell_type": "code",
   "execution_count": null,
   "metadata": {
    "collapsed": true
   },
   "outputs": [],
   "source": []
  }
 ],
 "metadata": {
  "kernelspec": {
   "display_name": "Python 3",
   "language": "python",
   "name": "python3"
  },
  "language_info": {
   "codemirror_mode": {
    "name": "ipython",
    "version": 3
   },
   "file_extension": ".py",
   "mimetype": "text/x-python",
   "name": "python",
   "nbconvert_exporter": "python",
   "pygments_lexer": "ipython3",
   "version": "3.6.1"
  }
 },
 "nbformat": 4,
 "nbformat_minor": 2
}
